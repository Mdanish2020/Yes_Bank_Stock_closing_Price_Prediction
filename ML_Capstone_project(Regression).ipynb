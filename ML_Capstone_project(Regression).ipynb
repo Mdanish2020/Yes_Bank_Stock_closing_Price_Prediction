{
  "nbformat": 4,
  "nbformat_minor": 0,
  "metadata": {
    "colab": {
      "name": "ML_Capstone_project(Regression).ipynb",
      "provenance": [],
      "collapsed_sections": [],
      "mount_file_id": "1NLW_edDYtVtKmjqeswyQbYsjIWYJfFS6",
      "authorship_tag": "ABX9TyOnkCgp3OAu0HHq+41hr3HX",
      "include_colab_link": true
    },
    "kernelspec": {
      "display_name": "Python 3",
      "name": "python3"
    },
    "language_info": {
      "name": "python"
    }
  },
  "cells": [
    {
      "cell_type": "markdown",
      "metadata": {
        "id": "view-in-github",
        "colab_type": "text"
      },
      "source": [
        "<a href=\"https://colab.research.google.com/github/Mdanish2020/Yes_Bank_Stock_closing_Price_Prediction/blob/main/ML_Capstone_project(Regression).ipynb\" target=\"_parent\"><img src=\"https://colab.research.google.com/assets/colab-badge.svg\" alt=\"Open In Colab\"/></a>"
      ]
    },
    {
      "cell_type": "markdown",
      "metadata": {
        "id": "zcQoQM5R2UWr"
      },
      "source": [
        "## <b> Yes Bank is a well-known bank in the Indian financial domain. Since 2018, it has been in the news because of the fraud case involving Rana Kapoor. Owing to this fact, it was interesting to see how that impacted the stock prices of the company and whether Time series models or any other predictive models can do justice to such situations. This dataset has monthly stock prices of the bank since its inception and includes closing, starting, highest, and lowest stock prices of every month. The main objective is to predict the stock’s closing price of the month </b>"
      ]
    },
    {
      "cell_type": "markdown",
      "metadata": {
        "id": "RgTQD-tQ3kun"
      },
      "source": [
        "<b>\"Trying to know our data because if you know your data then only you can implent your ideas and get insights from it\"</b>\n",
        "\n",
        "We understood our problem and what our objective is, in order to predict the stock's closing price of the month there are few things that'll be required or you can say that (mandatory) to perform regression analysis or building a better model which can easily and accurately predict our desired output.\n",
        "\n",
        "So, to build a well performing model, we have divided our task into several steps:\n",
        "\n",
        "<b>Univariate Analysis</b>:\n",
        "\n",
        "<b>Bivariate Analysis</b>:\n",
        "\n",
        "<b>Introducing hypothesis</b>:"
      ]
    },
    {
      "cell_type": "code",
      "metadata": {
        "id": "S6pswnZq2ETD"
      },
      "source": [
        "# import libraries \n",
        "import numpy as np\n",
        "import pandas as pd\n",
        "import matplotlib.pyplot as plt\n",
        "import seaborn as sns \n",
        "from scipy.stats import norm\n",
        "from sklearn.preprocessing import StandardScaler\n",
        "from scipy import stats\n",
        "import warnings\n",
        "warnings.filterwarnings('ignore')\n",
        "%matplotlib inline"
      ],
      "execution_count": 1,
      "outputs": []
    },
    {
      "cell_type": "markdown",
      "metadata": {
        "id": "D1TnaR5y6tdS"
      },
      "source": [
        "### <b> LET'S INVITE OUR DATASET</b>"
      ]
    },
    {
      "cell_type": "code",
      "metadata": {
        "id": "RgA_W1zUHqo7"
      },
      "source": [
        "#Import dataset\n",
        "stock_df = pd.read_csv('/content/drive/MyDrive/Data/data_YesBank_StockPrices.csv')"
      ],
      "execution_count": 2,
      "outputs": []
    },
    {
      "cell_type": "code",
      "metadata": {
        "colab": {
          "base_uri": "https://localhost:8080/",
          "height": 204
        },
        "id": "y9dhs0IfJEt6",
        "outputId": "0153c2c4-42af-4ee0-e65b-b2bc378c4ebc"
      },
      "source": [
        "#Reading first 5 rows of dataset\n",
        "stock_df.head()"
      ],
      "execution_count": 3,
      "outputs": [
        {
          "output_type": "execute_result",
          "data": {
            "text/html": [
              "<div>\n",
              "<style scoped>\n",
              "    .dataframe tbody tr th:only-of-type {\n",
              "        vertical-align: middle;\n",
              "    }\n",
              "\n",
              "    .dataframe tbody tr th {\n",
              "        vertical-align: top;\n",
              "    }\n",
              "\n",
              "    .dataframe thead th {\n",
              "        text-align: right;\n",
              "    }\n",
              "</style>\n",
              "<table border=\"1\" class=\"dataframe\">\n",
              "  <thead>\n",
              "    <tr style=\"text-align: right;\">\n",
              "      <th></th>\n",
              "      <th>Date</th>\n",
              "      <th>Open</th>\n",
              "      <th>High</th>\n",
              "      <th>Low</th>\n",
              "      <th>Close</th>\n",
              "    </tr>\n",
              "  </thead>\n",
              "  <tbody>\n",
              "    <tr>\n",
              "      <th>0</th>\n",
              "      <td>Jul-05</td>\n",
              "      <td>13.00</td>\n",
              "      <td>14.00</td>\n",
              "      <td>11.25</td>\n",
              "      <td>12.46</td>\n",
              "    </tr>\n",
              "    <tr>\n",
              "      <th>1</th>\n",
              "      <td>Aug-05</td>\n",
              "      <td>12.58</td>\n",
              "      <td>14.88</td>\n",
              "      <td>12.55</td>\n",
              "      <td>13.42</td>\n",
              "    </tr>\n",
              "    <tr>\n",
              "      <th>2</th>\n",
              "      <td>Sep-05</td>\n",
              "      <td>13.48</td>\n",
              "      <td>14.87</td>\n",
              "      <td>12.27</td>\n",
              "      <td>13.30</td>\n",
              "    </tr>\n",
              "    <tr>\n",
              "      <th>3</th>\n",
              "      <td>Oct-05</td>\n",
              "      <td>13.20</td>\n",
              "      <td>14.47</td>\n",
              "      <td>12.40</td>\n",
              "      <td>12.99</td>\n",
              "    </tr>\n",
              "    <tr>\n",
              "      <th>4</th>\n",
              "      <td>Nov-05</td>\n",
              "      <td>13.35</td>\n",
              "      <td>13.88</td>\n",
              "      <td>12.88</td>\n",
              "      <td>13.41</td>\n",
              "    </tr>\n",
              "  </tbody>\n",
              "</table>\n",
              "</div>"
            ],
            "text/plain": [
              "     Date   Open   High    Low  Close\n",
              "0  Jul-05  13.00  14.00  11.25  12.46\n",
              "1  Aug-05  12.58  14.88  12.55  13.42\n",
              "2  Sep-05  13.48  14.87  12.27  13.30\n",
              "3  Oct-05  13.20  14.47  12.40  12.99\n",
              "4  Nov-05  13.35  13.88  12.88  13.41"
            ]
          },
          "metadata": {},
          "execution_count": 3
        }
      ]
    },
    {
      "cell_type": "code",
      "metadata": {
        "colab": {
          "base_uri": "https://localhost:8080/"
        },
        "id": "j-i9OS_kmoba",
        "outputId": "130ffe90-016e-4bee-aea8-e4fa83cf4b26"
      },
      "source": [
        "#get the number of rows and columns in the dataset \n",
        "stock_df.shape"
      ],
      "execution_count": 4,
      "outputs": [
        {
          "output_type": "execute_result",
          "data": {
            "text/plain": [
              "(185, 5)"
            ]
          },
          "metadata": {},
          "execution_count": 4
        }
      ]
    },
    {
      "cell_type": "markdown",
      "metadata": {
        "id": "k1DEBqEdqdwi"
      },
      "source": [
        "We have 185 instances in our dataset and 5 columns on which we are going to work on."
      ]
    },
    {
      "cell_type": "code",
      "metadata": {
        "colab": {
          "base_uri": "https://localhost:8080/"
        },
        "id": "IJYS6YEqJVkG",
        "outputId": "44bbbadc-5448-4f71-a559-ccb0c6f5795a"
      },
      "source": [
        "#Getting all info about our dataset\n",
        "stock_df.info()"
      ],
      "execution_count": 5,
      "outputs": [
        {
          "output_type": "stream",
          "name": "stdout",
          "text": [
            "<class 'pandas.core.frame.DataFrame'>\n",
            "RangeIndex: 185 entries, 0 to 184\n",
            "Data columns (total 5 columns):\n",
            " #   Column  Non-Null Count  Dtype  \n",
            "---  ------  --------------  -----  \n",
            " 0   Date    185 non-null    object \n",
            " 1   Open    185 non-null    float64\n",
            " 2   High    185 non-null    float64\n",
            " 3   Low     185 non-null    float64\n",
            " 4   Close   185 non-null    float64\n",
            "dtypes: float64(4), object(1)\n",
            "memory usage: 7.4+ KB\n"
          ]
        }
      ]
    },
    {
      "cell_type": "markdown",
      "metadata": {
        "id": "gqpyAxM5Jh3M"
      },
      "source": [
        "**Hurray! There is no null values in any instances.**\n",
        "\n",
        "But **Date** have values in object data type. So, we need to convert it into proper date format.\n",
        "\n",
        "## <b> Performing some feature Engineering</b>"
      ]
    },
    {
      "cell_type": "code",
      "metadata": {
        "id": "QPAj2EncKCOL"
      },
      "source": [
        "#importing datetime\n",
        "from datetime import datetime\n",
        "stock_df['Date'] = stock_df['Date'].apply(lambda x: datetime.strptime(x,\"%b-%y\"))"
      ],
      "execution_count": 6,
      "outputs": []
    },
    {
      "cell_type": "code",
      "metadata": {
        "id": "dlLSCX7icKfT"
      },
      "source": [
        "#introducing new features of name year\n",
        "stock_df['Year'] = stock_df['Date'].apply(lambda z: z.strftime('%Y'))"
      ],
      "execution_count": 7,
      "outputs": []
    },
    {
      "cell_type": "code",
      "metadata": {
        "id": "NDK2JHx_nY8K"
      },
      "source": [
        "#changing datatypes of features Month and Year\n",
        "stock_df['Year'] = stock_df['Year'].astype(float)"
      ],
      "execution_count": 8,
      "outputs": []
    },
    {
      "cell_type": "code",
      "metadata": {
        "colab": {
          "base_uri": "https://localhost:8080/",
          "height": 142
        },
        "id": "WHrUbQTcUEbB",
        "outputId": "2e949937-dd15-4f99-e088-959b00d7b17e"
      },
      "source": [
        "stock_df.head(3)"
      ],
      "execution_count": 9,
      "outputs": [
        {
          "output_type": "execute_result",
          "data": {
            "text/html": [
              "<div>\n",
              "<style scoped>\n",
              "    .dataframe tbody tr th:only-of-type {\n",
              "        vertical-align: middle;\n",
              "    }\n",
              "\n",
              "    .dataframe tbody tr th {\n",
              "        vertical-align: top;\n",
              "    }\n",
              "\n",
              "    .dataframe thead th {\n",
              "        text-align: right;\n",
              "    }\n",
              "</style>\n",
              "<table border=\"1\" class=\"dataframe\">\n",
              "  <thead>\n",
              "    <tr style=\"text-align: right;\">\n",
              "      <th></th>\n",
              "      <th>Date</th>\n",
              "      <th>Open</th>\n",
              "      <th>High</th>\n",
              "      <th>Low</th>\n",
              "      <th>Close</th>\n",
              "      <th>Year</th>\n",
              "    </tr>\n",
              "  </thead>\n",
              "  <tbody>\n",
              "    <tr>\n",
              "      <th>0</th>\n",
              "      <td>2005-07-01</td>\n",
              "      <td>13.00</td>\n",
              "      <td>14.00</td>\n",
              "      <td>11.25</td>\n",
              "      <td>12.46</td>\n",
              "      <td>2005.0</td>\n",
              "    </tr>\n",
              "    <tr>\n",
              "      <th>1</th>\n",
              "      <td>2005-08-01</td>\n",
              "      <td>12.58</td>\n",
              "      <td>14.88</td>\n",
              "      <td>12.55</td>\n",
              "      <td>13.42</td>\n",
              "      <td>2005.0</td>\n",
              "    </tr>\n",
              "    <tr>\n",
              "      <th>2</th>\n",
              "      <td>2005-09-01</td>\n",
              "      <td>13.48</td>\n",
              "      <td>14.87</td>\n",
              "      <td>12.27</td>\n",
              "      <td>13.30</td>\n",
              "      <td>2005.0</td>\n",
              "    </tr>\n",
              "  </tbody>\n",
              "</table>\n",
              "</div>"
            ],
            "text/plain": [
              "        Date   Open   High    Low  Close    Year\n",
              "0 2005-07-01  13.00  14.00  11.25  12.46  2005.0\n",
              "1 2005-08-01  12.58  14.88  12.55  13.42  2005.0\n",
              "2 2005-09-01  13.48  14.87  12.27  13.30  2005.0"
            ]
          },
          "metadata": {},
          "execution_count": 9
        }
      ]
    },
    {
      "cell_type": "code",
      "metadata": {
        "colab": {
          "base_uri": "https://localhost:8080/"
        },
        "id": "HdEzfJMGm3ZC",
        "outputId": "cc8f66be-1ce6-4da4-b339-bf99772c3ebd"
      },
      "source": [
        "stock_df.info()"
      ],
      "execution_count": 10,
      "outputs": [
        {
          "output_type": "stream",
          "name": "stdout",
          "text": [
            "<class 'pandas.core.frame.DataFrame'>\n",
            "RangeIndex: 185 entries, 0 to 184\n",
            "Data columns (total 6 columns):\n",
            " #   Column  Non-Null Count  Dtype         \n",
            "---  ------  --------------  -----         \n",
            " 0   Date    185 non-null    datetime64[ns]\n",
            " 1   Open    185 non-null    float64       \n",
            " 2   High    185 non-null    float64       \n",
            " 3   Low     185 non-null    float64       \n",
            " 4   Close   185 non-null    float64       \n",
            " 5   Year    185 non-null    float64       \n",
            "dtypes: datetime64[ns](1), float64(5)\n",
            "memory usage: 8.8 KB\n"
          ]
        }
      ]
    },
    {
      "cell_type": "code",
      "metadata": {
        "colab": {
          "base_uri": "https://localhost:8080/",
          "height": 297
        },
        "id": "bYXhCKZZL-qz",
        "outputId": "547b5826-845f-476e-a726-39a2163a618c"
      },
      "source": [
        "#Descriptive Statistics\n",
        "stock_df.describe()"
      ],
      "execution_count": 11,
      "outputs": [
        {
          "output_type": "execute_result",
          "data": {
            "text/html": [
              "<div>\n",
              "<style scoped>\n",
              "    .dataframe tbody tr th:only-of-type {\n",
              "        vertical-align: middle;\n",
              "    }\n",
              "\n",
              "    .dataframe tbody tr th {\n",
              "        vertical-align: top;\n",
              "    }\n",
              "\n",
              "    .dataframe thead th {\n",
              "        text-align: right;\n",
              "    }\n",
              "</style>\n",
              "<table border=\"1\" class=\"dataframe\">\n",
              "  <thead>\n",
              "    <tr style=\"text-align: right;\">\n",
              "      <th></th>\n",
              "      <th>Open</th>\n",
              "      <th>High</th>\n",
              "      <th>Low</th>\n",
              "      <th>Close</th>\n",
              "      <th>Year</th>\n",
              "    </tr>\n",
              "  </thead>\n",
              "  <tbody>\n",
              "    <tr>\n",
              "      <th>count</th>\n",
              "      <td>185.000000</td>\n",
              "      <td>185.000000</td>\n",
              "      <td>185.000000</td>\n",
              "      <td>185.000000</td>\n",
              "      <td>185.000000</td>\n",
              "    </tr>\n",
              "    <tr>\n",
              "      <th>mean</th>\n",
              "      <td>105.541405</td>\n",
              "      <td>116.104324</td>\n",
              "      <td>94.947838</td>\n",
              "      <td>105.204703</td>\n",
              "      <td>2012.702703</td>\n",
              "    </tr>\n",
              "    <tr>\n",
              "      <th>std</th>\n",
              "      <td>98.879850</td>\n",
              "      <td>106.333497</td>\n",
              "      <td>91.219415</td>\n",
              "      <td>98.583153</td>\n",
              "      <td>4.471315</td>\n",
              "    </tr>\n",
              "    <tr>\n",
              "      <th>min</th>\n",
              "      <td>10.000000</td>\n",
              "      <td>11.240000</td>\n",
              "      <td>5.550000</td>\n",
              "      <td>9.980000</td>\n",
              "      <td>2005.000000</td>\n",
              "    </tr>\n",
              "    <tr>\n",
              "      <th>25%</th>\n",
              "      <td>33.800000</td>\n",
              "      <td>36.140000</td>\n",
              "      <td>28.510000</td>\n",
              "      <td>33.450000</td>\n",
              "      <td>2009.000000</td>\n",
              "    </tr>\n",
              "    <tr>\n",
              "      <th>50%</th>\n",
              "      <td>62.980000</td>\n",
              "      <td>72.550000</td>\n",
              "      <td>58.000000</td>\n",
              "      <td>62.540000</td>\n",
              "      <td>2013.000000</td>\n",
              "    </tr>\n",
              "    <tr>\n",
              "      <th>75%</th>\n",
              "      <td>153.000000</td>\n",
              "      <td>169.190000</td>\n",
              "      <td>138.350000</td>\n",
              "      <td>153.300000</td>\n",
              "      <td>2017.000000</td>\n",
              "    </tr>\n",
              "    <tr>\n",
              "      <th>max</th>\n",
              "      <td>369.950000</td>\n",
              "      <td>404.000000</td>\n",
              "      <td>345.500000</td>\n",
              "      <td>367.900000</td>\n",
              "      <td>2020.000000</td>\n",
              "    </tr>\n",
              "  </tbody>\n",
              "</table>\n",
              "</div>"
            ],
            "text/plain": [
              "             Open        High         Low       Close         Year\n",
              "count  185.000000  185.000000  185.000000  185.000000   185.000000\n",
              "mean   105.541405  116.104324   94.947838  105.204703  2012.702703\n",
              "std     98.879850  106.333497   91.219415   98.583153     4.471315\n",
              "min     10.000000   11.240000    5.550000    9.980000  2005.000000\n",
              "25%     33.800000   36.140000   28.510000   33.450000  2009.000000\n",
              "50%     62.980000   72.550000   58.000000   62.540000  2013.000000\n",
              "75%    153.000000  169.190000  138.350000  153.300000  2017.000000\n",
              "max    369.950000  404.000000  345.500000  367.900000  2020.000000"
            ]
          },
          "metadata": {},
          "execution_count": 11
        }
      ]
    },
    {
      "cell_type": "markdown",
      "metadata": {
        "id": "KGLOqThqMQPl"
      },
      "source": [
        "As it is clearly shown in the descriptive statistics table, there is very high variation within features like **High**, **Low** and **Close**. \n",
        "\n"
      ]
    },
    {
      "cell_type": "code",
      "metadata": {
        "colab": {
          "base_uri": "https://localhost:8080/"
        },
        "id": "CbV9o68UP8Q-",
        "outputId": "ed37b649-19b0-4d87-a5b0-352760838c27"
      },
      "source": [
        "#cheking is there any duplication in our data.\n",
        "len(stock_df[stock_df.duplicated()])"
      ],
      "execution_count": 12,
      "outputs": [
        {
          "output_type": "execute_result",
          "data": {
            "text/plain": [
              "0"
            ]
          },
          "metadata": {},
          "execution_count": 12
        }
      ]
    },
    {
      "cell_type": "markdown",
      "metadata": {
        "id": "g75PMMUPQSki"
      },
      "source": [
        "There is no duplication in our data which is a good sign otherwise we have to deal with that too."
      ]
    },
    {
      "cell_type": "markdown",
      "metadata": {
        "id": "hA2OWicvN8nE"
      },
      "source": [
        "## <b> VISUALIZING THE DEPENDENT VARIABLE</B>"
      ]
    },
    {
      "cell_type": "code",
      "metadata": {
        "colab": {
          "base_uri": "https://localhost:8080/",
          "height": 518
        },
        "id": "3V691WN5NKrR",
        "outputId": "d07ccb30-c5c1-483f-d5bf-8de457ffc64b"
      },
      "source": [
        "# trend of dependent variable \n",
        "plt.figure(figsize = (14,8))\n",
        "plt.grid(True)\n",
        "plt.title('Trend of Yes bank closing price',fontweight = 'bold')\n",
        "plt.plot(stock_df['Date'],stock_df['Close'])\n",
        "plt.xlabel('Date',fontsize = 16)\n",
        "plt.ylabel('Closing Stock Price (₹)',fontsize = 16)\n",
        "plt.show()"
      ],
      "execution_count": 13,
      "outputs": [
        {
          "output_type": "display_data",
          "data": {
            "image/png": "[encoded data removed]",
            "text/plain": [
              "<Figure size 1008x576 with 1 Axes>"
            ]
          },
          "metadata": {
            "needs_background": "light"
          }
        }
      ]
    },
    {
      "cell_type": "markdown",
      "metadata": {
        "id": "1VX9lcLAz0Fq"
      },
      "source": [
        "This plot of Closing prices of different dates give a very vivid picture of fluctuation in prices regarding different time-duration. After 2018 there is sudden fall in the stock closing price. It makes sense how severly Rana Kapoor case fraud affected the price of Yes bank stocks."
      ]
    },
    {
      "cell_type": "code",
      "metadata": {
        "colab": {
          "base_uri": "https://localhost:8080/",
          "height": 427
        },
        "id": "b9RacAhjQ1fR",
        "outputId": "7756db97-2255-4ae5-e231-6132be2c180c"
      },
      "source": [
        "#Checking the distribution of our dependent variable \n",
        "plt.figure(figsize = (10,6))\n",
        "sns.distplot(stock_df['Close'],color = 'indigo')\n",
        "plt.title('Distribution of the Close Price',fontsize = 16)\n",
        "plt.xlabel('Close',fontsize = 14)\n",
        "plt.ylabel('Density',fontsize = 14)\n"
      ],
      "execution_count": 14,
      "outputs": [
        {
          "output_type": "execute_result",
          "data": {
            "text/plain": [
              "Text(0, 0.5, 'Density')"
            ]
          },
          "metadata": {},
          "execution_count": 14
        },
        {
          "output_type": "display_data",
          "data": {
            "image/png": "[encoded data removed]",
            "text/plain": [
              "<Figure size 720x432 with 1 Axes>"
            ]
          },
          "metadata": {
            "needs_background": "light"
          }
        }
      ]
    },
    {
      "cell_type": "markdown",
      "metadata": {
        "id": "gOJa2WN0W8s4"
      },
      "source": [
        "The distribution of Stock Closing Price is rightly skewed distribution. It may lead us to misleading results in view of statistical hyposthesis. It can be corrected by applying **Log Transformation** then we'll have a look how this data behave."
      ]
    },
    {
      "cell_type": "code",
      "metadata": {
        "colab": {
          "base_uri": "https://localhost:8080/",
          "height": 423
        },
        "id": "pE389PeMXrvV",
        "outputId": "5523913a-7022-4043-fbcb-ea65dbe9a31e"
      },
      "source": [
        "#Distribution after applying Log Transformation\n",
        "plt.figure(figsize = (10,6))\n",
        "sns.distplot(np.log10(stock_df['Close']),color = 'indigo')\n",
        "plt.title('Distribution of the Close Price after log transformation',fontsize = 16)"
      ],
      "execution_count": 15,
      "outputs": [
        {
          "output_type": "execute_result",
          "data": {
            "text/plain": [
              "Text(0.5, 1.0, 'Distribution of the Close Price after log transformation')"
            ]
          },
          "metadata": {},
          "execution_count": 15
        },
        {
          "output_type": "display_data",
          "data": {
            "image/png": "[encoded data removed]",
            "text/plain": [
              "<Figure size 720x432 with 1 Axes>"
            ]
          },
          "metadata": {
            "needs_background": "light"
          }
        }
      ]
    },
    {
      "cell_type": "code",
      "metadata": {
        "id": "v6H7uxFOZYou"
      },
      "source": [
        "features = ['Open','Low','High']"
      ],
      "execution_count": 16,
      "outputs": []
    },
    {
      "cell_type": "code",
      "metadata": {
        "colab": {
          "base_uri": "https://localhost:8080/",
          "height": 1000
        },
        "id": "pl4stOAAZCYm",
        "outputId": "7ed3d5af-81f3-427e-91d9-3d7eb71f27e1"
      },
      "source": [
        "# tring to draw histogram for each variable \n",
        "for col in features:\n",
        "  fig = plt.figure(figsize = (7,7))\n",
        "  ax = fig.gca()\n",
        "  ax.grid()\n",
        "  plt.hist(stock_df[col],bins = 50, color = 'lightskyblue')\n",
        "  ax.axvline(stock_df[col].mean(),color = 'r')\n",
        "  ax.axvline(stock_df[col].median(),color = 'green')\n",
        "  ax.set_title(col)\n",
        "plt.show()"
      ],
      "execution_count": 17,
      "outputs": [
        {
          "output_type": "display_data",
          "data": {
            "image/png": "[encoded data removed]",
            "text/plain": [
              "<Figure size 504x504 with 1 Axes>"
            ]
          },
          "metadata": {
            "needs_background": "light"
          }
        },
        {
          "output_type": "display_data",
          "data": {
            "image/png": "[encoded data removed]",
            "text/plain": [
              "<Figure size 504x504 with 1 Axes>"
            ]
          },
          "metadata": {
            "needs_background": "light"
          }
        },
        {
          "output_type": "display_data",
          "data": {
            "image/png": "[encoded data removed]",
            "text/plain": [
              "<Figure size 504x504 with 1 Axes>"
            ]
          },
          "metadata": {
            "needs_background": "light"
          }
        }
      ]
    },
    {
      "cell_type": "markdown",
      "metadata": {
        "id": "VfnTJvhzdSUs"
      },
      "source": [
        "Most of the features are positively skewed here. So, again we have to apply log transformation on these features. Red line represent mean and green line represent median in the above graphs and it seems these graphs are not normally distributed."
      ]
    },
    {
      "cell_type": "code",
      "metadata": {
        "colab": {
          "base_uri": "https://localhost:8080/",
          "height": 1000
        },
        "id": "GopfXRlC1dAd",
        "outputId": "ed61c5ca-3d77-4976-8271-5eeb86b56597"
      },
      "source": [
        "#to know the distribution of different features\n",
        "\n",
        "for col in features:\n",
        "  fig = plt.figure(figsize = (7,7))\n",
        "  ax = fig.gca()\n",
        "  ax.grid()\n",
        "  log_df = np.log(stock_df[col])\n",
        "  plt.hist(log_df,bins = 50, color = 'lightskyblue')\n",
        "  ax.axvline(log_df.mean(),color = 'r')\n",
        "  ax.axvline(log_df.median(),color = 'green')\n",
        "  ax.set_title(col)\n",
        "plt.show()"
      ],
      "execution_count": 18,
      "outputs": [
        {
          "output_type": "display_data",
          "data": {
            "image/png": "[encoded data removed]",
            "text/plain": [
              "<Figure size 504x504 with 1 Axes>"
            ]
          },
          "metadata": {
            "needs_background": "light"
          }
        },
        {
          "output_type": "display_data",
          "data": {
            "image/png": "[encoded data removed]",
            "text/plain": [
              "<Figure size 504x504 with 1 Axes>"
            ]
          },
          "metadata": {
            "needs_background": "light"
          }
        },
        {
          "output_type": "display_data",
          "data": {
            "image/png": "[encoded data removed]",
            "text/plain": [
              "<Figure size 504x504 with 1 Axes>"
            ]
          },
          "metadata": {
            "needs_background": "light"
          }
        }
      ]
    },
    {
      "cell_type": "markdown",
      "metadata": {
        "id": "cQhjuCmh7DsI"
      },
      "source": [
        "After **log transformation**, now it looks approximately normally distributed to me and if you'll observe statistically: mean and median are always close to each other."
      ]
    },
    {
      "cell_type": "markdown",
      "metadata": {
        "id": "n3-Yr-AVr9Iw"
      },
      "source": [
        "## **BIVARIATE ANALYSIS**\n"
      ]
    },
    {
      "cell_type": "code",
      "metadata": {
        "colab": {
          "base_uri": "https://localhost:8080/",
          "height": 517
        },
        "id": "ntWc4cGtr7bA",
        "outputId": "7c299ab1-5c53-465d-a29f-021d0b9fe314"
      },
      "source": [
        "#  correlation map \n",
        "plt.figure(figsize = (10,8))\n",
        "correlation = stock_df.corr()\n",
        "sns.heatmap(abs(correlation),cmap = 'coolwarm',annot = True)\n",
        "plt.title(\"Correlation map.\",fontweight = 'bold',fontsize = 14)"
      ],
      "execution_count": 60,
      "outputs": [
        {
          "output_type": "execute_result",
          "data": {
            "text/plain": [
              "Text(0.5, 1.0, 'Correlation map.')"
            ]
          },
          "metadata": {},
          "execution_count": 60
        },
        {
          "output_type": "display_data",
          "data": {
            "image/png": "[encoded data removed]",
            "text/plain": [
              "<Figure size 720x576 with 2 Axes>"
            ]
          },
          "metadata": {
            "needs_background": "light"
          }
        }
      ]
    },
    {
      "cell_type": "code",
      "metadata": {
        "id": "2VzT0WzGtk_S"
      },
      "source": [
        "# VIF\n",
        "from statsmodels.stats.outliers_influence import variance_inflation_factor\n",
        "def calc_vif(data):\n",
        "  vif = pd.DataFrame()\n",
        "  vif['Variables'] = data.columns\n",
        "  vif['VIF'] = [variance_inflation_factor(data.values,i) for i in range(data.shape[1])]\n",
        "  return (vif)"
      ],
      "execution_count": 20,
      "outputs": []
    },
    {
      "cell_type": "code",
      "metadata": {
        "colab": {
          "base_uri": "https://localhost:8080/",
          "height": 204
        },
        "id": "_hRZd0kevEig",
        "outputId": "9b592467-c6bc-4b8f-e250-af55440f9c44"
      },
      "source": [
        "calc_vif(stock_df[[i for i in stock_df.describe().columns if i not in ['Date']]])"
      ],
      "execution_count": 21,
      "outputs": [
        {
          "output_type": "execute_result",
          "data": {
            "text/html": [
              "<div>\n",
              "<style scoped>\n",
              "    .dataframe tbody tr th:only-of-type {\n",
              "        vertical-align: middle;\n",
              "    }\n",
              "\n",
              "    .dataframe tbody tr th {\n",
              "        vertical-align: top;\n",
              "    }\n",
              "\n",
              "    .dataframe thead th {\n",
              "        text-align: right;\n",
              "    }\n",
              "</style>\n",
              "<table border=\"1\" class=\"dataframe\">\n",
              "  <thead>\n",
              "    <tr style=\"text-align: right;\">\n",
              "      <th></th>\n",
              "      <th>Variables</th>\n",
              "      <th>VIF</th>\n",
              "    </tr>\n",
              "  </thead>\n",
              "  <tbody>\n",
              "    <tr>\n",
              "      <th>0</th>\n",
              "      <td>Open</td>\n",
              "      <td>288.855336</td>\n",
              "    </tr>\n",
              "    <tr>\n",
              "      <th>1</th>\n",
              "      <td>High</td>\n",
              "      <td>325.130362</td>\n",
              "    </tr>\n",
              "    <tr>\n",
              "      <th>2</th>\n",
              "      <td>Low</td>\n",
              "      <td>434.969187</td>\n",
              "    </tr>\n",
              "    <tr>\n",
              "      <th>3</th>\n",
              "      <td>Close</td>\n",
              "      <td>435.438161</td>\n",
              "    </tr>\n",
              "    <tr>\n",
              "      <th>4</th>\n",
              "      <td>Year</td>\n",
              "      <td>2.283442</td>\n",
              "    </tr>\n",
              "  </tbody>\n",
              "</table>\n",
              "</div>"
            ],
            "text/plain": [
              "  Variables         VIF\n",
              "0      Open  288.855336\n",
              "1      High  325.130362\n",
              "2       Low  434.969187\n",
              "3     Close  435.438161\n",
              "4      Year    2.283442"
            ]
          },
          "metadata": {},
          "execution_count": 21
        }
      ]
    },
    {
      "cell_type": "markdown",
      "metadata": {
        "id": "O3EcE06p0XNh"
      },
      "source": [
        "Here we have only 5 features and we have to give prediction on the basis of 4 features and we cannot drop any feature because each vaiable is important in perspective of regression analysis. \n",
        "\n",
        "Despite having high VIF(variance inflation factor) which means high collinearity in our independent dataset we cannot drop any of them.\n",
        "\n",
        "We'll move forward with these features."
      ]
    },
    {
      "cell_type": "markdown",
      "metadata": {
        "id": "qmVIkS8dWQRb"
      },
      "source": [
        "## **Linear Regression**"
      ]
    },
    {
      "cell_type": "code",
      "metadata": {
        "id": "xQ7v3kOJ10iC"
      },
      "source": [
        "# creating copy of dataset\n",
        "stock_df_dup = stock_df.iloc[:,1:]"
      ],
      "execution_count": 22,
      "outputs": []
    },
    {
      "cell_type": "code",
      "metadata": {
        "colab": {
          "base_uri": "https://localhost:8080/"
        },
        "id": "-AA1e4sH0W2O",
        "outputId": "93c5770d-cdd3-4c05-fc30-2e741b1bfe07"
      },
      "source": [
        "#Installing scipy \n",
        "!pip install scipy"
      ],
      "execution_count": 23,
      "outputs": [
        {
          "output_type": "stream",
          "name": "stdout",
          "text": [
            "Requirement already satisfied: scipy in /usr/local/lib/python3.7/dist-packages (1.4.1)\n",
            "Requirement already satisfied: numpy>=1.13.3 in /usr/local/lib/python3.7/dist-packages (from scipy) (1.19.5)\n"
          ]
        }
      ]
    },
    {
      "cell_type": "code",
      "metadata": {
        "id": "m8KQHHaB4G03"
      },
      "source": [
        "#applying zscore to each values of independent variable \n",
        "from scipy.stats import zscore\n",
        "X = stock_df_dup[['Open','Low','High','Year']].apply(zscore)"
      ],
      "execution_count": 24,
      "outputs": []
    },
    {
      "cell_type": "code",
      "metadata": {
        "id": "F4dTfEysC6ft"
      },
      "source": [
        "#applying log on dependent variable \n",
        "y = np.log10(stock_df_dup['Close'])"
      ],
      "execution_count": 25,
      "outputs": []
    },
    {
      "cell_type": "code",
      "metadata": {
        "id": "Mjmk-5lgFrTp"
      },
      "source": [
        "#Importing libraries\n",
        "from numpy import math\n",
        "from sklearn.model_selection import train_test_split\n",
        "from sklearn.metrics import r2_score\n",
        "from sklearn.metrics import mean_squared_error\n",
        "from sklearn.linear_model import LinearRegression, Lasso, Ridge, ElasticNet"
      ],
      "execution_count": 26,
      "outputs": []
    },
    {
      "cell_type": "code",
      "metadata": {
        "colab": {
          "base_uri": "https://localhost:8080/"
        },
        "id": "2SrPwkLJEXkh",
        "outputId": "5512b827-4f71-4341-c3ff-2464fab9ec72"
      },
      "source": [
        "#Split our data into train and test datasets \n",
        "X_train,X_test,y_train,y_test = train_test_split(X,y,test_size = 0.2)\n",
        "print('X_train: ',X_train.shape)\n",
        "print('X_test: ',X_test.shape)\n",
        "print('y_train: ',y_train.shape)\n",
        "print('y_test: ',y_test.shape)"
      ],
      "execution_count": 27,
      "outputs": [
        {
          "output_type": "stream",
          "name": "stdout",
          "text": [
            "X_train:  (148, 4)\n",
            "X_test:  (37, 4)\n",
            "y_train:  (148,)\n",
            "y_test:  (37,)\n"
          ]
        }
      ]
    },
    {
      "cell_type": "code",
      "metadata": {
        "id": "r3h1JnV_btT2"
      },
      "source": [
        "#Applying Linear Regression \n",
        "lr = LinearRegression()\n",
        "reg = lr.fit(X_train,y_train)"
      ],
      "execution_count": 28,
      "outputs": []
    },
    {
      "cell_type": "code",
      "metadata": {
        "colab": {
          "base_uri": "https://localhost:8080/"
        },
        "id": "ZLG-J-nEcvP8",
        "outputId": "93bc9032-9526-427e-baaf-59055ed46950"
      },
      "source": [
        "#Checking efficiency of training model\n",
        "reg.score(X_train,y_train)"
      ],
      "execution_count": 29,
      "outputs": [
        {
          "output_type": "execute_result",
          "data": {
            "text/plain": [
              "0.8276825823315382"
            ]
          },
          "metadata": {},
          "execution_count": 29
        }
      ]
    },
    {
      "cell_type": "code",
      "metadata": {
        "colab": {
          "base_uri": "https://localhost:8080/",
          "height": 204
        },
        "id": "C6CqgWlddPPt",
        "outputId": "c15c3d44-44a8-42bd-c418-207d29420196"
      },
      "source": [
        "#getting regression coefficients \n",
        "intercept = reg.intercept_\n",
        "coeffs = reg.coef_\n",
        "reg_coeffs = np.append(coeffs,intercept)\n",
        "\n",
        "#making data frame of coefficients \n",
        "coefficients = pd.DataFrame()\n",
        "betas = (\"beta_0\",\"beta_1\",\"beta_2\",\"beta_3\",\"beta_4\")\n",
        "coefficients[\"Regressors\"] = betas\n",
        "coefficients[\"Values\"] = [i for i in reg_coeffs]\n",
        "coefficients\n",
        "\n"
      ],
      "execution_count": 56,
      "outputs": [
        {
          "output_type": "execute_result",
          "data": {
            "text/html": [
              "<div>\n",
              "<style scoped>\n",
              "    .dataframe tbody tr th:only-of-type {\n",
              "        vertical-align: middle;\n",
              "    }\n",
              "\n",
              "    .dataframe tbody tr th {\n",
              "        vertical-align: top;\n",
              "    }\n",
              "\n",
              "    .dataframe thead th {\n",
              "        text-align: right;\n",
              "    }\n",
              "</style>\n",
              "<table border=\"1\" class=\"dataframe\">\n",
              "  <thead>\n",
              "    <tr style=\"text-align: right;\">\n",
              "      <th></th>\n",
              "      <th>Regressors</th>\n",
              "      <th>Values</th>\n",
              "    </tr>\n",
              "  </thead>\n",
              "  <tbody>\n",
              "    <tr>\n",
              "      <th>0</th>\n",
              "      <td>beta_0</td>\n",
              "      <td>-0.112402</td>\n",
              "    </tr>\n",
              "    <tr>\n",
              "      <th>1</th>\n",
              "      <td>beta_1</td>\n",
              "      <td>0.227353</td>\n",
              "    </tr>\n",
              "    <tr>\n",
              "      <th>2</th>\n",
              "      <td>beta_2</td>\n",
              "      <td>0.228766</td>\n",
              "    </tr>\n",
              "    <tr>\n",
              "      <th>3</th>\n",
              "      <td>beta_3</td>\n",
              "      <td>0.053151</td>\n",
              "    </tr>\n",
              "    <tr>\n",
              "      <th>4</th>\n",
              "      <td>beta_4</td>\n",
              "      <td>1.835584</td>\n",
              "    </tr>\n",
              "  </tbody>\n",
              "</table>\n",
              "</div>"
            ],
            "text/plain": [
              "  Regressors    Values\n",
              "0     beta_0 -0.112402\n",
              "1     beta_1  0.227353\n",
              "2     beta_2  0.228766\n",
              "3     beta_3  0.053151\n",
              "4     beta_4  1.835584"
            ]
          },
          "metadata": {},
          "execution_count": 56
        }
      ]
    },
    {
      "cell_type": "code",
      "metadata": {
        "colab": {
          "base_uri": "https://localhost:8080/"
        },
        "id": "5o5Ep184d8Nt",
        "outputId": "0e264ee8-9d8d-40eb-9ed8-597b4cb1a56b"
      },
      "source": [
        "#Predict y_test on the basis of train sets\n",
        "y_pred = reg.predict(X_test)\n",
        "print(\"Printed values of Y: \\n\",y_pred)"
      ],
      "execution_count": 31,
      "outputs": [
        {
          "output_type": "stream",
          "name": "stdout",
          "text": [
            "Printed values of Y: \n",
            " [1.45218475 1.58147121 1.61194766 2.74371396 1.71720203 1.83554591\n",
            " 2.07788497 2.58106065 2.17898207 1.42347871 1.41981875 2.25591269\n",
            " 1.46527245 1.47516784 1.65625565 1.62291328 1.60376561 1.71455552\n",
            " 2.02327508 1.69275068 1.71272209 1.71061523 2.15245412 1.44360284\n",
            " 1.65456892 1.50252901 1.71858657 1.65269014 2.40562357 1.60258096\n",
            " 1.6465105  1.53581321 1.42369756 1.67561729 1.96875726 1.86115981\n",
            " 2.61093816]\n"
          ]
        }
      ]
    },
    {
      "cell_type": "code",
      "metadata": {
        "colab": {
          "base_uri": "https://localhost:8080/"
        },
        "id": "FMjMPKnZeabe",
        "outputId": "36e53f07-4796-4c67-e15d-c1dd25e75cfa"
      },
      "source": [
        "#Calculating MSE and RMSE\n",
        "MSE = mean_squared_error(10**y_test,10**y_pred)\n",
        "print(\"Mean Squared Error: \",MSE)\n",
        "\n",
        "RMSE = np.sqrt(MSE)\n",
        "print(\"Root Mean Squared Error: \",RMSE)"
      ],
      "execution_count": 32,
      "outputs": [
        {
          "output_type": "stream",
          "name": "stdout",
          "text": [
            "Mean Squared Error:  2049.029263201139\n",
            "Root Mean Squared Error:  45.26620442671485\n"
          ]
        }
      ]
    },
    {
      "cell_type": "code",
      "metadata": {
        "colab": {
          "base_uri": "https://localhost:8080/"
        },
        "id": "20QOB4x_fzaM",
        "outputId": "b2fe69fc-fe98-4ee9-beed-11552e109a69"
      },
      "source": [
        "#Calculating r2_Score \n",
        "r2 = r2_score(10**y_test,10**y_pred)\n",
        "print(\"R2: \",r2)\n",
        "adjusted_r2 = 1-(1-r2_score(10**y_test,10**y_pred))*(X_test.shape[0]-1)/((X_test.shape[0]-X_test.shape[1]-1))\n",
        "print(\"Adjusted R2: \",adjusted_r2)"
      ],
      "execution_count": 33,
      "outputs": [
        {
          "output_type": "stream",
          "name": "stdout",
          "text": [
            "R2:  0.754341336542592\n",
            "Adjusted R2:  0.723634003610416\n"
          ]
        }
      ]
    },
    {
      "cell_type": "code",
      "metadata": {
        "colab": {
          "base_uri": "https://localhost:8080/",
          "height": 337
        },
        "id": "7q9rHqQFUU3l",
        "outputId": "0b269635-9985-4be4-b827-091c2eba8ef7"
      },
      "source": [
        "plt.figure(figsize=(9,5))\n",
        "plt.plot(10**(y_pred),color = 'brown')\n",
        "plt.plot(np.array(10**(y_test)),color = \"blue\")\n",
        "plt.legend([\"Predicted\",\"Actual\"])\n",
        "plt.ylabel(\"Price\",fontsize = 14)\n",
        "plt.title(\"Actual closing price vs Predicted Closing price\",fontweight = 'bold',fontsize = 14)\n",
        "plt.show()"
      ],
      "execution_count": 62,
      "outputs": [
        {
          "output_type": "display_data",
          "data": {
            "image/png": "[encoded data removed]",
            "text/plain": [
              "<Figure size 648x360 with 1 Axes>"
            ]
          },
          "metadata": {
            "needs_background": "light"
          }
        }
      ]
    }
  ]
}