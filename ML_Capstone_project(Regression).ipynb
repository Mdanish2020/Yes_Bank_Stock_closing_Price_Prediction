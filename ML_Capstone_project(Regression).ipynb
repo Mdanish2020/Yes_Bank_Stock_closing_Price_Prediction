{
  "nbformat": 4,
  "nbformat_minor": 0,
  "metadata": {
    "colab": {
      "name": "ML_Capstone_project(Regression).ipynb",
      "provenance": [],
      "collapsed_sections": [],
      "mount_file_id": "1NLW_edDYtVtKmjqeswyQbYsjIWYJfFS6",
      "authorship_tag": "ABX9TyMzr2qb1RXCYbc2dAVLvw/4",
      "include_colab_link": true
    },
    "kernelspec": {
      "display_name": "Python 3",
      "name": "python3"
    },
    "language_info": {
      "name": "python"
    }
  },
  "cells": [
    {
      "cell_type": "markdown",
      "metadata": {
        "id": "view-in-github",
        "colab_type": "text"
      },
      "source": [
        "<a href=\"https://colab.research.google.com/github/Mdanish2020/Yes_Bank_Stock_closing_Price_Prediction/blob/main/ML_Capstone_project(Regression).ipynb\" target=\"_parent\"><img src=\"https://colab.research.google.com/assets/colab-badge.svg\" alt=\"Open In Colab\"/></a>"
      ]
    },
    {
      "cell_type": "markdown",
      "metadata": {
        "id": "zcQoQM5R2UWr"
      },
      "source": [
        "## <b> Yes Bank is a well-known bank in the Indian financial domain. Since 2018, it has been in the news because of the fraud case involving Rana Kapoor. Owing to this fact, it was interesting to see how that impacted the stock prices of the company and whether Time series models or any other predictive models can do justice to such situations. This dataset has monthly stock prices of the bank since its inception and includes closing, starting, highest, and lowest stock prices of every month. The main objective is to predict the stock’s closing price of the month </b>"
      ]
    },
    {
      "cell_type": "markdown",
      "metadata": {
        "id": "RgTQD-tQ3kun"
      },
      "source": [
        "<b>\"Trying to know our data because if you know your data then only you can implent your ideas and get insights from it\"</b>\n",
        "\n",
        "We understood our problem and what our objective is, in order to predict the stock's closing price of the month there are few things that'll be required or you can say that (mandatory) to perform regression analysis or building a better model which can easily and accurately predict our desired output.\n",
        "\n",
        "So, to build a well performing model, we have divided our task into several steps:\n",
        "\n",
        "<b>Univariate Analysis</b>:\n",
        "\n",
        "<b>Bivariate Analysis</b>:\n",
        "\n",
        "<b>Introducing hypothesis</b>:"
      ]
    },
    {
      "cell_type": "code",
      "metadata": {
        "id": "S6pswnZq2ETD"
      },
      "source": [
        "# import libraries \n",
        "import numpy as np\n",
        "import pandas as pd\n",
        "import matplotlib.pyplot as plt\n",
        "import seaborn as sns \n",
        "from scipy.stats import norm\n",
        "from sklearn.preprocessing import StandardScaler\n",
        "from scipy import stats\n",
        "import warnings\n",
        "warnings.filterwarnings('ignore')\n",
        "%matplotlib inline"
      ],
      "execution_count": 1,
      "outputs": []
    },
    {
      "cell_type": "markdown",
      "metadata": {
        "id": "D1TnaR5y6tdS"
      },
      "source": [
        "### <b> LET'S INVITE OUR DATASET</b>"
      ]
    },
    {
      "cell_type": "code",
      "metadata": {
        "id": "RgA_W1zUHqo7"
      },
      "source": [
        "#Import dataset\n",
        "stock_df = pd.read_csv('/content/drive/MyDrive/Data/data_YesBank_StockPrices.csv')"
      ],
      "execution_count": 2,
      "outputs": []
    },
    {
      "cell_type": "code",
      "metadata": {
        "colab": {
          "base_uri": "https://localhost:8080/",
          "height": 204
        },
        "id": "y9dhs0IfJEt6",
        "outputId": "4e47d86b-4de5-48b4-e2e5-de057b11a34f"
      },
      "source": [
        "#Reading first 5 rows of dataset\n",
        "stock_df.head()"
      ],
      "execution_count": 3,
      "outputs": [
        {
          "output_type": "execute_result",
          "data": {
            "text/html": [
              "<div>\n",
              "<style scoped>\n",
              "    .dataframe tbody tr th:only-of-type {\n",
              "        vertical-align: middle;\n",
              "    }\n",
              "\n",
              "    .dataframe tbody tr th {\n",
              "        vertical-align: top;\n",
              "    }\n",
              "\n",
              "    .dataframe thead th {\n",
              "        text-align: right;\n",
              "    }\n",
              "</style>\n",
              "<table border=\"1\" class=\"dataframe\">\n",
              "  <thead>\n",
              "    <tr style=\"text-align: right;\">\n",
              "      <th></th>\n",
              "      <th>Date</th>\n",
              "      <th>Open</th>\n",
              "      <th>High</th>\n",
              "      <th>Low</th>\n",
              "      <th>Close</th>\n",
              "    </tr>\n",
              "  </thead>\n",
              "  <tbody>\n",
              "    <tr>\n",
              "      <th>0</th>\n",
              "      <td>Jul-05</td>\n",
              "      <td>13.00</td>\n",
              "      <td>14.00</td>\n",
              "      <td>11.25</td>\n",
              "      <td>12.46</td>\n",
              "    </tr>\n",
              "    <tr>\n",
              "      <th>1</th>\n",
              "      <td>Aug-05</td>\n",
              "      <td>12.58</td>\n",
              "      <td>14.88</td>\n",
              "      <td>12.55</td>\n",
              "      <td>13.42</td>\n",
              "    </tr>\n",
              "    <tr>\n",
              "      <th>2</th>\n",
              "      <td>Sep-05</td>\n",
              "      <td>13.48</td>\n",
              "      <td>14.87</td>\n",
              "      <td>12.27</td>\n",
              "      <td>13.30</td>\n",
              "    </tr>\n",
              "    <tr>\n",
              "      <th>3</th>\n",
              "      <td>Oct-05</td>\n",
              "      <td>13.20</td>\n",
              "      <td>14.47</td>\n",
              "      <td>12.40</td>\n",
              "      <td>12.99</td>\n",
              "    </tr>\n",
              "    <tr>\n",
              "      <th>4</th>\n",
              "      <td>Nov-05</td>\n",
              "      <td>13.35</td>\n",
              "      <td>13.88</td>\n",
              "      <td>12.88</td>\n",
              "      <td>13.41</td>\n",
              "    </tr>\n",
              "  </tbody>\n",
              "</table>\n",
              "</div>"
            ],
            "text/plain": [
              "     Date   Open   High    Low  Close\n",
              "0  Jul-05  13.00  14.00  11.25  12.46\n",
              "1  Aug-05  12.58  14.88  12.55  13.42\n",
              "2  Sep-05  13.48  14.87  12.27  13.30\n",
              "3  Oct-05  13.20  14.47  12.40  12.99\n",
              "4  Nov-05  13.35  13.88  12.88  13.41"
            ]
          },
          "metadata": {},
          "execution_count": 3
        }
      ]
    },
    {
      "cell_type": "code",
      "metadata": {
        "colab": {
          "base_uri": "https://localhost:8080/"
        },
        "id": "j-i9OS_kmoba",
        "outputId": "2f35bf4c-0ded-4c15-a722-956a4634f73e"
      },
      "source": [
        "#get the number of rows and columns in the dataset \n",
        "stock_df.shape"
      ],
      "execution_count": 4,
      "outputs": [
        {
          "output_type": "execute_result",
          "data": {
            "text/plain": [
              "(185, 5)"
            ]
          },
          "metadata": {},
          "execution_count": 4
        }
      ]
    },
    {
      "cell_type": "markdown",
      "metadata": {
        "id": "k1DEBqEdqdwi"
      },
      "source": [
        "We have 185 instances in our dataset and 5 columns on which we are going to work on."
      ]
    },
    {
      "cell_type": "code",
      "metadata": {
        "colab": {
          "base_uri": "https://localhost:8080/"
        },
        "id": "IJYS6YEqJVkG",
        "outputId": "2f093da8-f51e-43b1-a27b-5bb041be0be6"
      },
      "source": [
        "#Getting all info about our dataset\n",
        "stock_df.info()"
      ],
      "execution_count": 5,
      "outputs": [
        {
          "output_type": "stream",
          "name": "stdout",
          "text": [
            "<class 'pandas.core.frame.DataFrame'>\n",
            "RangeIndex: 185 entries, 0 to 184\n",
            "Data columns (total 5 columns):\n",
            " #   Column  Non-Null Count  Dtype  \n",
            "---  ------  --------------  -----  \n",
            " 0   Date    185 non-null    object \n",
            " 1   Open    185 non-null    float64\n",
            " 2   High    185 non-null    float64\n",
            " 3   Low     185 non-null    float64\n",
            " 4   Close   185 non-null    float64\n",
            "dtypes: float64(4), object(1)\n",
            "memory usage: 7.4+ KB\n"
          ]
        }
      ]
    },
    {
      "cell_type": "markdown",
      "metadata": {
        "id": "gqpyAxM5Jh3M"
      },
      "source": [
        "**Hurray! There is no null values in any instances.**\n",
        "\n",
        "But **Date** have values in object data type. So, we need to convert it into proper date format.\n",
        "\n",
        "## <b> Performing some feature Engineering</b>"
      ]
    },
    {
      "cell_type": "code",
      "metadata": {
        "id": "QPAj2EncKCOL"
      },
      "source": [
        "#importing datetime\n",
        "from datetime import datetime\n",
        "stock_df['Date'] = stock_df['Date'].apply(lambda x: datetime.strptime(x,\"%b-%y\"))"
      ],
      "execution_count": 6,
      "outputs": []
    },
    {
      "cell_type": "code",
      "metadata": {
        "id": "dlLSCX7icKfT"
      },
      "source": [
        "#introducing new features of name year\n",
        "stock_df['Year'] = stock_df['Date'].apply(lambda z: z.strftime('%Y'))"
      ],
      "execution_count": 7,
      "outputs": []
    },
    {
      "cell_type": "code",
      "metadata": {
        "id": "NDK2JHx_nY8K"
      },
      "source": [
        "#changing datatypes of features Month and Year\n",
        "stock_df['Year'] = stock_df['Year'].astype(int)"
      ],
      "execution_count": 8,
      "outputs": []
    },
    {
      "cell_type": "code",
      "metadata": {
        "colab": {
          "base_uri": "https://localhost:8080/",
          "height": 142
        },
        "id": "WHrUbQTcUEbB",
        "outputId": "90aed29e-db74-48cb-ce63-2f2b6b4f9466"
      },
      "source": [
        "stock_df.head(3)"
      ],
      "execution_count": 9,
      "outputs": [
        {
          "output_type": "execute_result",
          "data": {
            "text/html": [
              "<div>\n",
              "<style scoped>\n",
              "    .dataframe tbody tr th:only-of-type {\n",
              "        vertical-align: middle;\n",
              "    }\n",
              "\n",
              "    .dataframe tbody tr th {\n",
              "        vertical-align: top;\n",
              "    }\n",
              "\n",
              "    .dataframe thead th {\n",
              "        text-align: right;\n",
              "    }\n",
              "</style>\n",
              "<table border=\"1\" class=\"dataframe\">\n",
              "  <thead>\n",
              "    <tr style=\"text-align: right;\">\n",
              "      <th></th>\n",
              "      <th>Date</th>\n",
              "      <th>Open</th>\n",
              "      <th>High</th>\n",
              "      <th>Low</th>\n",
              "      <th>Close</th>\n",
              "      <th>Year</th>\n",
              "    </tr>\n",
              "  </thead>\n",
              "  <tbody>\n",
              "    <tr>\n",
              "      <th>0</th>\n",
              "      <td>2005-07-01</td>\n",
              "      <td>13.00</td>\n",
              "      <td>14.00</td>\n",
              "      <td>11.25</td>\n",
              "      <td>12.46</td>\n",
              "      <td>2005</td>\n",
              "    </tr>\n",
              "    <tr>\n",
              "      <th>1</th>\n",
              "      <td>2005-08-01</td>\n",
              "      <td>12.58</td>\n",
              "      <td>14.88</td>\n",
              "      <td>12.55</td>\n",
              "      <td>13.42</td>\n",
              "      <td>2005</td>\n",
              "    </tr>\n",
              "    <tr>\n",
              "      <th>2</th>\n",
              "      <td>2005-09-01</td>\n",
              "      <td>13.48</td>\n",
              "      <td>14.87</td>\n",
              "      <td>12.27</td>\n",
              "      <td>13.30</td>\n",
              "      <td>2005</td>\n",
              "    </tr>\n",
              "  </tbody>\n",
              "</table>\n",
              "</div>"
            ],
            "text/plain": [
              "        Date   Open   High    Low  Close  Year\n",
              "0 2005-07-01  13.00  14.00  11.25  12.46  2005\n",
              "1 2005-08-01  12.58  14.88  12.55  13.42  2005\n",
              "2 2005-09-01  13.48  14.87  12.27  13.30  2005"
            ]
          },
          "metadata": {},
          "execution_count": 9
        }
      ]
    },
    {
      "cell_type": "code",
      "metadata": {
        "colab": {
          "base_uri": "https://localhost:8080/"
        },
        "id": "HdEzfJMGm3ZC",
        "outputId": "f4ee0047-81b9-49ea-e2c8-b46e18cd242a"
      },
      "source": [
        "stock_df.info()"
      ],
      "execution_count": 10,
      "outputs": [
        {
          "output_type": "stream",
          "name": "stdout",
          "text": [
            "<class 'pandas.core.frame.DataFrame'>\n",
            "RangeIndex: 185 entries, 0 to 184\n",
            "Data columns (total 6 columns):\n",
            " #   Column  Non-Null Count  Dtype         \n",
            "---  ------  --------------  -----         \n",
            " 0   Date    185 non-null    datetime64[ns]\n",
            " 1   Open    185 non-null    float64       \n",
            " 2   High    185 non-null    float64       \n",
            " 3   Low     185 non-null    float64       \n",
            " 4   Close   185 non-null    float64       \n",
            " 5   Year    185 non-null    int64         \n",
            "dtypes: datetime64[ns](1), float64(4), int64(1)\n",
            "memory usage: 8.8 KB\n"
          ]
        }
      ]
    },
    {
      "cell_type": "code",
      "metadata": {
        "colab": {
          "base_uri": "https://localhost:8080/",
          "height": 297
        },
        "id": "bYXhCKZZL-qz",
        "outputId": "404a1f09-9b8b-40a6-d3a5-0c6723823cb1"
      },
      "source": [
        "#Descriptive Statistics\n",
        "stock_df.describe()"
      ],
      "execution_count": 11,
      "outputs": [
        {
          "output_type": "execute_result",
          "data": {
            "text/html": [
              "<div>\n",
              "<style scoped>\n",
              "    .dataframe tbody tr th:only-of-type {\n",
              "        vertical-align: middle;\n",
              "    }\n",
              "\n",
              "    .dataframe tbody tr th {\n",
              "        vertical-align: top;\n",
              "    }\n",
              "\n",
              "    .dataframe thead th {\n",
              "        text-align: right;\n",
              "    }\n",
              "</style>\n",
              "<table border=\"1\" class=\"dataframe\">\n",
              "  <thead>\n",
              "    <tr style=\"text-align: right;\">\n",
              "      <th></th>\n",
              "      <th>Open</th>\n",
              "      <th>High</th>\n",
              "      <th>Low</th>\n",
              "      <th>Close</th>\n",
              "      <th>Year</th>\n",
              "    </tr>\n",
              "  </thead>\n",
              "  <tbody>\n",
              "    <tr>\n",
              "      <th>count</th>\n",
              "      <td>185.000000</td>\n",
              "      <td>185.000000</td>\n",
              "      <td>185.000000</td>\n",
              "      <td>185.000000</td>\n",
              "      <td>185.000000</td>\n",
              "    </tr>\n",
              "    <tr>\n",
              "      <th>mean</th>\n",
              "      <td>105.541405</td>\n",
              "      <td>116.104324</td>\n",
              "      <td>94.947838</td>\n",
              "      <td>105.204703</td>\n",
              "      <td>2012.702703</td>\n",
              "    </tr>\n",
              "    <tr>\n",
              "      <th>std</th>\n",
              "      <td>98.879850</td>\n",
              "      <td>106.333497</td>\n",
              "      <td>91.219415</td>\n",
              "      <td>98.583153</td>\n",
              "      <td>4.471315</td>\n",
              "    </tr>\n",
              "    <tr>\n",
              "      <th>min</th>\n",
              "      <td>10.000000</td>\n",
              "      <td>11.240000</td>\n",
              "      <td>5.550000</td>\n",
              "      <td>9.980000</td>\n",
              "      <td>2005.000000</td>\n",
              "    </tr>\n",
              "    <tr>\n",
              "      <th>25%</th>\n",
              "      <td>33.800000</td>\n",
              "      <td>36.140000</td>\n",
              "      <td>28.510000</td>\n",
              "      <td>33.450000</td>\n",
              "      <td>2009.000000</td>\n",
              "    </tr>\n",
              "    <tr>\n",
              "      <th>50%</th>\n",
              "      <td>62.980000</td>\n",
              "      <td>72.550000</td>\n",
              "      <td>58.000000</td>\n",
              "      <td>62.540000</td>\n",
              "      <td>2013.000000</td>\n",
              "    </tr>\n",
              "    <tr>\n",
              "      <th>75%</th>\n",
              "      <td>153.000000</td>\n",
              "      <td>169.190000</td>\n",
              "      <td>138.350000</td>\n",
              "      <td>153.300000</td>\n",
              "      <td>2017.000000</td>\n",
              "    </tr>\n",
              "    <tr>\n",
              "      <th>max</th>\n",
              "      <td>369.950000</td>\n",
              "      <td>404.000000</td>\n",
              "      <td>345.500000</td>\n",
              "      <td>367.900000</td>\n",
              "      <td>2020.000000</td>\n",
              "    </tr>\n",
              "  </tbody>\n",
              "</table>\n",
              "</div>"
            ],
            "text/plain": [
              "             Open        High         Low       Close         Year\n",
              "count  185.000000  185.000000  185.000000  185.000000   185.000000\n",
              "mean   105.541405  116.104324   94.947838  105.204703  2012.702703\n",
              "std     98.879850  106.333497   91.219415   98.583153     4.471315\n",
              "min     10.000000   11.240000    5.550000    9.980000  2005.000000\n",
              "25%     33.800000   36.140000   28.510000   33.450000  2009.000000\n",
              "50%     62.980000   72.550000   58.000000   62.540000  2013.000000\n",
              "75%    153.000000  169.190000  138.350000  153.300000  2017.000000\n",
              "max    369.950000  404.000000  345.500000  367.900000  2020.000000"
            ]
          },
          "metadata": {},
          "execution_count": 11
        }
      ]
    },
    {
      "cell_type": "markdown",
      "metadata": {
        "id": "KGLOqThqMQPl"
      },
      "source": [
        "As it is clearly shown in the descriptive statistics table, there is very high variation within features like **High**, **Low** and **Close**. \n",
        "\n"
      ]
    },
    {
      "cell_type": "code",
      "metadata": {
        "colab": {
          "base_uri": "https://localhost:8080/"
        },
        "id": "CbV9o68UP8Q-",
        "outputId": "804c0082-5111-4bed-fbde-f2f311c8fdd5"
      },
      "source": [
        "#cheking is there any duplication in our data.\n",
        "len(stock_df[stock_df.duplicated()])"
      ],
      "execution_count": 12,
      "outputs": [
        {
          "output_type": "execute_result",
          "data": {
            "text/plain": [
              "0"
            ]
          },
          "metadata": {},
          "execution_count": 12
        }
      ]
    },
    {
      "cell_type": "markdown",
      "metadata": {
        "id": "g75PMMUPQSki"
      },
      "source": [
        "There is no duplication in our data which is a good sign otherwise we have to deal with that too."
      ]
    },
    {
      "cell_type": "markdown",
      "metadata": {
        "id": "hA2OWicvN8nE"
      },
      "source": [
        "## <b> VISUALIZING THE DEPENDENT VARIABLE</B>"
      ]
    },
    {
      "cell_type": "code",
      "metadata": {
        "colab": {
          "base_uri": "https://localhost:8080/",
          "height": 518
        },
        "id": "3V691WN5NKrR",
        "outputId": "b61592dd-79c5-49a7-d7c0-37c8accb5a97"
      },
      "source": [
        "# trend of dependent variable \n",
        "plt.figure(figsize = (14,8))\n",
        "plt.grid(True)\n",
        "plt.title('Trend of Yes bank closing price',fontweight = 'bold')\n",
        "plt.plot(stock_df['Date'],stock_df['Close'])\n",
        "plt.xlabel('Date',fontsize = 16)\n",
        "plt.ylabel('Closing Stock Price (₹)',fontsize = 16)\n",
        "plt.show()"
      ],
      "execution_count": 13,
      "outputs": [
        {
          "output_type": "display_data",
          "data": {
            "image/png": "[encoded data removed]",
            "text/plain": [
              "<Figure size 1008x576 with 1 Axes>"
            ]
          },
          "metadata": {
            "needs_background": "light"
          }
        }
      ]
    },
    {
      "cell_type": "markdown",
      "metadata": {
        "id": "1VX9lcLAz0Fq"
      },
      "source": [
        "This plot of Closing prices of different dates give a very vivid picture of fluctuation in prices regarding different time-duration. After 2018 there is sudden fall in the stock closing price. It makes sense how severly Rana Kapoor case fraud affected the price of Yes bank stocks."
      ]
    },
    {
      "cell_type": "code",
      "metadata": {
        "colab": {
          "base_uri": "https://localhost:8080/",
          "height": 427
        },
        "id": "b9RacAhjQ1fR",
        "outputId": "d4184c07-acd7-4aff-e013-e61dced1ceff"
      },
      "source": [
        "#Checking the distribution of our dependent variable \n",
        "plt.figure(figsize = (10,6))\n",
        "sns.distplot(stock_df['Close'],color = 'indigo')\n",
        "plt.title('Distribution of the Close Price',fontsize = 16)\n",
        "plt.xlabel('Close',fontsize = 14)\n",
        "plt.ylabel('Density',fontsize = 14)\n"
      ],
      "execution_count": 14,
      "outputs": [
        {
          "output_type": "execute_result",
          "data": {
            "text/plain": [
              "Text(0, 0.5, 'Density')"
            ]
          },
          "metadata": {},
          "execution_count": 14
        },
        {
          "output_type": "display_data",
          "data": {
            "image/png": "[encoded data removed]",
            "text/plain": [
              "<Figure size 720x432 with 1 Axes>"
            ]
          },
          "metadata": {
            "needs_background": "light"
          }
        }
      ]
    },
    {
      "cell_type": "markdown",
      "metadata": {
        "id": "gOJa2WN0W8s4"
      },
      "source": [
        "The distribution of Stock Closing Price is rightly skewed distribution. It may lead us to misleading results in view of statistical hyposthesis. It can be corrected by applying **Log Transformation** then we'll have a look how this data behave."
      ]
    },
    {
      "cell_type": "code",
      "metadata": {
        "colab": {
          "base_uri": "https://localhost:8080/",
          "height": 423
        },
        "id": "pE389PeMXrvV",
        "outputId": "2bbb5757-5e08-413e-b994-3dc15a186944"
      },
      "source": [
        "#Distribution after applying Log Transformation\n",
        "plt.figure(figsize = (10,6))\n",
        "sns.distplot(np.log10(stock_df['Close']),color = 'indigo')\n",
        "plt.title('Distribution of the Close Price after log transformation',fontsize = 16)"
      ],
      "execution_count": 15,
      "outputs": [
        {
          "output_type": "execute_result",
          "data": {
            "text/plain": [
              "Text(0.5, 1.0, 'Distribution of the Close Price after log transformation')"
            ]
          },
          "metadata": {},
          "execution_count": 15
        },
        {
          "output_type": "display_data",
          "data": {
            "image/png": "[encoded data removed]",
            "text/plain": [
              "<Figure size 720x432 with 1 Axes>"
            ]
          },
          "metadata": {
            "needs_background": "light"
          }
        }
      ]
    },
    {
      "cell_type": "code",
      "metadata": {
        "id": "v6H7uxFOZYou"
      },
      "source": [
        "features = ['Open','Low','High']"
      ],
      "execution_count": 16,
      "outputs": []
    },
    {
      "cell_type": "code",
      "metadata": {
        "colab": {
          "base_uri": "https://localhost:8080/",
          "height": 1000
        },
        "id": "pl4stOAAZCYm",
        "outputId": "c089940d-1f12-408a-fe40-771607298e63"
      },
      "source": [
        "# tring to draw histogram for each variable \n",
        "for col in features:\n",
        "  fig = plt.figure(figsize = (7,7))\n",
        "  ax = fig.gca()\n",
        "  ax.grid()\n",
        "  plt.hist(stock_df[col],bins = 50, color = 'lightskyblue')\n",
        "  ax.axvline(stock_df[col].mean(),color = 'r')\n",
        "  ax.axvline(stock_df[col].median(),color = 'green')\n",
        "  ax.set_title(col)\n",
        "plt.show()"
      ],
      "execution_count": 17,
      "outputs": [
        {
          "output_type": "display_data",
          "data": {
            "image/png": "[encoded data removed]",
            "text/plain": [
              "<Figure size 504x504 with 1 Axes>"
            ]
          },
          "metadata": {
            "needs_background": "light"
          }
        },
        {
          "output_type": "display_data",
          "data": {
            "image/png": "[encoded data removed]",
            "text/plain": [
              "<Figure size 504x504 with 1 Axes>"
            ]
          },
          "metadata": {
            "needs_background": "light"
          }
        },
        {
          "output_type": "display_data",
          "data": {
            "image/png": "[encoded data removed]",
            "text/plain": [
              "<Figure size 504x504 with 1 Axes>"
            ]
          },
          "metadata": {
            "needs_background": "light"
          }
        }
      ]
    },
    {
      "cell_type": "markdown",
      "metadata": {
        "id": "VfnTJvhzdSUs"
      },
      "source": [
        "Most of the features are positively skewed here. So, again we have to apply log transformation on these features. Red line represent mean and green line represent median in the above graphs and it seems these graphs are not normally distributed."
      ]
    },
    {
      "cell_type": "code",
      "metadata": {
        "colab": {
          "base_uri": "https://localhost:8080/",
          "height": 1000
        },
        "id": "GopfXRlC1dAd",
        "outputId": "fb7c3374-b2e2-47a5-aa22-8ebb19dbdc2e"
      },
      "source": [
        "#to know the distribution of different features\n",
        "\n",
        "for col in features:\n",
        "  fig = plt.figure(figsize = (7,7))\n",
        "  ax = fig.gca()\n",
        "  ax.grid()\n",
        "  log_df = np.log(stock_df[col])\n",
        "  plt.hist(log_df,bins = 50, color = 'lightskyblue')\n",
        "  ax.axvline(log_df.mean(),color = 'r')\n",
        "  ax.axvline(log_df.median(),color = 'green')\n",
        "  ax.set_title(col)\n",
        "plt.show()"
      ],
      "execution_count": 18,
      "outputs": [
        {
          "output_type": "display_data",
          "data": {
            "image/png": "[encoded data removed]",
            "text/plain": [
              "<Figure size 504x504 with 1 Axes>"
            ]
          },
          "metadata": {
            "needs_background": "light"
          }
        },
        {
          "output_type": "display_data",
          "data": {
            "image/png": "[encoded data removed]",
            "text/plain": [
              "<Figure size 504x504 with 1 Axes>"
            ]
          },
          "metadata": {
            "needs_background": "light"
          }
        },
        {
          "output_type": "display_data",
          "data": {
            "image/png": "[encoded data removed]",
            "text/plain": [
              "<Figure size 504x504 with 1 Axes>"
            ]
          },
          "metadata": {
            "needs_background": "light"
          }
        }
      ]
    },
    {
      "cell_type": "markdown",
      "metadata": {
        "id": "cQhjuCmh7DsI"
      },
      "source": [
        "After **log transformation**, now it looks approximately normally distributed to me and if you'll observe statistically: mean and median are always close to each other."
      ]
    },
    {
      "cell_type": "markdown",
      "metadata": {
        "id": "n3-Yr-AVr9Iw"
      },
      "source": [
        "## **BIVARIATE ANALYSIS**\n"
      ]
    },
    {
      "cell_type": "code",
      "metadata": {
        "colab": {
          "base_uri": "https://localhost:8080/",
          "height": 517
        },
        "id": "ntWc4cGtr7bA",
        "outputId": "dbda81de-3d88-4252-9462-58c3f8047903"
      },
      "source": [
        "#  correlation map \n",
        "plt.figure(figsize = (10,8))\n",
        "correlation = stock_df.corr()\n",
        "sns.heatmap(abs(correlation),cmap = 'coolwarm',annot = True)\n",
        "plt.title(\"Correlation map.\",fontweight = 'bold',fontsize = 14)"
      ],
      "execution_count": 19,
      "outputs": [
        {
          "output_type": "execute_result",
          "data": {
            "text/plain": [
              "Text(0.5, 1.0, 'Correlation map.')"
            ]
          },
          "metadata": {},
          "execution_count": 19
        },
        {
          "output_type": "display_data",
          "data": {
            "image/png": "[encoded data removed]",
            "text/plain": [
              "<Figure size 720x576 with 2 Axes>"
            ]
          },
          "metadata": {
            "needs_background": "light"
          }
        }
      ]
    },
    {
      "cell_type": "code",
      "metadata": {
        "id": "2VzT0WzGtk_S"
      },
      "source": [
        "# VIF\n",
        "from statsmodels.stats.outliers_influence import variance_inflation_factor\n",
        "def calc_vif(data):\n",
        "  vif = pd.DataFrame()\n",
        "  vif['Variables'] = data.columns\n",
        "  vif['VIF'] = [variance_inflation_factor(data.values,i) for i in range(data.shape[1])]\n",
        "  return (vif)"
      ],
      "execution_count": 20,
      "outputs": []
    },
    {
      "cell_type": "code",
      "metadata": {
        "colab": {
          "base_uri": "https://localhost:8080/",
          "height": 204
        },
        "id": "_hRZd0kevEig",
        "outputId": "f218b2f7-77fd-4b9f-cc1e-102e0f456d72"
      },
      "source": [
        "calc_vif(stock_df[[i for i in stock_df.describe().columns if i not in ['Date']]])"
      ],
      "execution_count": 21,
      "outputs": [
        {
          "output_type": "execute_result",
          "data": {
            "text/html": [
              "<div>\n",
              "<style scoped>\n",
              "    .dataframe tbody tr th:only-of-type {\n",
              "        vertical-align: middle;\n",
              "    }\n",
              "\n",
              "    .dataframe tbody tr th {\n",
              "        vertical-align: top;\n",
              "    }\n",
              "\n",
              "    .dataframe thead th {\n",
              "        text-align: right;\n",
              "    }\n",
              "</style>\n",
              "<table border=\"1\" class=\"dataframe\">\n",
              "  <thead>\n",
              "    <tr style=\"text-align: right;\">\n",
              "      <th></th>\n",
              "      <th>Variables</th>\n",
              "      <th>VIF</th>\n",
              "    </tr>\n",
              "  </thead>\n",
              "  <tbody>\n",
              "    <tr>\n",
              "      <th>0</th>\n",
              "      <td>Open</td>\n",
              "      <td>288.855336</td>\n",
              "    </tr>\n",
              "    <tr>\n",
              "      <th>1</th>\n",
              "      <td>High</td>\n",
              "      <td>325.130362</td>\n",
              "    </tr>\n",
              "    <tr>\n",
              "      <th>2</th>\n",
              "      <td>Low</td>\n",
              "      <td>434.969187</td>\n",
              "    </tr>\n",
              "    <tr>\n",
              "      <th>3</th>\n",
              "      <td>Close</td>\n",
              "      <td>435.438161</td>\n",
              "    </tr>\n",
              "    <tr>\n",
              "      <th>4</th>\n",
              "      <td>Year</td>\n",
              "      <td>2.283442</td>\n",
              "    </tr>\n",
              "  </tbody>\n",
              "</table>\n",
              "</div>"
            ],
            "text/plain": [
              "  Variables         VIF\n",
              "0      Open  288.855336\n",
              "1      High  325.130362\n",
              "2       Low  434.969187\n",
              "3     Close  435.438161\n",
              "4      Year    2.283442"
            ]
          },
          "metadata": {},
          "execution_count": 21
        }
      ]
    },
    {
      "cell_type": "code",
      "metadata": {
        "id": "tQgS9J90ibf6"
      },
      "source": [
        "stock_df_dup = stock_df.copy()"
      ],
      "execution_count": 22,
      "outputs": []
    },
    {
      "cell_type": "code",
      "metadata": {
        "id": "WQSpbLE7iid_"
      },
      "source": [
        "stock_df_dup['Average'] = (stock_df_dup['Low'] + stock_df_dup['High'])/2"
      ],
      "execution_count": 23,
      "outputs": []
    },
    {
      "cell_type": "code",
      "metadata": {
        "id": "S5fKPQyeiiaZ"
      },
      "source": [
        "stock_df_dup['Month'] = stock_df_dup['Date'].apply(lambda y: y.strftime('%m'))\n",
        "stock_df_dup['Month'] = stock_df_dup['Month'].astype(int)"
      ],
      "execution_count": 24,
      "outputs": []
    },
    {
      "cell_type": "code",
      "metadata": {
        "colab": {
          "base_uri": "https://localhost:8080/",
          "height": 142
        },
        "id": "sUh9YwPxjnM-",
        "outputId": "0e284793-97c9-466c-f3ed-0fc635043852"
      },
      "source": [
        "stock_df_dup.head(3)"
      ],
      "execution_count": 25,
      "outputs": [
        {
          "output_type": "execute_result",
          "data": {
            "text/html": [
              "<div>\n",
              "<style scoped>\n",
              "    .dataframe tbody tr th:only-of-type {\n",
              "        vertical-align: middle;\n",
              "    }\n",
              "\n",
              "    .dataframe tbody tr th {\n",
              "        vertical-align: top;\n",
              "    }\n",
              "\n",
              "    .dataframe thead th {\n",
              "        text-align: right;\n",
              "    }\n",
              "</style>\n",
              "<table border=\"1\" class=\"dataframe\">\n",
              "  <thead>\n",
              "    <tr style=\"text-align: right;\">\n",
              "      <th></th>\n",
              "      <th>Date</th>\n",
              "      <th>Open</th>\n",
              "      <th>High</th>\n",
              "      <th>Low</th>\n",
              "      <th>Close</th>\n",
              "      <th>Year</th>\n",
              "      <th>Average</th>\n",
              "      <th>Month</th>\n",
              "    </tr>\n",
              "  </thead>\n",
              "  <tbody>\n",
              "    <tr>\n",
              "      <th>0</th>\n",
              "      <td>2005-07-01</td>\n",
              "      <td>13.00</td>\n",
              "      <td>14.00</td>\n",
              "      <td>11.25</td>\n",
              "      <td>12.46</td>\n",
              "      <td>2005</td>\n",
              "      <td>12.625</td>\n",
              "      <td>7</td>\n",
              "    </tr>\n",
              "    <tr>\n",
              "      <th>1</th>\n",
              "      <td>2005-08-01</td>\n",
              "      <td>12.58</td>\n",
              "      <td>14.88</td>\n",
              "      <td>12.55</td>\n",
              "      <td>13.42</td>\n",
              "      <td>2005</td>\n",
              "      <td>13.715</td>\n",
              "      <td>8</td>\n",
              "    </tr>\n",
              "    <tr>\n",
              "      <th>2</th>\n",
              "      <td>2005-09-01</td>\n",
              "      <td>13.48</td>\n",
              "      <td>14.87</td>\n",
              "      <td>12.27</td>\n",
              "      <td>13.30</td>\n",
              "      <td>2005</td>\n",
              "      <td>13.570</td>\n",
              "      <td>9</td>\n",
              "    </tr>\n",
              "  </tbody>\n",
              "</table>\n",
              "</div>"
            ],
            "text/plain": [
              "        Date   Open   High    Low  Close  Year  Average  Month\n",
              "0 2005-07-01  13.00  14.00  11.25  12.46  2005   12.625      7\n",
              "1 2005-08-01  12.58  14.88  12.55  13.42  2005   13.715      8\n",
              "2 2005-09-01  13.48  14.87  12.27  13.30  2005   13.570      9"
            ]
          },
          "metadata": {},
          "execution_count": 25
        }
      ]
    },
    {
      "cell_type": "code",
      "metadata": {
        "colab": {
          "base_uri": "https://localhost:8080/"
        },
        "id": "wE6PcIDfk9zy",
        "outputId": "ff51da86-f591-478f-905b-07a2c37fb51c"
      },
      "source": [
        "stock_df_dup.info()"
      ],
      "execution_count": 26,
      "outputs": [
        {
          "output_type": "stream",
          "name": "stdout",
          "text": [
            "<class 'pandas.core.frame.DataFrame'>\n",
            "RangeIndex: 185 entries, 0 to 184\n",
            "Data columns (total 8 columns):\n",
            " #   Column   Non-Null Count  Dtype         \n",
            "---  ------   --------------  -----         \n",
            " 0   Date     185 non-null    datetime64[ns]\n",
            " 1   Open     185 non-null    float64       \n",
            " 2   High     185 non-null    float64       \n",
            " 3   Low      185 non-null    float64       \n",
            " 4   Close    185 non-null    float64       \n",
            " 5   Year     185 non-null    int64         \n",
            " 6   Average  185 non-null    float64       \n",
            " 7   Month    185 non-null    int64         \n",
            "dtypes: datetime64[ns](1), float64(5), int64(2)\n",
            "memory usage: 11.7 KB\n"
          ]
        }
      ]
    },
    {
      "cell_type": "code",
      "metadata": {
        "colab": {
          "base_uri": "https://localhost:8080/",
          "height": 517
        },
        "id": "7pSY_khAkeH5",
        "outputId": "c1678f12-4f51-48d4-9946-8fcc1732a02f"
      },
      "source": [
        "#  correlation map \n",
        "plt.figure(figsize = (10,8))\n",
        "correlation = stock_df_dup.corr()\n",
        "sns.heatmap(abs(correlation),cmap = 'coolwarm',annot = True)\n",
        "plt.title(\"Correlation map.\",fontweight = 'bold',fontsize = 14)"
      ],
      "execution_count": 27,
      "outputs": [
        {
          "output_type": "execute_result",
          "data": {
            "text/plain": [
              "Text(0.5, 1.0, 'Correlation map.')"
            ]
          },
          "metadata": {},
          "execution_count": 27
        },
        {
          "output_type": "display_data",
          "data": {
            "image/png": "[encoded data removed]",
            "text/plain": [
              "<Figure size 720x576 with 2 Axes>"
            ]
          },
          "metadata": {
            "needs_background": "light"
          }
        }
      ]
    },
    {
      "cell_type": "markdown",
      "metadata": {
        "id": "m8kB0Pk2WnaG"
      },
      "source": [
        "There is not much correlation in Month and Close price so it's better to drop Month feature "
      ]
    },
    {
      "cell_type": "code",
      "metadata": {
        "colab": {
          "base_uri": "https://localhost:8080/",
          "height": 204
        },
        "id": "A-hhoQ8LksvH",
        "outputId": "5f1e6cc4-c516-4c9b-e6a6-af6895fa23e5"
      },
      "source": [
        "#Calculating VIF after introducing some feature\n",
        "calc_vif(stock_df_dup[[i for i in stock_df_dup.describe().columns if i not in ['Close','Month']]])"
      ],
      "execution_count": 28,
      "outputs": [
        {
          "output_type": "execute_result",
          "data": {
            "text/html": [
              "<div>\n",
              "<style scoped>\n",
              "    .dataframe tbody tr th:only-of-type {\n",
              "        vertical-align: middle;\n",
              "    }\n",
              "\n",
              "    .dataframe tbody tr th {\n",
              "        vertical-align: top;\n",
              "    }\n",
              "\n",
              "    .dataframe thead th {\n",
              "        text-align: right;\n",
              "    }\n",
              "</style>\n",
              "<table border=\"1\" class=\"dataframe\">\n",
              "  <thead>\n",
              "    <tr style=\"text-align: right;\">\n",
              "      <th></th>\n",
              "      <th>Variables</th>\n",
              "      <th>VIF</th>\n",
              "    </tr>\n",
              "  </thead>\n",
              "  <tbody>\n",
              "    <tr>\n",
              "      <th>0</th>\n",
              "      <td>Open</td>\n",
              "      <td>175.772464</td>\n",
              "    </tr>\n",
              "    <tr>\n",
              "      <th>1</th>\n",
              "      <td>High</td>\n",
              "      <td>inf</td>\n",
              "    </tr>\n",
              "    <tr>\n",
              "      <th>2</th>\n",
              "      <td>Low</td>\n",
              "      <td>inf</td>\n",
              "    </tr>\n",
              "    <tr>\n",
              "      <th>3</th>\n",
              "      <td>Year</td>\n",
              "      <td>2.246542</td>\n",
              "    </tr>\n",
              "    <tr>\n",
              "      <th>4</th>\n",
              "      <td>Average</td>\n",
              "      <td>inf</td>\n",
              "    </tr>\n",
              "  </tbody>\n",
              "</table>\n",
              "</div>"
            ],
            "text/plain": [
              "  Variables         VIF\n",
              "0      Open  175.772464\n",
              "1      High         inf\n",
              "2       Low         inf\n",
              "3      Year    2.246542\n",
              "4   Average         inf"
            ]
          },
          "metadata": {},
          "execution_count": 28
        }
      ]
    },
    {
      "cell_type": "markdown",
      "metadata": {
        "id": "5QpvHep6XaBb"
      },
      "source": [
        " Still we have very high VIF in High, Low and Average so we should try to drop one of them."
      ]
    },
    {
      "cell_type": "code",
      "metadata": {
        "colab": {
          "base_uri": "https://localhost:8080/",
          "height": 173
        },
        "id": "toRreWmlXuCy",
        "outputId": "556f62b5-c6c6-477d-db29-d24cf964a1ef"
      },
      "source": [
        "calc_vif(stock_df_dup[[i for i in stock_df_dup.describe().columns if i not in ['Close','Month','Average']]])"
      ],
      "execution_count": 29,
      "outputs": [
        {
          "output_type": "execute_result",
          "data": {
            "text/html": [
              "<div>\n",
              "<style scoped>\n",
              "    .dataframe tbody tr th:only-of-type {\n",
              "        vertical-align: middle;\n",
              "    }\n",
              "\n",
              "    .dataframe tbody tr th {\n",
              "        vertical-align: top;\n",
              "    }\n",
              "\n",
              "    .dataframe thead th {\n",
              "        text-align: right;\n",
              "    }\n",
              "</style>\n",
              "<table border=\"1\" class=\"dataframe\">\n",
              "  <thead>\n",
              "    <tr style=\"text-align: right;\">\n",
              "      <th></th>\n",
              "      <th>Variables</th>\n",
              "      <th>VIF</th>\n",
              "    </tr>\n",
              "  </thead>\n",
              "  <tbody>\n",
              "    <tr>\n",
              "      <th>0</th>\n",
              "      <td>Open</td>\n",
              "      <td>175.772464</td>\n",
              "    </tr>\n",
              "    <tr>\n",
              "      <th>1</th>\n",
              "      <td>High</td>\n",
              "      <td>174.179939</td>\n",
              "    </tr>\n",
              "    <tr>\n",
              "      <th>2</th>\n",
              "      <td>Low</td>\n",
              "      <td>72.219917</td>\n",
              "    </tr>\n",
              "    <tr>\n",
              "      <th>3</th>\n",
              "      <td>Year</td>\n",
              "      <td>2.246542</td>\n",
              "    </tr>\n",
              "  </tbody>\n",
              "</table>\n",
              "</div>"
            ],
            "text/plain": [
              "  Variables         VIF\n",
              "0      Open  175.772464\n",
              "1      High  174.179939\n",
              "2       Low   72.219917\n",
              "3      Year    2.246542"
            ]
          },
          "metadata": {},
          "execution_count": 29
        }
      ]
    },
    {
      "cell_type": "markdown",
      "metadata": {
        "id": "c_khxYKKX4v0"
      },
      "source": [
        "Again we have to drop one them. We choose the feature which one have high VIF."
      ]
    },
    {
      "cell_type": "code",
      "metadata": {
        "colab": {
          "base_uri": "https://localhost:8080/",
          "height": 142
        },
        "id": "ibiHBtJXYD3i",
        "outputId": "050ef72a-0b73-4a9a-e710-7441bbde0b1e"
      },
      "source": [
        "calc_vif(stock_df_dup[[i for i in stock_df_dup.describe().columns if i not in ['Close','Month','Average','Open']]])"
      ],
      "execution_count": 30,
      "outputs": [
        {
          "output_type": "execute_result",
          "data": {
            "text/html": [
              "<div>\n",
              "<style scoped>\n",
              "    .dataframe tbody tr th:only-of-type {\n",
              "        vertical-align: middle;\n",
              "    }\n",
              "\n",
              "    .dataframe tbody tr th {\n",
              "        vertical-align: top;\n",
              "    }\n",
              "\n",
              "    .dataframe thead th {\n",
              "        text-align: right;\n",
              "    }\n",
              "</style>\n",
              "<table border=\"1\" class=\"dataframe\">\n",
              "  <thead>\n",
              "    <tr style=\"text-align: right;\">\n",
              "      <th></th>\n",
              "      <th>Variables</th>\n",
              "      <th>VIF</th>\n",
              "    </tr>\n",
              "  </thead>\n",
              "  <tbody>\n",
              "    <tr>\n",
              "      <th>0</th>\n",
              "      <td>High</td>\n",
              "      <td>66.898839</td>\n",
              "    </tr>\n",
              "    <tr>\n",
              "      <th>1</th>\n",
              "      <td>Low</td>\n",
              "      <td>63.549460</td>\n",
              "    </tr>\n",
              "    <tr>\n",
              "      <th>2</th>\n",
              "      <td>Year</td>\n",
              "      <td>2.239043</td>\n",
              "    </tr>\n",
              "  </tbody>\n",
              "</table>\n",
              "</div>"
            ],
            "text/plain": [
              "  Variables        VIF\n",
              "0      High  66.898839\n",
              "1       Low  63.549460\n",
              "2      Year   2.239043"
            ]
          },
          "metadata": {},
          "execution_count": 30
        }
      ]
    },
    {
      "cell_type": "code",
      "metadata": {
        "colab": {
          "base_uri": "https://localhost:8080/",
          "height": 111
        },
        "id": "3MRRJ5jCYNlL",
        "outputId": "6aa40829-c64b-486f-f84d-30b9f11c2f15"
      },
      "source": [
        "calc_vif(stock_df_dup[[i for i in stock_df_dup.describe().columns if i not in ['Close','Month','Average','Open','High']]])"
      ],
      "execution_count": 31,
      "outputs": [
        {
          "output_type": "execute_result",
          "data": {
            "text/html": [
              "<div>\n",
              "<style scoped>\n",
              "    .dataframe tbody tr th:only-of-type {\n",
              "        vertical-align: middle;\n",
              "    }\n",
              "\n",
              "    .dataframe tbody tr th {\n",
              "        vertical-align: top;\n",
              "    }\n",
              "\n",
              "    .dataframe thead th {\n",
              "        text-align: right;\n",
              "    }\n",
              "</style>\n",
              "<table border=\"1\" class=\"dataframe\">\n",
              "  <thead>\n",
              "    <tr style=\"text-align: right;\">\n",
              "      <th></th>\n",
              "      <th>Variables</th>\n",
              "      <th>VIF</th>\n",
              "    </tr>\n",
              "  </thead>\n",
              "  <tbody>\n",
              "    <tr>\n",
              "      <th>0</th>\n",
              "      <td>Low</td>\n",
              "      <td>2.095102</td>\n",
              "    </tr>\n",
              "    <tr>\n",
              "      <th>1</th>\n",
              "      <td>Year</td>\n",
              "      <td>2.095102</td>\n",
              "    </tr>\n",
              "  </tbody>\n",
              "</table>\n",
              "</div>"
            ],
            "text/plain": [
              "  Variables       VIF\n",
              "0       Low  2.095102\n",
              "1      Year  2.095102"
            ]
          },
          "metadata": {},
          "execution_count": 31
        }
      ]
    },
    {
      "cell_type": "markdown",
      "metadata": {
        "id": "a5QActxcYYGu"
      },
      "source": [
        "Now we have VIF less than 5 which is good but we drop too many features which can lead to wrong prediction but first of all we'll train our model with these 2 features."
      ]
    },
    {
      "cell_type": "markdown",
      "metadata": {
        "id": "O3EcE06p0XNh"
      },
      "source": [
        "Here we have only 5 features and we have to give prediction on the basis of 4 features and we cannot drop any feature because each vaiable is important in perspective of regression analysis. \n",
        "\n",
        "Despite having high VIF(variance inflation factor) which means high collinearity in our independent dataset we cannot drop any of them.\n",
        "\n",
        "We'll move forward with these features."
      ]
    },
    {
      "cell_type": "markdown",
      "metadata": {
        "id": "qmVIkS8dWQRb"
      },
      "source": [
        "## **Linear Regression**"
      ]
    },
    {
      "cell_type": "code",
      "metadata": {
        "colab": {
          "base_uri": "https://localhost:8080/"
        },
        "id": "-AA1e4sH0W2O",
        "outputId": "a4b137a7-a030-4765-e19c-e152d7fafc33"
      },
      "source": [
        "#Installing scipy \n",
        "!pip install scipy"
      ],
      "execution_count": 32,
      "outputs": [
        {
          "output_type": "stream",
          "name": "stdout",
          "text": [
            "Requirement already satisfied: scipy in /usr/local/lib/python3.7/dist-packages (1.4.1)\n",
            "Requirement already satisfied: numpy>=1.13.3 in /usr/local/lib/python3.7/dist-packages (from scipy) (1.19.5)\n"
          ]
        }
      ]
    },
    {
      "cell_type": "code",
      "metadata": {
        "id": "m8KQHHaB4G03"
      },
      "source": [
        "#applying zscore to each values of independent variable \n",
        "from scipy.stats import zscore\n",
        "X = round(stock_df_dup[['Low']].apply(zscore),3)\n",
        "X['Year'] = stock_df_dup['Year'].values\n"
      ],
      "execution_count": 90,
      "outputs": []
    },
    {
      "cell_type": "code",
      "metadata": {
        "colab": {
          "base_uri": "https://localhost:8080/",
          "height": 419
        },
        "id": "fllacO14Cf12",
        "outputId": "c867cc1f-71cc-4e30-feb1-4c11db5d0113"
      },
      "source": [
        "X"
      ],
      "execution_count": 91,
      "outputs": [
        {
          "output_type": "execute_result",
          "data": {
            "text/html": [
              "<div>\n",
              "<style scoped>\n",
              "    .dataframe tbody tr th:only-of-type {\n",
              "        vertical-align: middle;\n",
              "    }\n",
              "\n",
              "    .dataframe tbody tr th {\n",
              "        vertical-align: top;\n",
              "    }\n",
              "\n",
              "    .dataframe thead th {\n",
              "        text-align: right;\n",
              "    }\n",
              "</style>\n",
              "<table border=\"1\" class=\"dataframe\">\n",
              "  <thead>\n",
              "    <tr style=\"text-align: right;\">\n",
              "      <th></th>\n",
              "      <th>Low</th>\n",
              "      <th>Year</th>\n",
              "    </tr>\n",
              "  </thead>\n",
              "  <tbody>\n",
              "    <tr>\n",
              "      <th>0</th>\n",
              "      <td>-0.920</td>\n",
              "      <td>2005</td>\n",
              "    </tr>\n",
              "    <tr>\n",
              "      <th>1</th>\n",
              "      <td>-0.906</td>\n",
              "      <td>2005</td>\n",
              "    </tr>\n",
              "    <tr>\n",
              "      <th>2</th>\n",
              "      <td>-0.909</td>\n",
              "      <td>2005</td>\n",
              "    </tr>\n",
              "    <tr>\n",
              "      <th>3</th>\n",
              "      <td>-0.907</td>\n",
              "      <td>2005</td>\n",
              "    </tr>\n",
              "    <tr>\n",
              "      <th>4</th>\n",
              "      <td>-0.902</td>\n",
              "      <td>2005</td>\n",
              "    </tr>\n",
              "    <tr>\n",
              "      <th>...</th>\n",
              "      <td>...</td>\n",
              "      <td>...</td>\n",
              "    </tr>\n",
              "    <tr>\n",
              "      <th>180</th>\n",
              "      <td>-0.922</td>\n",
              "      <td>2020</td>\n",
              "    </tr>\n",
              "    <tr>\n",
              "      <th>181</th>\n",
              "      <td>-0.913</td>\n",
              "      <td>2020</td>\n",
              "    </tr>\n",
              "    <tr>\n",
              "      <th>182</th>\n",
              "      <td>-0.904</td>\n",
              "      <td>2020</td>\n",
              "    </tr>\n",
              "    <tr>\n",
              "      <th>183</th>\n",
              "      <td>-0.911</td>\n",
              "      <td>2020</td>\n",
              "    </tr>\n",
              "    <tr>\n",
              "      <th>184</th>\n",
              "      <td>-0.909</td>\n",
              "      <td>2020</td>\n",
              "    </tr>\n",
              "  </tbody>\n",
              "</table>\n",
              "<p>185 rows × 2 columns</p>\n",
              "</div>"
            ],
            "text/plain": [
              "       Low  Year\n",
              "0   -0.920  2005\n",
              "1   -0.906  2005\n",
              "2   -0.909  2005\n",
              "3   -0.907  2005\n",
              "4   -0.902  2005\n",
              "..     ...   ...\n",
              "180 -0.922  2020\n",
              "181 -0.913  2020\n",
              "182 -0.904  2020\n",
              "183 -0.911  2020\n",
              "184 -0.909  2020\n",
              "\n",
              "[185 rows x 2 columns]"
            ]
          },
          "metadata": {},
          "execution_count": 91
        }
      ]
    },
    {
      "cell_type": "code",
      "metadata": {
        "id": "F4dTfEysC6ft"
      },
      "source": [
        "#applying log on dependent variable \n",
        "y = np.log10(stock_df_dup['Close'])"
      ],
      "execution_count": 92,
      "outputs": []
    },
    {
      "cell_type": "code",
      "metadata": {
        "id": "Mjmk-5lgFrTp"
      },
      "source": [
        "#Importing libraries\n",
        "from numpy import math\n",
        "from sklearn.model_selection import train_test_split\n",
        "from sklearn.metrics import r2_score\n",
        "from sklearn.metrics import mean_squared_error\n",
        "from sklearn.linear_model import LinearRegression, Lasso, Ridge, ElasticNet"
      ],
      "execution_count": 56,
      "outputs": []
    },
    {
      "cell_type": "code",
      "metadata": {
        "colab": {
          "base_uri": "https://localhost:8080/"
        },
        "id": "2SrPwkLJEXkh",
        "outputId": "d6df5114-f212-486b-af90-27a7917e25a6"
      },
      "source": [
        "#Split our data into train and test datasets \n",
        "X_train,X_test,y_train,y_test = train_test_split(X,y,test_size = 0.2)\n",
        "print('X_train: ',X_train.shape)\n",
        "print('X_test: ',X_test.shape)\n",
        "print('y_train: ',y_train.shape)\n",
        "print('y_test: ',y_test.shape)"
      ],
      "execution_count": 93,
      "outputs": [
        {
          "output_type": "stream",
          "name": "stdout",
          "text": [
            "X_train:  (148, 2)\n",
            "X_test:  (37, 2)\n",
            "y_train:  (148,)\n",
            "y_test:  (37,)\n"
          ]
        }
      ]
    },
    {
      "cell_type": "code",
      "metadata": {
        "id": "r3h1JnV_btT2"
      },
      "source": [
        "#Applying Linear Regression \n",
        "lr = LinearRegression()\n",
        "reg = lr.fit(X_train,y_train)"
      ],
      "execution_count": 94,
      "outputs": []
    },
    {
      "cell_type": "code",
      "metadata": {
        "colab": {
          "base_uri": "https://localhost:8080/"
        },
        "id": "ZLG-J-nEcvP8",
        "outputId": "1ffa3be7-3599-4684-82d2-f5838f064241"
      },
      "source": [
        "#Checking efficiency of training model\n",
        "reg.score(X_train,y_train)"
      ],
      "execution_count": 95,
      "outputs": [
        {
          "output_type": "execute_result",
          "data": {
            "text/plain": [
              "0.8139412856762389"
            ]
          },
          "metadata": {},
          "execution_count": 95
        }
      ]
    },
    {
      "cell_type": "code",
      "metadata": {
        "colab": {
          "base_uri": "https://localhost:8080/",
          "height": 142
        },
        "id": "C6CqgWlddPPt",
        "outputId": "2631c573-f245-46b0-a2c7-7c0a1d3309d3"
      },
      "source": [
        "#getting regression coefficients \n",
        "intercept = reg.intercept_\n",
        "coeffs = reg.coef_\n",
        "reg_coeffs = np.append(coeffs,intercept)\n",
        "\n",
        "#making data frame of coefficients \n",
        "coefficients = pd.DataFrame()\n",
        "betas = (\"beta_0\",\"beta_1\",\"beta_2\")\n",
        "coefficients[\"Regressors\"] = betas\n",
        "coefficients[\"Values\"] = [i for i in reg_coeffs]\n",
        "coefficients"
      ],
      "execution_count": 97,
      "outputs": [
        {
          "output_type": "execute_result",
          "data": {
            "text/html": [
              "<div>\n",
              "<style scoped>\n",
              "    .dataframe tbody tr th:only-of-type {\n",
              "        vertical-align: middle;\n",
              "    }\n",
              "\n",
              "    .dataframe tbody tr th {\n",
              "        vertical-align: top;\n",
              "    }\n",
              "\n",
              "    .dataframe thead th {\n",
              "        text-align: right;\n",
              "    }\n",
              "</style>\n",
              "<table border=\"1\" class=\"dataframe\">\n",
              "  <thead>\n",
              "    <tr style=\"text-align: right;\">\n",
              "      <th></th>\n",
              "      <th>Regressors</th>\n",
              "      <th>Values</th>\n",
              "    </tr>\n",
              "  </thead>\n",
              "  <tbody>\n",
              "    <tr>\n",
              "      <th>0</th>\n",
              "      <td>beta_0</td>\n",
              "      <td>0.362681</td>\n",
              "    </tr>\n",
              "    <tr>\n",
              "      <th>1</th>\n",
              "      <td>beta_1</td>\n",
              "      <td>0.010023</td>\n",
              "    </tr>\n",
              "    <tr>\n",
              "      <th>2</th>\n",
              "      <td>beta_2</td>\n",
              "      <td>-18.352103</td>\n",
              "    </tr>\n",
              "  </tbody>\n",
              "</table>\n",
              "</div>"
            ],
            "text/plain": [
              "  Regressors     Values\n",
              "0     beta_0   0.362681\n",
              "1     beta_1   0.010023\n",
              "2     beta_2 -18.352103"
            ]
          },
          "metadata": {},
          "execution_count": 97
        }
      ]
    },
    {
      "cell_type": "code",
      "metadata": {
        "colab": {
          "base_uri": "https://localhost:8080/"
        },
        "id": "5o5Ep184d8Nt",
        "outputId": "cd82cf75-773d-47eb-a1eb-bcb6f4a7ea0a"
      },
      "source": [
        "#Predict y_test on the basis of train sets\n",
        "y_pred = reg.predict(X_test)\n",
        "print(\"Printed values of Y: \\n\",y_pred)"
      ],
      "execution_count": 98,
      "outputs": [
        {
          "output_type": "stream",
          "name": "stdout",
          "text": [
            "Printed values of Y: \n",
            " [1.83309656 2.68414198 1.42963269 2.27734652 2.43511256 1.66448383\n",
            " 1.98347685 2.34553046 1.51604907 1.81713861 1.41707101 1.71100534\n",
            " 1.68307894 1.47687957 1.83157836 1.77796911 2.80079298 1.52597359\n",
            " 1.7864429  1.49138679 1.67569319 1.4819571  1.89939963 1.44921744\n",
            " 1.64974326 2.38783195 1.4368863  1.74453503 2.41767016 1.86741907\n",
            " 1.69623384 1.9985773  1.61176301 2.3578616  1.93583356 2.84322661\n",
            " 1.56478041]\n"
          ]
        }
      ]
    },
    {
      "cell_type": "code",
      "metadata": {
        "colab": {
          "base_uri": "https://localhost:8080/"
        },
        "id": "hwGfDQPlZJpR",
        "outputId": "ad1520ff-f4fd-4370-ee63-d65989e4fcc2"
      },
      "source": [
        "reg.score(X_test,y_pred)"
      ],
      "execution_count": 99,
      "outputs": [
        {
          "output_type": "execute_result",
          "data": {
            "text/plain": [
              "1.0"
            ]
          },
          "metadata": {},
          "execution_count": 99
        }
      ]
    },
    {
      "cell_type": "code",
      "metadata": {
        "colab": {
          "base_uri": "https://localhost:8080/"
        },
        "id": "FMjMPKnZeabe",
        "outputId": "7ad8ff67-f592-4370-85fc-2c87dd05d2b8"
      },
      "source": [
        "#Calculating MSE and RMSE\n",
        "MSE = mean_squared_error(y_test,y_pred)\n",
        "print(\"Mean Squared Error: \",MSE)\n",
        "\n",
        "RMSE = np.sqrt(MSE)\n",
        "print(\"Root Mean Squared Error: \",RMSE)"
      ],
      "execution_count": 100,
      "outputs": [
        {
          "output_type": "stream",
          "name": "stdout",
          "text": [
            "Mean Squared Error:  0.025648452248915696\n",
            "Root Mean Squared Error:  0.16015134170189052\n"
          ]
        }
      ]
    },
    {
      "cell_type": "code",
      "metadata": {
        "colab": {
          "base_uri": "https://localhost:8080/"
        },
        "id": "20QOB4x_fzaM",
        "outputId": "8c73168d-5387-438a-aec5-aa8e59110f32"
      },
      "source": [
        "#Calculating r2_Score \n",
        "r2 = r2_score(y_test,y_pred)\n",
        "print(\"R2: \",r2)\n",
        "adjusted_r2 = 1-(1-r2_score(y_test,y_pred))*(X_test.shape[0]-1)/((X_test.shape[0]-X_test.shape[1]-1))\n",
        "print(\"Adjusted R2: \",adjusted_r2)"
      ],
      "execution_count": 101,
      "outputs": [
        {
          "output_type": "stream",
          "name": "stdout",
          "text": [
            "R2:  0.8365389962183716\n",
            "Adjusted R2:  0.8269236430547464\n"
          ]
        }
      ]
    },
    {
      "cell_type": "code",
      "metadata": {
        "colab": {
          "base_uri": "https://localhost:8080/",
          "height": 337
        },
        "id": "7q9rHqQFUU3l",
        "outputId": "6c5b2e43-2566-4c9c-aab3-3242444b5163"
      },
      "source": [
        "plt.figure(figsize=(9,5))\n",
        "plt.plot(10**y_pred,color = 'brown')\n",
        "plt.plot(np.array(10**y_test),color = \"blue\")\n",
        "plt.legend([\"Predicted\",\"Actual\"])\n",
        "plt.ylabel(\"Price\",fontsize = 14)\n",
        "plt.title(\"Actual closing price vs Predicted Closing price\",fontweight = 'bold',fontsize = 14)\n",
        "plt.show()"
      ],
      "execution_count": 102,
      "outputs": [
        {
          "output_type": "display_data",
          "data": {
            "image/png": "[encoded data removed]",
            "text/plain": [
              "<Figure size 648x360 with 1 Axes>"
            ]
          },
          "metadata": {
            "needs_background": "light"
          }
        }
      ]
    },
    {
      "cell_type": "markdown",
      "metadata": {
        "id": "FHggMvOXgFpp"
      },
      "source": [
        "Here, We can see it is completely overfitted scenario, now we have to move towards Ridge, Lasso and ElasticNet regression."
      ]
    },
    {
      "cell_type": "markdown",
      "metadata": {
        "id": "k1b6w0fHKn0R"
      },
      "source": [
        "## **LASSO REGRESSION**"
      ]
    },
    {
      "cell_type": "code",
      "metadata": {
        "colab": {
          "base_uri": "https://localhost:8080/"
        },
        "id": "jx1VCzK7Km0n",
        "outputId": "77cee823-41a2-408a-8462-dc15739ddc20"
      },
      "source": [
        "lasso  = Lasso(alpha=0.0001 , max_iter= 5000)\n",
        "\n",
        "lasso.fit(X_train, y_train)"
      ],
      "execution_count": 117,
      "outputs": [
        {
          "output_type": "execute_result",
          "data": {
            "text/plain": [
              "Lasso(alpha=0.0001, max_iter=5000)"
            ]
          },
          "metadata": {},
          "execution_count": 117
        }
      ]
    },
    {
      "cell_type": "code",
      "metadata": {
        "colab": {
          "base_uri": "https://localhost:8080/"
        },
        "id": "m72j4CIOLd-L",
        "outputId": "cf172f96-087d-4de7-9f92-b3e40cdbe892"
      },
      "source": [
        "lasso.score(X_train, y_train)"
      ],
      "execution_count": 118,
      "outputs": [
        {
          "output_type": "execute_result",
          "data": {
            "text/plain": [
              "0.8139412316442797"
            ]
          },
          "metadata": {},
          "execution_count": 118
        }
      ]
    },
    {
      "cell_type": "code",
      "metadata": {
        "colab": {
          "base_uri": "https://localhost:8080/"
        },
        "id": "h1sEUE9bLpYS",
        "outputId": "955db46a-5809-4b65-9aa4-7e09a1a16f49"
      },
      "source": [
        "# Cross Validation \n",
        "from sklearn.model_selection import GridSearchCV\n",
        "lasso = Lasso()\n",
        "parameters = {'alpha': [1e-15,1e-13,1e-10,1e-8,1e-5,1e-4,1e-3,1e-2,1e-1,1,5,0.0014]}\n",
        "lasso_regressor = GridSearchCV(lasso, parameters, scoring='neg_mean_squared_error', cv=5)\n",
        "lasso_regressor.fit(X_train, y_train)"
      ],
      "execution_count": 119,
      "outputs": [
        {
          "output_type": "execute_result",
          "data": {
            "text/plain": [
              "GridSearchCV(cv=5, estimator=Lasso(),\n",
              "             param_grid={'alpha': [1e-15, 1e-13, 1e-10, 1e-08, 1e-05, 0.0001,\n",
              "                                   0.001, 0.01, 0.1, 1, 5, 0.0014]},\n",
              "             scoring='neg_mean_squared_error')"
            ]
          },
          "metadata": {},
          "execution_count": 119
        }
      ]
    },
    {
      "cell_type": "code",
      "metadata": {
        "colab": {
          "base_uri": "https://localhost:8080/"
        },
        "id": "NcYmLcGTL0cB",
        "outputId": "8611a7d9-c0c0-4ed5-c522-134120b57f60"
      },
      "source": [
        "print(\"The best fit alpha value is found out to be :\" ,lasso_regressor.best_params_)\n",
        "print(\"\\nUsing \",lasso_regressor.best_params_, \" the negative mean squared error is: \", lasso_regressor.best_score_)"
      ],
      "execution_count": 120,
      "outputs": [
        {
          "output_type": "stream",
          "name": "stdout",
          "text": [
            "The best fit alpha value is found out to be : {'alpha': 0.0014}\n",
            "\n",
            "Using  {'alpha': 0.0014}  the negative mean squared error is:  -0.03666931589169187\n"
          ]
        }
      ]
    },
    {
      "cell_type": "code",
      "metadata": {
        "id": "AZMEm5hTL2Sa"
      },
      "source": [
        "y_pred_lasso = lasso_regressor.predict(X_test)"
      ],
      "execution_count": 121,
      "outputs": []
    },
    {
      "cell_type": "code",
      "metadata": {
        "colab": {
          "base_uri": "https://localhost:8080/",
          "height": 338
        },
        "id": "dH4SkGGhL6YK",
        "outputId": "e406b701-902e-4141-a5ab-7e4e98bf0d53"
      },
      "source": [
        "#predicted graph of lasso\n",
        "plt.figure(figsize=(8,5))\n",
        "plt.plot(10**y_pred_lasso,color = 'brown')\n",
        "plt.plot(np.array(10**y_test),'blue')\n",
        "plt.legend([\"Predicted\",\"Actual\"])\n",
        "plt.ylabel(\"Close Price (₹)\",fontsize = 14)\n",
        "plt.title(\"Lasso Predicted vs Actual\",fontweight = 'bold',fontsize = 16)\n",
        "plt.show()"
      ],
      "execution_count": 144,
      "outputs": [
        {
          "output_type": "display_data",
          "data": {
            "image/png": "[encoded data removed]",
            "text/plain": [
              "<Figure size 576x360 with 1 Axes>"
            ]
          },
          "metadata": {
            "needs_background": "light"
          }
        }
      ]
    },
    {
      "cell_type": "code",
      "metadata": {
        "colab": {
          "base_uri": "https://localhost:8080/"
        },
        "id": "zbOtpR37MO_y",
        "outputId": "0819a15d-87f3-4773-a1b2-bed1751dca46"
      },
      "source": [
        "MSE  = mean_squared_error(y_test, y_pred_lasso)\n",
        "print(\"MSE :\" , MSE)\n",
        "\n",
        "RMSE = np.sqrt(MSE)\n",
        "print(\"RMSE :\" ,RMSE)\n",
        "\n",
        "r2 = r2_score(y_test, y_pred_lasso)\n",
        "print(\"R2 :\" ,r2)\n",
        "print(\"Adjusted R2 : \",1-(1-r2_score(y_test, y_pred_lasso))*((X_test.shape[0]-1)/(X_test.shape[0]-X_test.shape[1]-1)))"
      ],
      "execution_count": 123,
      "outputs": [
        {
          "output_type": "stream",
          "name": "stdout",
          "text": [
            "MSE : 0.02550018074127579\n",
            "RMSE : 0.15968776014859684\n",
            "R2 : 0.8374839502934097\n",
            "Adjusted R2 :  0.8279241826636103\n"
          ]
        }
      ]
    },
    {
      "cell_type": "markdown",
      "metadata": {
        "id": "orl9aMDRlJk7"
      },
      "source": [
        "## **Ridge Regression**"
      ]
    },
    {
      "cell_type": "code",
      "metadata": {
        "colab": {
          "base_uri": "https://localhost:8080/"
        },
        "id": "0j8I5YA8MXdj",
        "outputId": "f1d28c32-6fb9-45a5-91dc-53b710b8c649"
      },
      "source": [
        "# Applying ridge regression to penalize our parameters\n",
        "ridge = Ridge()\n",
        "parameters = {'alpha': [1e-15,1e-10,1e-8,1e-5,1e-4,1e-3,1e-2,1,2,3,5,10,20,30,40,45,50,55,60,100]}\n",
        "ridge_regressor = GridSearchCV(ridge, parameters, scoring='neg_mean_squared_error', cv=5)\n",
        "ridge_regressor.fit(X_train,y_train)"
      ],
      "execution_count": 124,
      "outputs": [
        {
          "output_type": "execute_result",
          "data": {
            "text/plain": [
              "GridSearchCV(cv=5, estimator=Ridge(),\n",
              "             param_grid={'alpha': [1e-15, 1e-10, 1e-08, 1e-05, 0.0001, 0.001,\n",
              "                                   0.01, 1, 2, 3, 5, 10, 20, 30, 40, 45, 50, 55,\n",
              "                                   60, 100]},\n",
              "             scoring='neg_mean_squared_error')"
            ]
          },
          "metadata": {},
          "execution_count": 124
        }
      ]
    },
    {
      "cell_type": "code",
      "metadata": {
        "colab": {
          "base_uri": "https://localhost:8080/"
        },
        "id": "dnSsr7RHMc2H",
        "outputId": "49db53f2-3428-497d-85fe-9b20a5a7b8ca"
      },
      "source": [
        "print(\"The best fit alpha value is found out to be :\" ,ridge_regressor.best_params_)\n",
        "print(\"\\nUsing \",ridge_regressor.best_params_, \" the negative mean squared error is: \", ridge_regressor.best_score_)"
      ],
      "execution_count": 125,
      "outputs": [
        {
          "output_type": "stream",
          "name": "stdout",
          "text": [
            "The best fit alpha value is found out to be : {'alpha': 1}\n",
            "\n",
            "Using  {'alpha': 1}  the negative mean squared error is:  -0.03665654561456277\n"
          ]
        }
      ]
    },
    {
      "cell_type": "code",
      "metadata": {
        "id": "LAXqJJ53Mhem"
      },
      "source": [
        "y_pred_ridge = ridge_regressor.predict(X_test)"
      ],
      "execution_count": 126,
      "outputs": []
    },
    {
      "cell_type": "code",
      "metadata": {
        "colab": {
          "base_uri": "https://localhost:8080/"
        },
        "id": "hwzpTJkrMmxD",
        "outputId": "0329954b-8c17-4dbf-b7f7-45b02e1297e6"
      },
      "source": [
        "MSE  = mean_squared_error(y_test, y_pred_ridge)\n",
        "print(\"MSE :\" , MSE)\n",
        "\n",
        "RMSE = np.sqrt(MSE)\n",
        "print(\"RMSE :\" ,RMSE)\n",
        "\n",
        "r2 = r2_score(y_test, y_pred_ridge)\n",
        "print(\"R2 :\" ,r2)\n",
        "print(\"Adjusted R2 : \",1-(1-r2_score(y_test, y_pred_ridge))*((X_test.shape[0]-1)/(X_test.shape[0]-X_test.shape[1]-1)))"
      ],
      "execution_count": 127,
      "outputs": [
        {
          "output_type": "stream",
          "name": "stdout",
          "text": [
            "MSE : 0.025329240219411162\n",
            "RMSE : 0.1591516265057042\n",
            "R2 : 0.8385733770166979\n",
            "Adjusted R2 :  0.8290776933117978\n"
          ]
        }
      ]
    },
    {
      "cell_type": "code",
      "metadata": {
        "colab": {
          "base_uri": "https://localhost:8080/",
          "height": 338
        },
        "id": "bZ6O4_xrKFqK",
        "outputId": "7875ebbf-f509-473c-d3f4-5c6419b7e46e"
      },
      "source": [
        "#predicted graph of Ridge\n",
        "plt.figure(figsize=(8,5))\n",
        "plt.plot(10**y_pred_ridge,color = 'brown')\n",
        "plt.plot(np.array(10**y_test),color = 'blue')\n",
        "plt.legend([\"Predicted\",\"Actual\"])\n",
        "plt.ylabel(\"Close Price (₹)\",fontsize = 14)\n",
        "plt.title(\"Lasso Predicted vs Actual\",fontweight = 'bold',fontsize = 16)\n",
        "plt.show()"
      ],
      "execution_count": 145,
      "outputs": [
        {
          "output_type": "display_data",
          "data": {
            "image/png": "[encoded data removed]",
            "text/plain": [
              "<Figure size 576x360 with 1 Axes>"
            ]
          },
          "metadata": {
            "needs_background": "light"
          }
        }
      ]
    },
    {
      "cell_type": "markdown",
      "metadata": {
        "id": "J83wzzKfq92O"
      },
      "source": [
        "## **ElasticNet Regression Model**"
      ]
    },
    {
      "cell_type": "code",
      "metadata": {
        "id": "cvWidBB6MsdK"
      },
      "source": [
        "from sklearn.linear_model import ElasticNet\n",
        "elasticnet = ElasticNet(alpha=0.1, l1_ratio=0.5)"
      ],
      "execution_count": 128,
      "outputs": []
    },
    {
      "cell_type": "code",
      "metadata": {
        "colab": {
          "base_uri": "https://localhost:8080/"
        },
        "id": "ViAJ48swMwC4",
        "outputId": "172e00d3-f93f-464a-e592-df73a1247088"
      },
      "source": [
        "elasticnet.fit(X_train,y_train)"
      ],
      "execution_count": 129,
      "outputs": [
        {
          "output_type": "execute_result",
          "data": {
            "text/plain": [
              "ElasticNet(alpha=0.1)"
            ]
          },
          "metadata": {},
          "execution_count": 129
        }
      ]
    },
    {
      "cell_type": "code",
      "metadata": {
        "colab": {
          "base_uri": "https://localhost:8080/"
        },
        "id": "455JgHsqMzO2",
        "outputId": "fd95ca98-7e47-4cec-ce96-e1e38477602c"
      },
      "source": [
        "elasticnet.score(X_train, y_train)"
      ],
      "execution_count": 130,
      "outputs": [
        {
          "output_type": "execute_result",
          "data": {
            "text/plain": [
              "0.7861395329912118"
            ]
          },
          "metadata": {},
          "execution_count": 130
        }
      ]
    },
    {
      "cell_type": "code",
      "metadata": {
        "colab": {
          "base_uri": "https://localhost:8080/"
        },
        "id": "kph_B4InkbsX",
        "outputId": "dcd11495-6b27-4b78-e6f2-ac0c1148fb63"
      },
      "source": [
        "print('Intercept of Elastic Model: ',elasticnet.intercept_)\n",
        "print('Regressors of Elastic Model: ',elasticnet.coef_)"
      ],
      "execution_count": 131,
      "outputs": [
        {
          "output_type": "stream",
          "name": "stdout",
          "text": [
            "Intercept of Elastic Model:  -35.925295208754996\n",
            "Regressors of Elastic Model:  [0.27517279 0.01875271]\n"
          ]
        }
      ]
    },
    {
      "cell_type": "code",
      "metadata": {
        "id": "n1YbDfkLM338"
      },
      "source": [
        "y_pred_en = elasticnet.predict(X_test)"
      ],
      "execution_count": 132,
      "outputs": []
    },
    {
      "cell_type": "code",
      "metadata": {
        "colab": {
          "base_uri": "https://localhost:8080/"
        },
        "id": "DnDGrK00M9T_",
        "outputId": "eb4ae775-263b-498a-f654-6e348ece4602"
      },
      "source": [
        "MSE  = mean_squared_error(y_test, y_pred_en)\n",
        "print(\"MSE :\" , MSE)\n",
        "\n",
        "RMSE = np.sqrt(MSE)\n",
        "print(\"RMSE :\" ,RMSE)\n",
        "\n",
        "r2 = r2_score(y_test, y_pred_en)\n",
        "print(\"R2 :\" ,r2)\n",
        "print(\"Adjusted R2 : \",1-(1-r2_score(y_test, y_pred_en))*((X_test.shape[0]-1)/(X_test.shape[0]-X_test.shape[1]-1)))"
      ],
      "execution_count": 133,
      "outputs": [
        {
          "output_type": "stream",
          "name": "stdout",
          "text": [
            "MSE : 0.02334622347588952\n",
            "RMSE : 0.15279471023530075\n",
            "R2 : 0.8512114069557375\n",
            "Adjusted R2 :  0.8424591367766632\n"
          ]
        }
      ]
    },
    {
      "cell_type": "code",
      "metadata": {
        "colab": {
          "base_uri": "https://localhost:8080/"
        },
        "id": "gvwMh3SzNBKc",
        "outputId": "e9d32242-8582-4ffb-ef6b-8c08195bde5f"
      },
      "source": [
        "elastic = ElasticNet()\n",
        "parameters = {'alpha': [1e-15,1e-13,1e-10,1e-8,1e-5,1e-4,1e-3,1e-2,1e-1,1,5,10,40,45,50],'l1_ratio':[0.3,0.4,0.5,0.6,0.7,0.8]}\n",
        "elastic_regressor = GridSearchCV(elastic, parameters, scoring='neg_mean_squared_error',cv=5)\n",
        "elastic_regressor.fit(X_train, y_train)"
      ],
      "execution_count": 134,
      "outputs": [
        {
          "output_type": "execute_result",
          "data": {
            "text/plain": [
              "GridSearchCV(cv=5, estimator=ElasticNet(),\n",
              "             param_grid={'alpha': [1e-15, 1e-13, 1e-10, 1e-08, 1e-05, 0.0001,\n",
              "                                   0.001, 0.01, 0.1, 1, 5, 10, 40, 45, 50],\n",
              "                         'l1_ratio': [0.3, 0.4, 0.5, 0.6, 0.7, 0.8]},\n",
              "             scoring='neg_mean_squared_error')"
            ]
          },
          "metadata": {},
          "execution_count": 134
        }
      ]
    },
    {
      "cell_type": "code",
      "metadata": {
        "colab": {
          "base_uri": "https://localhost:8080/"
        },
        "id": "wmrygeuNNDZx",
        "outputId": "7005c019-ff57-4a18-b7c0-4b0b8c86abf3"
      },
      "source": [
        "print(\"The best fit alpha value is found out to be :\" ,elastic_regressor.best_params_)\n",
        "print(\"\\nUsing \",elastic_regressor.best_params_, \" the negative mean squared error is: \", elastic_regressor.best_score_)"
      ],
      "execution_count": 135,
      "outputs": [
        {
          "output_type": "stream",
          "name": "stdout",
          "text": [
            "The best fit alpha value is found out to be : {'alpha': 0.001, 'l1_ratio': 0.8}\n",
            "\n",
            "Using  {'alpha': 0.001, 'l1_ratio': 0.8}  the negative mean squared error is:  -0.03667091069612638\n"
          ]
        }
      ]
    },
    {
      "cell_type": "code",
      "metadata": {
        "id": "rrcY7p4WNJoS"
      },
      "source": [
        "y_pred_elastic = elastic_regressor.predict(X_test)"
      ],
      "execution_count": 136,
      "outputs": []
    },
    {
      "cell_type": "code",
      "metadata": {
        "colab": {
          "base_uri": "https://localhost:8080/"
        },
        "id": "IsbVwnGqNMYy",
        "outputId": "67f6e181-0a4c-4593-e013-b8c82f7b08ad"
      },
      "source": [
        "MSE  = mean_squared_error(y_test, y_pred_elastic)\n",
        "print(\"MSE :\" , MSE)\n",
        "\n",
        "RMSE = np.sqrt(MSE)\n",
        "print(\"RMSE :\" ,RMSE)\n",
        "\n",
        "r2 = r2_score(y_test, y_pred_elastic)\n",
        "print(\"R2 :\" ,r2)\n",
        "print(\"Adjusted R2 : \",1-(1-r2_score(y_test, y_pred_elastic))*((X_test.shape[0]-1)/(X_test.shape[0]-X_test.shape[1]-1)))"
      ],
      "execution_count": 137,
      "outputs": [
        {
          "output_type": "stream",
          "name": "stdout",
          "text": [
            "MSE : 0.025554034239553353\n",
            "RMSE : 0.15985629246155234\n",
            "R2 : 0.8371407347730279\n",
            "Adjusted R2 :  0.8275607779949707\n"
          ]
        }
      ]
    },
    {
      "cell_type": "code",
      "metadata": {
        "colab": {
          "base_uri": "https://localhost:8080/",
          "height": 338
        },
        "id": "OBfOgpW4NQ9U",
        "outputId": "87d9dcd8-b3b6-4210-975d-353f9458b74d"
      },
      "source": [
        "plt.figure(figsize=(8,5))\n",
        "plt.plot(10**y_pred_elastic,color = 'brown')\n",
        "plt.plot(np.array(10**y_test),color = 'blue')\n",
        "plt.legend([\"Predicted\",\"Actual\"])\n",
        "plt.ylabel('Close Price (₹)',fontsize = 14)\n",
        "plt.title('ElasticNet Predicted vs Actual',fontweight = 'bold',fontsize = 16)\n",
        "plt.show()"
      ],
      "execution_count": 142,
      "outputs": [
        {
          "output_type": "display_data",
          "data": {
            "image/png": "[encoded data removed]",
            "text/plain": [
              "<Figure size 576x360 with 1 Axes>"
            ]
          },
          "metadata": {
            "needs_background": "light"
          }
        }
      ]
    }
  ]
}