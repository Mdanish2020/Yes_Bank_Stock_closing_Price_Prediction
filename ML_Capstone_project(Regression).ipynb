{
  "nbformat": 4,
  "nbformat_minor": 0,
  "metadata": {
    "colab": {
      "name": "ML_Capstone_project(Regression).ipynb",
      "provenance": [],
      "collapsed_sections": [],
      "mount_file_id": "1NLW_edDYtVtKmjqeswyQbYsjIWYJfFS6",
      "authorship_tag": "ABX9TyPh4f2YRLaoI8N+2/t+eHAu",
      "include_colab_link": true
    },
    "kernelspec": {
      "display_name": "Python 3",
      "name": "python3"
    },
    "language_info": {
      "name": "python"
    }
  },
  "cells": [
    {
      "cell_type": "markdown",
      "metadata": {
        "id": "view-in-github",
        "colab_type": "text"
      },
      "source": [
        "<a href=\"https://colab.research.google.com/github/Mdanish2020/Yes_Bank_Stock_closing_Price_Prediction/blob/main/ML_Capstone_project(Regression).ipynb\" target=\"_parent\"><img src=\"https://colab.research.google.com/assets/colab-badge.svg\" alt=\"Open In Colab\"/></a>"
      ]
    },
    {
      "cell_type": "markdown",
      "metadata": {
        "id": "zcQoQM5R2UWr"
      },
      "source": [
        "## <b> Yes Bank is a well-known bank in the Indian financial domain. Since 2018, it has been in the news because of the fraud case involving Rana Kapoor. Owing to this fact, it was interesting to see how that impacted the stock prices of the company and whether Time series models or any other predictive models can do justice to such situations. This dataset has monthly stock prices of the bank since its inception and includes closing, starting, highest, and lowest stock prices of every month. The main objective is to predict the stock’s closing price of the month </b>"
      ]
    },
    {
      "cell_type": "markdown",
      "metadata": {
        "id": "RgTQD-tQ3kun"
      },
      "source": [
        "<b>\"Trying to know our data because if you know your data then only you can implent your ideas and get insights from it\"</b>\n",
        "\n",
        "We understood our problem and what our objective is, in order to predict the stock's closing price of the month there are few things that'll be required or you can say that (mandatory) to perform regression analysis or building a better model which can easily and accurately predict our desired output.\n",
        "\n",
        "So, to build a well performing model, we have divided our task into several steps:\n",
        "\n",
        "<b>Univariate Analysis</b>:\n",
        "\n",
        "<b>Bivariate Analysis</b>:\n",
        "\n",
        "<b>Introducing hypothesis</b>:"
      ]
    },
    {
      "cell_type": "code",
      "metadata": {
        "id": "S6pswnZq2ETD"
      },
      "source": [
        "# import libraries \n",
        "import numpy as np\n",
        "import pandas as pd\n",
        "import matplotlib.pyplot as plt\n",
        "import seaborn as sns \n",
        "from scipy.stats import norm\n",
        "from scipy import stats\n",
        "import warnings\n",
        "warnings.filterwarnings('ignore')\n",
        "%matplotlib inline"
      ],
      "execution_count": 269,
      "outputs": []
    },
    {
      "cell_type": "markdown",
      "metadata": {
        "id": "D1TnaR5y6tdS"
      },
      "source": [
        "### <b> LET'S INVITE OUR DATASET</b>"
      ]
    },
    {
      "cell_type": "code",
      "metadata": {
        "id": "RgA_W1zUHqo7"
      },
      "source": [
        "#Import dataset\n",
        "stock_df = pd.read_csv('/content/drive/MyDrive/Data/data_YesBank_StockPrices.csv')"
      ],
      "execution_count": 270,
      "outputs": []
    },
    {
      "cell_type": "code",
      "metadata": {
        "colab": {
          "base_uri": "https://localhost:8080/",
          "height": 206
        },
        "id": "y9dhs0IfJEt6",
        "outputId": "3139d7b1-5a3f-428b-d72a-3c43d9c4a7b2"
      },
      "source": [
        "#Reading first 5 rows of dataset\n",
        "stock_df.head()"
      ],
      "execution_count": 271,
      "outputs": [
        {
          "output_type": "execute_result",
          "data": {
            "text/html": [
              "<div>\n",
              "<style scoped>\n",
              "    .dataframe tbody tr th:only-of-type {\n",
              "        vertical-align: middle;\n",
              "    }\n",
              "\n",
              "    .dataframe tbody tr th {\n",
              "        vertical-align: top;\n",
              "    }\n",
              "\n",
              "    .dataframe thead th {\n",
              "        text-align: right;\n",
              "    }\n",
              "</style>\n",
              "<table border=\"1\" class=\"dataframe\">\n",
              "  <thead>\n",
              "    <tr style=\"text-align: right;\">\n",
              "      <th></th>\n",
              "      <th>Date</th>\n",
              "      <th>Open</th>\n",
              "      <th>High</th>\n",
              "      <th>Low</th>\n",
              "      <th>Close</th>\n",
              "    </tr>\n",
              "  </thead>\n",
              "  <tbody>\n",
              "    <tr>\n",
              "      <th>0</th>\n",
              "      <td>Jul-05</td>\n",
              "      <td>13.00</td>\n",
              "      <td>14.00</td>\n",
              "      <td>11.25</td>\n",
              "      <td>12.46</td>\n",
              "    </tr>\n",
              "    <tr>\n",
              "      <th>1</th>\n",
              "      <td>Aug-05</td>\n",
              "      <td>12.58</td>\n",
              "      <td>14.88</td>\n",
              "      <td>12.55</td>\n",
              "      <td>13.42</td>\n",
              "    </tr>\n",
              "    <tr>\n",
              "      <th>2</th>\n",
              "      <td>Sep-05</td>\n",
              "      <td>13.48</td>\n",
              "      <td>14.87</td>\n",
              "      <td>12.27</td>\n",
              "      <td>13.30</td>\n",
              "    </tr>\n",
              "    <tr>\n",
              "      <th>3</th>\n",
              "      <td>Oct-05</td>\n",
              "      <td>13.20</td>\n",
              "      <td>14.47</td>\n",
              "      <td>12.40</td>\n",
              "      <td>12.99</td>\n",
              "    </tr>\n",
              "    <tr>\n",
              "      <th>4</th>\n",
              "      <td>Nov-05</td>\n",
              "      <td>13.35</td>\n",
              "      <td>13.88</td>\n",
              "      <td>12.88</td>\n",
              "      <td>13.41</td>\n",
              "    </tr>\n",
              "  </tbody>\n",
              "</table>\n",
              "</div>"
            ],
            "text/plain": [
              "     Date   Open   High    Low  Close\n",
              "0  Jul-05  13.00  14.00  11.25  12.46\n",
              "1  Aug-05  12.58  14.88  12.55  13.42\n",
              "2  Sep-05  13.48  14.87  12.27  13.30\n",
              "3  Oct-05  13.20  14.47  12.40  12.99\n",
              "4  Nov-05  13.35  13.88  12.88  13.41"
            ]
          },
          "metadata": {},
          "execution_count": 271
        }
      ]
    },
    {
      "cell_type": "code",
      "metadata": {
        "colab": {
          "base_uri": "https://localhost:8080/"
        },
        "id": "j-i9OS_kmoba",
        "outputId": "7cca5a86-0d8c-4f5b-e271-422bdf304780"
      },
      "source": [
        "#get the number of rows and columns in the dataset \n",
        "stock_df.shape"
      ],
      "execution_count": 272,
      "outputs": [
        {
          "output_type": "execute_result",
          "data": {
            "text/plain": [
              "(185, 5)"
            ]
          },
          "metadata": {},
          "execution_count": 272
        }
      ]
    },
    {
      "cell_type": "markdown",
      "metadata": {
        "id": "k1DEBqEdqdwi"
      },
      "source": [
        "We have 185 instances in our dataset and 5 columns on which we are going to work on."
      ]
    },
    {
      "cell_type": "code",
      "metadata": {
        "colab": {
          "base_uri": "https://localhost:8080/"
        },
        "id": "IJYS6YEqJVkG",
        "outputId": "98d3c3a7-13bb-46ef-b3f2-9f4ba1dba1e9"
      },
      "source": [
        "#Getting all info about our dataset\n",
        "stock_df.info()"
      ],
      "execution_count": 273,
      "outputs": [
        {
          "output_type": "stream",
          "name": "stdout",
          "text": [
            "<class 'pandas.core.frame.DataFrame'>\n",
            "RangeIndex: 185 entries, 0 to 184\n",
            "Data columns (total 5 columns):\n",
            " #   Column  Non-Null Count  Dtype  \n",
            "---  ------  --------------  -----  \n",
            " 0   Date    185 non-null    object \n",
            " 1   Open    185 non-null    float64\n",
            " 2   High    185 non-null    float64\n",
            " 3   Low     185 non-null    float64\n",
            " 4   Close   185 non-null    float64\n",
            "dtypes: float64(4), object(1)\n",
            "memory usage: 7.4+ KB\n"
          ]
        }
      ]
    },
    {
      "cell_type": "markdown",
      "metadata": {
        "id": "gqpyAxM5Jh3M"
      },
      "source": [
        "**Hurray! There is no null values in any instances.**\n",
        "\n",
        "But **Date** have values in object data type. So, we need to convert it into proper date format."
      ]
    },
    {
      "cell_type": "code",
      "metadata": {
        "id": "QPAj2EncKCOL"
      },
      "source": [
        "#importing datetime\n",
        "from datetime import datetime\n",
        "stock_df['Date'] = stock_df['Date'].apply(lambda x: datetime.strptime(x,\"%b-%y\"))"
      ],
      "execution_count": 274,
      "outputs": []
    },
    {
      "cell_type": "code",
      "metadata": {
        "colab": {
          "base_uri": "https://localhost:8080/",
          "height": 143
        },
        "id": "WHrUbQTcUEbB",
        "outputId": "32afb780-7b6e-4fe2-d85c-a94c1ef82465"
      },
      "source": [
        "stock_df.head(3)"
      ],
      "execution_count": 275,
      "outputs": [
        {
          "output_type": "execute_result",
          "data": {
            "text/html": [
              "<div>\n",
              "<style scoped>\n",
              "    .dataframe tbody tr th:only-of-type {\n",
              "        vertical-align: middle;\n",
              "    }\n",
              "\n",
              "    .dataframe tbody tr th {\n",
              "        vertical-align: top;\n",
              "    }\n",
              "\n",
              "    .dataframe thead th {\n",
              "        text-align: right;\n",
              "    }\n",
              "</style>\n",
              "<table border=\"1\" class=\"dataframe\">\n",
              "  <thead>\n",
              "    <tr style=\"text-align: right;\">\n",
              "      <th></th>\n",
              "      <th>Date</th>\n",
              "      <th>Open</th>\n",
              "      <th>High</th>\n",
              "      <th>Low</th>\n",
              "      <th>Close</th>\n",
              "    </tr>\n",
              "  </thead>\n",
              "  <tbody>\n",
              "    <tr>\n",
              "      <th>0</th>\n",
              "      <td>2005-07-01</td>\n",
              "      <td>13.00</td>\n",
              "      <td>14.00</td>\n",
              "      <td>11.25</td>\n",
              "      <td>12.46</td>\n",
              "    </tr>\n",
              "    <tr>\n",
              "      <th>1</th>\n",
              "      <td>2005-08-01</td>\n",
              "      <td>12.58</td>\n",
              "      <td>14.88</td>\n",
              "      <td>12.55</td>\n",
              "      <td>13.42</td>\n",
              "    </tr>\n",
              "    <tr>\n",
              "      <th>2</th>\n",
              "      <td>2005-09-01</td>\n",
              "      <td>13.48</td>\n",
              "      <td>14.87</td>\n",
              "      <td>12.27</td>\n",
              "      <td>13.30</td>\n",
              "    </tr>\n",
              "  </tbody>\n",
              "</table>\n",
              "</div>"
            ],
            "text/plain": [
              "        Date   Open   High    Low  Close\n",
              "0 2005-07-01  13.00  14.00  11.25  12.46\n",
              "1 2005-08-01  12.58  14.88  12.55  13.42\n",
              "2 2005-09-01  13.48  14.87  12.27  13.30"
            ]
          },
          "metadata": {},
          "execution_count": 275
        }
      ]
    },
    {
      "cell_type": "code",
      "metadata": {
        "colab": {
          "base_uri": "https://localhost:8080/"
        },
        "id": "HdEzfJMGm3ZC",
        "outputId": "e73ecf99-dc6a-49af-a1fe-e89e4c685e7b"
      },
      "source": [
        "stock_df.info()"
      ],
      "execution_count": 276,
      "outputs": [
        {
          "output_type": "stream",
          "name": "stdout",
          "text": [
            "<class 'pandas.core.frame.DataFrame'>\n",
            "RangeIndex: 185 entries, 0 to 184\n",
            "Data columns (total 5 columns):\n",
            " #   Column  Non-Null Count  Dtype         \n",
            "---  ------  --------------  -----         \n",
            " 0   Date    185 non-null    datetime64[ns]\n",
            " 1   Open    185 non-null    float64       \n",
            " 2   High    185 non-null    float64       \n",
            " 3   Low     185 non-null    float64       \n",
            " 4   Close   185 non-null    float64       \n",
            "dtypes: datetime64[ns](1), float64(4)\n",
            "memory usage: 7.4 KB\n"
          ]
        }
      ]
    },
    {
      "cell_type": "code",
      "metadata": {
        "colab": {
          "base_uri": "https://localhost:8080/",
          "height": 300
        },
        "id": "bYXhCKZZL-qz",
        "outputId": "63b55783-8e6b-4b69-c4f1-3c7e469fd6c0"
      },
      "source": [
        "#Descriptive Statistics\n",
        "stock_df.describe()"
      ],
      "execution_count": 277,
      "outputs": [
        {
          "output_type": "execute_result",
          "data": {
            "text/html": [
              "<div>\n",
              "<style scoped>\n",
              "    .dataframe tbody tr th:only-of-type {\n",
              "        vertical-align: middle;\n",
              "    }\n",
              "\n",
              "    .dataframe tbody tr th {\n",
              "        vertical-align: top;\n",
              "    }\n",
              "\n",
              "    .dataframe thead th {\n",
              "        text-align: right;\n",
              "    }\n",
              "</style>\n",
              "<table border=\"1\" class=\"dataframe\">\n",
              "  <thead>\n",
              "    <tr style=\"text-align: right;\">\n",
              "      <th></th>\n",
              "      <th>Open</th>\n",
              "      <th>High</th>\n",
              "      <th>Low</th>\n",
              "      <th>Close</th>\n",
              "    </tr>\n",
              "  </thead>\n",
              "  <tbody>\n",
              "    <tr>\n",
              "      <th>count</th>\n",
              "      <td>185.000000</td>\n",
              "      <td>185.000000</td>\n",
              "      <td>185.000000</td>\n",
              "      <td>185.000000</td>\n",
              "    </tr>\n",
              "    <tr>\n",
              "      <th>mean</th>\n",
              "      <td>105.541405</td>\n",
              "      <td>116.104324</td>\n",
              "      <td>94.947838</td>\n",
              "      <td>105.204703</td>\n",
              "    </tr>\n",
              "    <tr>\n",
              "      <th>std</th>\n",
              "      <td>98.879850</td>\n",
              "      <td>106.333497</td>\n",
              "      <td>91.219415</td>\n",
              "      <td>98.583153</td>\n",
              "    </tr>\n",
              "    <tr>\n",
              "      <th>min</th>\n",
              "      <td>10.000000</td>\n",
              "      <td>11.240000</td>\n",
              "      <td>5.550000</td>\n",
              "      <td>9.980000</td>\n",
              "    </tr>\n",
              "    <tr>\n",
              "      <th>25%</th>\n",
              "      <td>33.800000</td>\n",
              "      <td>36.140000</td>\n",
              "      <td>28.510000</td>\n",
              "      <td>33.450000</td>\n",
              "    </tr>\n",
              "    <tr>\n",
              "      <th>50%</th>\n",
              "      <td>62.980000</td>\n",
              "      <td>72.550000</td>\n",
              "      <td>58.000000</td>\n",
              "      <td>62.540000</td>\n",
              "    </tr>\n",
              "    <tr>\n",
              "      <th>75%</th>\n",
              "      <td>153.000000</td>\n",
              "      <td>169.190000</td>\n",
              "      <td>138.350000</td>\n",
              "      <td>153.300000</td>\n",
              "    </tr>\n",
              "    <tr>\n",
              "      <th>max</th>\n",
              "      <td>369.950000</td>\n",
              "      <td>404.000000</td>\n",
              "      <td>345.500000</td>\n",
              "      <td>367.900000</td>\n",
              "    </tr>\n",
              "  </tbody>\n",
              "</table>\n",
              "</div>"
            ],
            "text/plain": [
              "             Open        High         Low       Close\n",
              "count  185.000000  185.000000  185.000000  185.000000\n",
              "mean   105.541405  116.104324   94.947838  105.204703\n",
              "std     98.879850  106.333497   91.219415   98.583153\n",
              "min     10.000000   11.240000    5.550000    9.980000\n",
              "25%     33.800000   36.140000   28.510000   33.450000\n",
              "50%     62.980000   72.550000   58.000000   62.540000\n",
              "75%    153.000000  169.190000  138.350000  153.300000\n",
              "max    369.950000  404.000000  345.500000  367.900000"
            ]
          },
          "metadata": {},
          "execution_count": 277
        }
      ]
    },
    {
      "cell_type": "markdown",
      "metadata": {
        "id": "KGLOqThqMQPl"
      },
      "source": [
        "As it is clearly shown in the descriptive statistics table, there is very high variation within features like **High**, **Low** and **Close**. \n",
        "\n"
      ]
    },
    {
      "cell_type": "code",
      "metadata": {
        "colab": {
          "base_uri": "https://localhost:8080/"
        },
        "id": "CbV9o68UP8Q-",
        "outputId": "708a432d-423e-49cc-a9b1-d48eeb6644f6"
      },
      "source": [
        "#cheking is there any duplication in our data.\n",
        "len(stock_df[stock_df.duplicated()])"
      ],
      "execution_count": 278,
      "outputs": [
        {
          "output_type": "execute_result",
          "data": {
            "text/plain": [
              "0"
            ]
          },
          "metadata": {},
          "execution_count": 278
        }
      ]
    },
    {
      "cell_type": "markdown",
      "metadata": {
        "id": "g75PMMUPQSki"
      },
      "source": [
        "There is no duplication in our data which is a good sign otherwise we have to deal with that too."
      ]
    },
    {
      "cell_type": "markdown",
      "metadata": {
        "id": "hA2OWicvN8nE"
      },
      "source": [
        "## <b> VISUALIZING THE DEPENDENT VARIABLE</B>"
      ]
    },
    {
      "cell_type": "code",
      "metadata": {
        "colab": {
          "base_uri": "https://localhost:8080/",
          "height": 518
        },
        "id": "3V691WN5NKrR",
        "outputId": "c16e836a-e0fa-4c0f-b395-c9c0299271b1"
      },
      "source": [
        "# trend of dependent variable \n",
        "plt.figure(figsize = (14,8))\n",
        "plt.grid(True)\n",
        "plt.title('Trend of Yes bank closing price',fontweight = 'bold')\n",
        "plt.plot(stock_df['Date'],stock_df['Close'])\n",
        "plt.xlabel('Date',fontsize = 16)\n",
        "plt.ylabel('Closing Stock Price (₹)',fontsize = 16)\n",
        "plt.show()"
      ],
      "execution_count": 279,
      "outputs": [
        {
          "output_type": "display_data",
          "data": {
            "image/png": "[encoded data removed]",
            "text/plain": [
              "<Figure size 1008x576 with 1 Axes>"
            ]
          },
          "metadata": {
            "needs_background": "light"
          }
        }
      ]
    },
    {
      "cell_type": "markdown",
      "metadata": {
        "id": "1VX9lcLAz0Fq"
      },
      "source": [
        "This plot of Closing prices of different dates give a very vivid picture of fluctuation in prices regarding different time-duration. After 2018 there is sudden fall in the stock closing price. It makes sense how severly Rana Kapoor case fraud affected the price of Yes bank stocks."
      ]
    },
    {
      "cell_type": "code",
      "metadata": {
        "colab": {
          "base_uri": "https://localhost:8080/",
          "height": 427
        },
        "id": "b9RacAhjQ1fR",
        "outputId": "331e261e-f80f-4134-f991-ffbdb971b1d0"
      },
      "source": [
        "#Checking the distribution of our dependent variable \n",
        "plt.figure(figsize = (10,6))\n",
        "sns.distplot(stock_df['Close'],color = 'indigo')\n",
        "plt.title('Distribution of the Close Price',fontsize = 16)\n",
        "plt.xlabel('Close',fontsize = 14)\n",
        "plt.ylabel('Density',fontsize = 14)"
      ],
      "execution_count": 280,
      "outputs": [
        {
          "output_type": "execute_result",
          "data": {
            "text/plain": [
              "Text(0, 0.5, 'Density')"
            ]
          },
          "metadata": {},
          "execution_count": 280
        },
        {
          "output_type": "display_data",
          "data": {
            "image/png": "[encoded data removed]",
            "text/plain": [
              "<Figure size 720x432 with 1 Axes>"
            ]
          },
          "metadata": {
            "needs_background": "light"
          }
        }
      ]
    },
    {
      "cell_type": "markdown",
      "metadata": {
        "id": "gOJa2WN0W8s4"
      },
      "source": [
        "The distribution of Stock Closing Price is rightly skewed distribution. It may lead us to misleading results in view of statistical hyposthesis. It can be corrected by applying **Log Transformation** then we'll have a look how this data behave."
      ]
    },
    {
      "cell_type": "code",
      "metadata": {
        "colab": {
          "base_uri": "https://localhost:8080/",
          "height": 423
        },
        "id": "pE389PeMXrvV",
        "outputId": "2b414ad2-c35c-4e11-832e-fe0ca8bdb74b"
      },
      "source": [
        "#Distribution after applying Log Transformation\n",
        "plt.figure(figsize = (10,6))\n",
        "sns.distplot(np.log10(stock_df['Close']),color = 'indigo')\n",
        "plt.title('Distribution of the Close Price after log transformation',fontsize = 16)"
      ],
      "execution_count": 281,
      "outputs": [
        {
          "output_type": "execute_result",
          "data": {
            "text/plain": [
              "Text(0.5, 1.0, 'Distribution of the Close Price after log transformation')"
            ]
          },
          "metadata": {},
          "execution_count": 281
        },
        {
          "output_type": "display_data",
          "data": {
            "image/png": "[encoded data removed]",
            "text/plain": [
              "<Figure size 720x432 with 1 Axes>"
            ]
          },
          "metadata": {
            "needs_background": "light"
          }
        }
      ]
    },
    {
      "cell_type": "code",
      "metadata": {
        "id": "v6H7uxFOZYou"
      },
      "source": [
        "features = ['Open','Low','High']"
      ],
      "execution_count": 282,
      "outputs": []
    },
    {
      "cell_type": "code",
      "metadata": {
        "colab": {
          "base_uri": "https://localhost:8080/",
          "height": 1000
        },
        "id": "pl4stOAAZCYm",
        "outputId": "4205e1b6-3e23-447c-f9f1-f250a224cc7f"
      },
      "source": [
        "# tring to draw histogram for each variable \n",
        "for col in features:\n",
        "  fig = plt.figure(figsize = (7,7))\n",
        "  ax = fig.gca()\n",
        "  ax.grid()\n",
        "  plt.hist(stock_df[col],bins = 50, color = 'lightskyblue')\n",
        "  ax.axvline(stock_df[col].mean(),color = 'r')\n",
        "  ax.axvline(stock_df[col].median(),color = 'green')\n",
        "  ax.set_title(col)\n",
        "plt.show()"
      ],
      "execution_count": 283,
      "outputs": [
        {
          "output_type": "display_data",
          "data": {
            "image/png": "[encoded data removed]",
            "text/plain": [
              "<Figure size 504x504 with 1 Axes>"
            ]
          },
          "metadata": {
            "needs_background": "light"
          }
        },
        {
          "output_type": "display_data",
          "data": {
            "image/png": "[encoded data removed]",
            "text/plain": [
              "<Figure size 504x504 with 1 Axes>"
            ]
          },
          "metadata": {
            "needs_background": "light"
          }
        },
        {
          "output_type": "display_data",
          "data": {
            "image/png": "[encoded data removed]",
            "text/plain": [
              "<Figure size 504x504 with 1 Axes>"
            ]
          },
          "metadata": {
            "needs_background": "light"
          }
        }
      ]
    },
    {
      "cell_type": "markdown",
      "metadata": {
        "id": "VfnTJvhzdSUs"
      },
      "source": [
        "Most of the features are positively skewed here. So, again we have to apply log transformation on these features. Red line represent mean and green line represent median in the above graphs and it seems these graphs are not normally distributed."
      ]
    },
    {
      "cell_type": "code",
      "metadata": {
        "colab": {
          "base_uri": "https://localhost:8080/",
          "height": 1000
        },
        "id": "GopfXRlC1dAd",
        "outputId": "edfecd4d-4cbc-41b4-b26b-0e01edeb344e"
      },
      "source": [
        "#to know the distribution of different features\n",
        "\n",
        "for col in features:\n",
        "  fig = plt.figure(figsize = (7,7))\n",
        "  ax = fig.gca()\n",
        "  ax.grid()\n",
        "  log_df = np.log(stock_df[col])\n",
        "  plt.hist(log_df,bins = 50, color = 'lightskyblue')\n",
        "  ax.axvline(log_df.mean(),color = 'r')\n",
        "  ax.axvline(log_df.median(),color = 'green')\n",
        "  ax.set_title(col)\n",
        "plt.show()"
      ],
      "execution_count": 284,
      "outputs": [
        {
          "output_type": "display_data",
          "data": {
            "image/png": "[encoded data removed]",
            "text/plain": [
              "<Figure size 504x504 with 1 Axes>"
            ]
          },
          "metadata": {
            "needs_background": "light"
          }
        },
        {
          "output_type": "display_data",
          "data": {
            "image/png": "[encoded data removed]",
            "text/plain": [
              "<Figure size 504x504 with 1 Axes>"
            ]
          },
          "metadata": {
            "needs_background": "light"
          }
        },
        {
          "output_type": "display_data",
          "data": {
            "image/png": "[encoded data removed]",
            "text/plain": [
              "<Figure size 504x504 with 1 Axes>"
            ]
          },
          "metadata": {
            "needs_background": "light"
          }
        }
      ]
    },
    {
      "cell_type": "markdown",
      "metadata": {
        "id": "cQhjuCmh7DsI"
      },
      "source": [
        "After **log transformation**, now it looks approximately normally distributed to me and if you'll observe statistically: mean and median are always close to each other."
      ]
    },
    {
      "cell_type": "markdown",
      "metadata": {
        "id": "n3-Yr-AVr9Iw"
      },
      "source": [
        "## **BIVARIATE ANALYSIS**\n"
      ]
    },
    {
      "cell_type": "code",
      "metadata": {
        "colab": {
          "base_uri": "https://localhost:8080/",
          "height": 517
        },
        "id": "ntWc4cGtr7bA",
        "outputId": "61788347-bea5-4a87-8dbd-d9e38d0a05f0"
      },
      "source": [
        "#  correlation map \n",
        "plt.figure(figsize = (10,8))\n",
        "correlation = stock_df.corr()\n",
        "sns.heatmap(abs(correlation),cmap = 'coolwarm',annot = True)\n",
        "plt.title(\"Correlation map.\",fontweight = 'bold',fontsize = 14)"
      ],
      "execution_count": 285,
      "outputs": [
        {
          "output_type": "execute_result",
          "data": {
            "text/plain": [
              "Text(0.5, 1.0, 'Correlation map.')"
            ]
          },
          "metadata": {},
          "execution_count": 285
        },
        {
          "output_type": "display_data",
          "data": {
            "image/png": "[encoded data removed]",
            "text/plain": [
              "<Figure size 720x576 with 2 Axes>"
            ]
          },
          "metadata": {
            "needs_background": "light"
          }
        }
      ]
    },
    {
      "cell_type": "code",
      "metadata": {
        "id": "2VzT0WzGtk_S"
      },
      "source": [
        "# VIF\n",
        "from statsmodels.stats.outliers_influence import variance_inflation_factor\n",
        "def calc_vif(data):\n",
        "  vif = pd.DataFrame()\n",
        "  vif['Variables'] = data.columns\n",
        "  vif['VIF'] = [variance_inflation_factor(data.values,i) for i in range(data.shape[1])]\n",
        "  return (vif)"
      ],
      "execution_count": 286,
      "outputs": []
    },
    {
      "cell_type": "code",
      "metadata": {
        "colab": {
          "base_uri": "https://localhost:8080/",
          "height": 175
        },
        "id": "_hRZd0kevEig",
        "outputId": "ce6d2ccf-e84b-4bd7-8042-c4e786dbd9b8"
      },
      "source": [
        "calc_vif(stock_df[[i for i in stock_df.describe().columns if i not in ['Date']]])"
      ],
      "execution_count": 287,
      "outputs": [
        {
          "output_type": "execute_result",
          "data": {
            "text/html": [
              "<div>\n",
              "<style scoped>\n",
              "    .dataframe tbody tr th:only-of-type {\n",
              "        vertical-align: middle;\n",
              "    }\n",
              "\n",
              "    .dataframe tbody tr th {\n",
              "        vertical-align: top;\n",
              "    }\n",
              "\n",
              "    .dataframe thead th {\n",
              "        text-align: right;\n",
              "    }\n",
              "</style>\n",
              "<table border=\"1\" class=\"dataframe\">\n",
              "  <thead>\n",
              "    <tr style=\"text-align: right;\">\n",
              "      <th></th>\n",
              "      <th>Variables</th>\n",
              "      <th>VIF</th>\n",
              "    </tr>\n",
              "  </thead>\n",
              "  <tbody>\n",
              "    <tr>\n",
              "      <th>0</th>\n",
              "      <td>Open</td>\n",
              "      <td>288.504853</td>\n",
              "    </tr>\n",
              "    <tr>\n",
              "      <th>1</th>\n",
              "      <td>High</td>\n",
              "      <td>323.952468</td>\n",
              "    </tr>\n",
              "    <tr>\n",
              "      <th>2</th>\n",
              "      <td>Low</td>\n",
              "      <td>424.612257</td>\n",
              "    </tr>\n",
              "    <tr>\n",
              "      <th>3</th>\n",
              "      <td>Close</td>\n",
              "      <td>428.401649</td>\n",
              "    </tr>\n",
              "  </tbody>\n",
              "</table>\n",
              "</div>"
            ],
            "text/plain": [
              "  Variables         VIF\n",
              "0      Open  288.504853\n",
              "1      High  323.952468\n",
              "2       Low  424.612257\n",
              "3     Close  428.401649"
            ]
          },
          "metadata": {},
          "execution_count": 287
        }
      ]
    },
    {
      "cell_type": "code",
      "metadata": {
        "id": "tQgS9J90ibf6"
      },
      "source": [
        "stock_df_dup = stock_df.copy()"
      ],
      "execution_count": 288,
      "outputs": []
    },
    {
      "cell_type": "code",
      "metadata": {
        "id": "WQSpbLE7iid_"
      },
      "source": [
        "stock_df_dup['Average'] = (stock_df_dup['Low'] + stock_df_dup['High'])/2"
      ],
      "execution_count": 289,
      "outputs": []
    },
    {
      "cell_type": "code",
      "metadata": {
        "id": "dlLSCX7icKfT"
      },
      "source": [
        "#introducing new features of name year\n",
        "stock_df_dup['Year'] = stock_df_dup['Date'].apply(lambda z: z.strftime('%Y'))"
      ],
      "execution_count": 290,
      "outputs": []
    },
    {
      "cell_type": "code",
      "metadata": {
        "id": "S5fKPQyeiiaZ"
      },
      "source": [
        "stock_df_dup['Month'] = stock_df_dup['Date'].apply(lambda y: y.strftime('%B'))"
      ],
      "execution_count": 291,
      "outputs": []
    },
    {
      "cell_type": "code",
      "metadata": {
        "colab": {
          "base_uri": "https://localhost:8080/",
          "height": 517
        },
        "id": "TlGeGrrcb9Ef",
        "outputId": "37decc08-37f9-45b4-b326-3ab8764596bb"
      },
      "source": [
        "#  correlation map \n",
        "plt.figure(figsize = (10,8))\n",
        "correlation = stock_df_dup.corr()\n",
        "sns.heatmap(abs(correlation),cmap = 'coolwarm',annot = True)\n",
        "plt.title(\"Correlation map.\",fontweight = 'bold',fontsize = 14)"
      ],
      "execution_count": 292,
      "outputs": [
        {
          "output_type": "execute_result",
          "data": {
            "text/plain": [
              "Text(0.5, 1.0, 'Correlation map.')"
            ]
          },
          "metadata": {},
          "execution_count": 292
        },
        {
          "output_type": "display_data",
          "data": {
            "image/png": "[encoded data removed]",
            "text/plain": [
              "<Figure size 720x576 with 2 Axes>"
            ]
          },
          "metadata": {
            "needs_background": "light"
          }
        }
      ]
    },
    {
      "cell_type": "code",
      "metadata": {
        "colab": {
          "base_uri": "https://localhost:8080/",
          "height": 175
        },
        "id": "IlhbY-XPcJY-",
        "outputId": "a877201e-508b-4671-d8ad-c218a2274ae4"
      },
      "source": [
        "calc_vif(stock_df_dup[[i for i in stock_df_dup.describe().columns if i not in ['Date','Close']]])"
      ],
      "execution_count": 293,
      "outputs": [
        {
          "output_type": "execute_result",
          "data": {
            "text/html": [
              "<div>\n",
              "<style scoped>\n",
              "    .dataframe tbody tr th:only-of-type {\n",
              "        vertical-align: middle;\n",
              "    }\n",
              "\n",
              "    .dataframe tbody tr th {\n",
              "        vertical-align: top;\n",
              "    }\n",
              "\n",
              "    .dataframe thead th {\n",
              "        text-align: right;\n",
              "    }\n",
              "</style>\n",
              "<table border=\"1\" class=\"dataframe\">\n",
              "  <thead>\n",
              "    <tr style=\"text-align: right;\">\n",
              "      <th></th>\n",
              "      <th>Variables</th>\n",
              "      <th>VIF</th>\n",
              "    </tr>\n",
              "  </thead>\n",
              "  <tbody>\n",
              "    <tr>\n",
              "      <th>0</th>\n",
              "      <td>Open</td>\n",
              "      <td>175.185704</td>\n",
              "    </tr>\n",
              "    <tr>\n",
              "      <th>1</th>\n",
              "      <td>High</td>\n",
              "      <td>inf</td>\n",
              "    </tr>\n",
              "    <tr>\n",
              "      <th>2</th>\n",
              "      <td>Low</td>\n",
              "      <td>inf</td>\n",
              "    </tr>\n",
              "    <tr>\n",
              "      <th>3</th>\n",
              "      <td>Average</td>\n",
              "      <td>inf</td>\n",
              "    </tr>\n",
              "  </tbody>\n",
              "</table>\n",
              "</div>"
            ],
            "text/plain": [
              "  Variables         VIF\n",
              "0      Open  175.185704\n",
              "1      High         inf\n",
              "2       Low         inf\n",
              "3   Average         inf"
            ]
          },
          "metadata": {},
          "execution_count": 293
        }
      ]
    },
    {
      "cell_type": "code",
      "metadata": {
        "colab": {
          "base_uri": "https://localhost:8080/",
          "height": 143
        },
        "id": "A-hhoQ8LksvH",
        "outputId": "29674326-c913-43e9-e69b-a0b8a81860a3"
      },
      "source": [
        "#Calculating VIF after introducing some feature\n",
        "calc_vif(stock_df_dup[[i for i in stock_df_dup.describe().columns if i not in ['Date','Close','Average']]])"
      ],
      "execution_count": 294,
      "outputs": [
        {
          "output_type": "execute_result",
          "data": {
            "text/html": [
              "<div>\n",
              "<style scoped>\n",
              "    .dataframe tbody tr th:only-of-type {\n",
              "        vertical-align: middle;\n",
              "    }\n",
              "\n",
              "    .dataframe tbody tr th {\n",
              "        vertical-align: top;\n",
              "    }\n",
              "\n",
              "    .dataframe thead th {\n",
              "        text-align: right;\n",
              "    }\n",
              "</style>\n",
              "<table border=\"1\" class=\"dataframe\">\n",
              "  <thead>\n",
              "    <tr style=\"text-align: right;\">\n",
              "      <th></th>\n",
              "      <th>Variables</th>\n",
              "      <th>VIF</th>\n",
              "    </tr>\n",
              "  </thead>\n",
              "  <tbody>\n",
              "    <tr>\n",
              "      <th>0</th>\n",
              "      <td>Open</td>\n",
              "      <td>175.185704</td>\n",
              "    </tr>\n",
              "    <tr>\n",
              "      <th>1</th>\n",
              "      <td>High</td>\n",
              "      <td>167.057523</td>\n",
              "    </tr>\n",
              "    <tr>\n",
              "      <th>2</th>\n",
              "      <td>Low</td>\n",
              "      <td>71.574137</td>\n",
              "    </tr>\n",
              "  </tbody>\n",
              "</table>\n",
              "</div>"
            ],
            "text/plain": [
              "  Variables         VIF\n",
              "0      Open  175.185704\n",
              "1      High  167.057523\n",
              "2       Low   71.574137"
            ]
          },
          "metadata": {},
          "execution_count": 294
        }
      ]
    },
    {
      "cell_type": "code",
      "metadata": {
        "colab": {
          "base_uri": "https://localhost:8080/",
          "height": 112
        },
        "id": "RQpE-WI8cybg",
        "outputId": "f3dce2b7-6574-47f8-8a06-9bcd4562469a"
      },
      "source": [
        "calc_vif(stock_df_dup[[i for i in stock_df_dup.describe().columns if i not in ['Date','Close','Average','Open']]])"
      ],
      "execution_count": 295,
      "outputs": [
        {
          "output_type": "execute_result",
          "data": {
            "text/html": [
              "<div>\n",
              "<style scoped>\n",
              "    .dataframe tbody tr th:only-of-type {\n",
              "        vertical-align: middle;\n",
              "    }\n",
              "\n",
              "    .dataframe tbody tr th {\n",
              "        vertical-align: top;\n",
              "    }\n",
              "\n",
              "    .dataframe thead th {\n",
              "        text-align: right;\n",
              "    }\n",
              "</style>\n",
              "<table border=\"1\" class=\"dataframe\">\n",
              "  <thead>\n",
              "    <tr style=\"text-align: right;\">\n",
              "      <th></th>\n",
              "      <th>Variables</th>\n",
              "      <th>VIF</th>\n",
              "    </tr>\n",
              "  </thead>\n",
              "  <tbody>\n",
              "    <tr>\n",
              "      <th>0</th>\n",
              "      <td>High</td>\n",
              "      <td>62.598129</td>\n",
              "    </tr>\n",
              "    <tr>\n",
              "      <th>1</th>\n",
              "      <td>Low</td>\n",
              "      <td>62.598129</td>\n",
              "    </tr>\n",
              "  </tbody>\n",
              "</table>\n",
              "</div>"
            ],
            "text/plain": [
              "  Variables        VIF\n",
              "0      High  62.598129\n",
              "1       Low  62.598129"
            ]
          },
          "metadata": {},
          "execution_count": 295
        }
      ]
    },
    {
      "cell_type": "markdown",
      "metadata": {
        "id": "a5QActxcYYGu"
      },
      "source": [
        "Now we have VIF less than 5 which is good but we drop too many features which can lead to wrong prediction but first of all we'll train our model with these 2 features."
      ]
    },
    {
      "cell_type": "code",
      "metadata": {
        "colab": {
          "base_uri": "https://localhost:8080/",
          "height": 143
        },
        "id": "sUh9YwPxjnM-",
        "outputId": "4167fb9b-3adc-4f0a-fde6-9234047b8f67"
      },
      "source": [
        "stock_df_dup.head(3)"
      ],
      "execution_count": 296,
      "outputs": [
        {
          "output_type": "execute_result",
          "data": {
            "text/html": [
              "<div>\n",
              "<style scoped>\n",
              "    .dataframe tbody tr th:only-of-type {\n",
              "        vertical-align: middle;\n",
              "    }\n",
              "\n",
              "    .dataframe tbody tr th {\n",
              "        vertical-align: top;\n",
              "    }\n",
              "\n",
              "    .dataframe thead th {\n",
              "        text-align: right;\n",
              "    }\n",
              "</style>\n",
              "<table border=\"1\" class=\"dataframe\">\n",
              "  <thead>\n",
              "    <tr style=\"text-align: right;\">\n",
              "      <th></th>\n",
              "      <th>Date</th>\n",
              "      <th>Open</th>\n",
              "      <th>High</th>\n",
              "      <th>Low</th>\n",
              "      <th>Close</th>\n",
              "      <th>Average</th>\n",
              "      <th>Year</th>\n",
              "      <th>Month</th>\n",
              "    </tr>\n",
              "  </thead>\n",
              "  <tbody>\n",
              "    <tr>\n",
              "      <th>0</th>\n",
              "      <td>2005-07-01</td>\n",
              "      <td>13.00</td>\n",
              "      <td>14.00</td>\n",
              "      <td>11.25</td>\n",
              "      <td>12.46</td>\n",
              "      <td>12.625</td>\n",
              "      <td>2005</td>\n",
              "      <td>July</td>\n",
              "    </tr>\n",
              "    <tr>\n",
              "      <th>1</th>\n",
              "      <td>2005-08-01</td>\n",
              "      <td>12.58</td>\n",
              "      <td>14.88</td>\n",
              "      <td>12.55</td>\n",
              "      <td>13.42</td>\n",
              "      <td>13.715</td>\n",
              "      <td>2005</td>\n",
              "      <td>August</td>\n",
              "    </tr>\n",
              "    <tr>\n",
              "      <th>2</th>\n",
              "      <td>2005-09-01</td>\n",
              "      <td>13.48</td>\n",
              "      <td>14.87</td>\n",
              "      <td>12.27</td>\n",
              "      <td>13.30</td>\n",
              "      <td>13.570</td>\n",
              "      <td>2005</td>\n",
              "      <td>September</td>\n",
              "    </tr>\n",
              "  </tbody>\n",
              "</table>\n",
              "</div>"
            ],
            "text/plain": [
              "        Date   Open   High    Low  Close  Average  Year      Month\n",
              "0 2005-07-01  13.00  14.00  11.25  12.46   12.625  2005       July\n",
              "1 2005-08-01  12.58  14.88  12.55  13.42   13.715  2005     August\n",
              "2 2005-09-01  13.48  14.87  12.27  13.30   13.570  2005  September"
            ]
          },
          "metadata": {},
          "execution_count": 296
        }
      ]
    },
    {
      "cell_type": "code",
      "metadata": {
        "id": "eOIm8aZ5YFxj"
      },
      "source": [
        "#introducing dummy variables\n",
        "stock_df_dup = pd.get_dummies(stock_df_dup,columns = ['Month','Year'])"
      ],
      "execution_count": 297,
      "outputs": []
    },
    {
      "cell_type": "code",
      "metadata": {
        "id": "mJg_u1Htf81R"
      },
      "source": [
        "stock_df_dup.index = stock_df_dup['Date']\n",
        "stock_df_dup.drop('Date',axis = 1,inplace = True)"
      ],
      "execution_count": 298,
      "outputs": []
    },
    {
      "cell_type": "code",
      "metadata": {
        "colab": {
          "base_uri": "https://localhost:8080/",
          "height": 247
        },
        "id": "0B8N9RMlfd9G",
        "outputId": "15b4ef91-651c-497c-9721-bac5339b12ac"
      },
      "source": [
        "stock_df_dup.head(3)"
      ],
      "execution_count": 299,
      "outputs": [
        {
          "output_type": "execute_result",
          "data": {
            "text/html": [
              "<div>\n",
              "<style scoped>\n",
              "    .dataframe tbody tr th:only-of-type {\n",
              "        vertical-align: middle;\n",
              "    }\n",
              "\n",
              "    .dataframe tbody tr th {\n",
              "        vertical-align: top;\n",
              "    }\n",
              "\n",
              "    .dataframe thead th {\n",
              "        text-align: right;\n",
              "    }\n",
              "</style>\n",
              "<table border=\"1\" class=\"dataframe\">\n",
              "  <thead>\n",
              "    <tr style=\"text-align: right;\">\n",
              "      <th></th>\n",
              "      <th>Open</th>\n",
              "      <th>High</th>\n",
              "      <th>Low</th>\n",
              "      <th>Close</th>\n",
              "      <th>Average</th>\n",
              "      <th>Month_April</th>\n",
              "      <th>Month_August</th>\n",
              "      <th>Month_December</th>\n",
              "      <th>Month_February</th>\n",
              "      <th>Month_January</th>\n",
              "      <th>Month_July</th>\n",
              "      <th>Month_June</th>\n",
              "      <th>Month_March</th>\n",
              "      <th>Month_May</th>\n",
              "      <th>Month_November</th>\n",
              "      <th>Month_October</th>\n",
              "      <th>Month_September</th>\n",
              "      <th>Year_2005</th>\n",
              "      <th>Year_2006</th>\n",
              "      <th>Year_2007</th>\n",
              "      <th>Year_2008</th>\n",
              "      <th>Year_2009</th>\n",
              "      <th>Year_2010</th>\n",
              "      <th>Year_2011</th>\n",
              "      <th>Year_2012</th>\n",
              "      <th>Year_2013</th>\n",
              "      <th>Year_2014</th>\n",
              "      <th>Year_2015</th>\n",
              "      <th>Year_2016</th>\n",
              "      <th>Year_2017</th>\n",
              "      <th>Year_2018</th>\n",
              "      <th>Year_2019</th>\n",
              "      <th>Year_2020</th>\n",
              "    </tr>\n",
              "    <tr>\n",
              "      <th>Date</th>\n",
              "      <th></th>\n",
              "      <th></th>\n",
              "      <th></th>\n",
              "      <th></th>\n",
              "      <th></th>\n",
              "      <th></th>\n",
              "      <th></th>\n",
              "      <th></th>\n",
              "      <th></th>\n",
              "      <th></th>\n",
              "      <th></th>\n",
              "      <th></th>\n",
              "      <th></th>\n",
              "      <th></th>\n",
              "      <th></th>\n",
              "      <th></th>\n",
              "      <th></th>\n",
              "      <th></th>\n",
              "      <th></th>\n",
              "      <th></th>\n",
              "      <th></th>\n",
              "      <th></th>\n",
              "      <th></th>\n",
              "      <th></th>\n",
              "      <th></th>\n",
              "      <th></th>\n",
              "      <th></th>\n",
              "      <th></th>\n",
              "      <th></th>\n",
              "      <th></th>\n",
              "      <th></th>\n",
              "      <th></th>\n",
              "      <th></th>\n",
              "    </tr>\n",
              "  </thead>\n",
              "  <tbody>\n",
              "    <tr>\n",
              "      <th>2005-07-01</th>\n",
              "      <td>13.00</td>\n",
              "      <td>14.00</td>\n",
              "      <td>11.25</td>\n",
              "      <td>12.46</td>\n",
              "      <td>12.625</td>\n",
              "      <td>0</td>\n",
              "      <td>0</td>\n",
              "      <td>0</td>\n",
              "      <td>0</td>\n",
              "      <td>0</td>\n",
              "      <td>1</td>\n",
              "      <td>0</td>\n",
              "      <td>0</td>\n",
              "      <td>0</td>\n",
              "      <td>0</td>\n",
              "      <td>0</td>\n",
              "      <td>0</td>\n",
              "      <td>1</td>\n",
              "      <td>0</td>\n",
              "      <td>0</td>\n",
              "      <td>0</td>\n",
              "      <td>0</td>\n",
              "      <td>0</td>\n",
              "      <td>0</td>\n",
              "      <td>0</td>\n",
              "      <td>0</td>\n",
              "      <td>0</td>\n",
              "      <td>0</td>\n",
              "      <td>0</td>\n",
              "      <td>0</td>\n",
              "      <td>0</td>\n",
              "      <td>0</td>\n",
              "      <td>0</td>\n",
              "    </tr>\n",
              "    <tr>\n",
              "      <th>2005-08-01</th>\n",
              "      <td>12.58</td>\n",
              "      <td>14.88</td>\n",
              "      <td>12.55</td>\n",
              "      <td>13.42</td>\n",
              "      <td>13.715</td>\n",
              "      <td>0</td>\n",
              "      <td>1</td>\n",
              "      <td>0</td>\n",
              "      <td>0</td>\n",
              "      <td>0</td>\n",
              "      <td>0</td>\n",
              "      <td>0</td>\n",
              "      <td>0</td>\n",
              "      <td>0</td>\n",
              "      <td>0</td>\n",
              "      <td>0</td>\n",
              "      <td>0</td>\n",
              "      <td>1</td>\n",
              "      <td>0</td>\n",
              "      <td>0</td>\n",
              "      <td>0</td>\n",
              "      <td>0</td>\n",
              "      <td>0</td>\n",
              "      <td>0</td>\n",
              "      <td>0</td>\n",
              "      <td>0</td>\n",
              "      <td>0</td>\n",
              "      <td>0</td>\n",
              "      <td>0</td>\n",
              "      <td>0</td>\n",
              "      <td>0</td>\n",
              "      <td>0</td>\n",
              "      <td>0</td>\n",
              "    </tr>\n",
              "    <tr>\n",
              "      <th>2005-09-01</th>\n",
              "      <td>13.48</td>\n",
              "      <td>14.87</td>\n",
              "      <td>12.27</td>\n",
              "      <td>13.30</td>\n",
              "      <td>13.570</td>\n",
              "      <td>0</td>\n",
              "      <td>0</td>\n",
              "      <td>0</td>\n",
              "      <td>0</td>\n",
              "      <td>0</td>\n",
              "      <td>0</td>\n",
              "      <td>0</td>\n",
              "      <td>0</td>\n",
              "      <td>0</td>\n",
              "      <td>0</td>\n",
              "      <td>0</td>\n",
              "      <td>1</td>\n",
              "      <td>1</td>\n",
              "      <td>0</td>\n",
              "      <td>0</td>\n",
              "      <td>0</td>\n",
              "      <td>0</td>\n",
              "      <td>0</td>\n",
              "      <td>0</td>\n",
              "      <td>0</td>\n",
              "      <td>0</td>\n",
              "      <td>0</td>\n",
              "      <td>0</td>\n",
              "      <td>0</td>\n",
              "      <td>0</td>\n",
              "      <td>0</td>\n",
              "      <td>0</td>\n",
              "      <td>0</td>\n",
              "    </tr>\n",
              "  </tbody>\n",
              "</table>\n",
              "</div>"
            ],
            "text/plain": [
              "             Open   High    Low  ...  Year_2018  Year_2019  Year_2020\n",
              "Date                             ...                                 \n",
              "2005-07-01  13.00  14.00  11.25  ...          0          0          0\n",
              "2005-08-01  12.58  14.88  12.55  ...          0          0          0\n",
              "2005-09-01  13.48  14.87  12.27  ...          0          0          0\n",
              "\n",
              "[3 rows x 33 columns]"
            ]
          },
          "metadata": {},
          "execution_count": 299
        }
      ]
    },
    {
      "cell_type": "code",
      "metadata": {
        "id": "gPZfgvqrghG2"
      },
      "source": [
        "total_features  = ['Low','Year_2005','Year_2006','Year_2007','Year_2008','Year_2009','Year_2010',\n",
        "                   'Year_2011','Year_2012','Year_2013','Year_2014','Year_2015','Year_2016','Year_2017','Year_2018','Year_2019','Year_2020']"
      ],
      "execution_count": 300,
      "outputs": []
    },
    {
      "cell_type": "markdown",
      "metadata": {
        "id": "qmVIkS8dWQRb"
      },
      "source": [
        "## **Linear Regression**"
      ]
    },
    {
      "cell_type": "code",
      "metadata": {
        "colab": {
          "base_uri": "https://localhost:8080/"
        },
        "id": "-AA1e4sH0W2O",
        "outputId": "9e6a68fd-345f-468c-bbf9-c2773eb20676"
      },
      "source": [
        "#Installing scipy \n",
        "!pip install scipy"
      ],
      "execution_count": 301,
      "outputs": [
        {
          "output_type": "stream",
          "name": "stdout",
          "text": [
            "Requirement already satisfied: scipy in /usr/local/lib/python3.7/dist-packages (1.4.1)\n",
            "Requirement already satisfied: numpy>=1.13.3 in /usr/local/lib/python3.7/dist-packages (from scipy) (1.19.5)\n"
          ]
        }
      ]
    },
    {
      "cell_type": "code",
      "metadata": {
        "id": "m8KQHHaB4G03"
      },
      "source": [
        "#applying zscore to each values of independent variable \n",
        "from scipy.stats import zscore\n",
        "X = round(stock_df_dup[total_features].apply(zscore),3)\n"
      ],
      "execution_count": 302,
      "outputs": []
    },
    {
      "cell_type": "code",
      "metadata": {
        "colab": {
          "base_uri": "https://localhost:8080/",
          "height": 344
        },
        "id": "fllacO14Cf12",
        "outputId": "bc138322-c6d7-44e4-bc55-a59be389394c"
      },
      "source": [
        "X.head()"
      ],
      "execution_count": 303,
      "outputs": [
        {
          "output_type": "execute_result",
          "data": {
            "text/html": [
              "<div>\n",
              "<style scoped>\n",
              "    .dataframe tbody tr th:only-of-type {\n",
              "        vertical-align: middle;\n",
              "    }\n",
              "\n",
              "    .dataframe tbody tr th {\n",
              "        vertical-align: top;\n",
              "    }\n",
              "\n",
              "    .dataframe thead th {\n",
              "        text-align: right;\n",
              "    }\n",
              "</style>\n",
              "<table border=\"1\" class=\"dataframe\">\n",
              "  <thead>\n",
              "    <tr style=\"text-align: right;\">\n",
              "      <th></th>\n",
              "      <th>Low</th>\n",
              "      <th>Year_2005</th>\n",
              "      <th>Year_2006</th>\n",
              "      <th>Year_2007</th>\n",
              "      <th>Year_2008</th>\n",
              "      <th>Year_2009</th>\n",
              "      <th>Year_2010</th>\n",
              "      <th>Year_2011</th>\n",
              "      <th>Year_2012</th>\n",
              "      <th>Year_2013</th>\n",
              "      <th>Year_2014</th>\n",
              "      <th>Year_2015</th>\n",
              "      <th>Year_2016</th>\n",
              "      <th>Year_2017</th>\n",
              "      <th>Year_2018</th>\n",
              "      <th>Year_2019</th>\n",
              "      <th>Year_2020</th>\n",
              "    </tr>\n",
              "    <tr>\n",
              "      <th>Date</th>\n",
              "      <th></th>\n",
              "      <th></th>\n",
              "      <th></th>\n",
              "      <th></th>\n",
              "      <th></th>\n",
              "      <th></th>\n",
              "      <th></th>\n",
              "      <th></th>\n",
              "      <th></th>\n",
              "      <th></th>\n",
              "      <th></th>\n",
              "      <th></th>\n",
              "      <th></th>\n",
              "      <th></th>\n",
              "      <th></th>\n",
              "      <th></th>\n",
              "      <th></th>\n",
              "    </tr>\n",
              "  </thead>\n",
              "  <tbody>\n",
              "    <tr>\n",
              "      <th>2005-07-01</th>\n",
              "      <td>-0.920</td>\n",
              "      <td>5.462</td>\n",
              "      <td>-0.263</td>\n",
              "      <td>-0.263</td>\n",
              "      <td>-0.263</td>\n",
              "      <td>-0.263</td>\n",
              "      <td>-0.263</td>\n",
              "      <td>-0.263</td>\n",
              "      <td>-0.263</td>\n",
              "      <td>-0.263</td>\n",
              "      <td>-0.263</td>\n",
              "      <td>-0.263</td>\n",
              "      <td>-0.263</td>\n",
              "      <td>-0.263</td>\n",
              "      <td>-0.263</td>\n",
              "      <td>-0.263</td>\n",
              "      <td>-0.251</td>\n",
              "    </tr>\n",
              "    <tr>\n",
              "      <th>2005-08-01</th>\n",
              "      <td>-0.906</td>\n",
              "      <td>5.462</td>\n",
              "      <td>-0.263</td>\n",
              "      <td>-0.263</td>\n",
              "      <td>-0.263</td>\n",
              "      <td>-0.263</td>\n",
              "      <td>-0.263</td>\n",
              "      <td>-0.263</td>\n",
              "      <td>-0.263</td>\n",
              "      <td>-0.263</td>\n",
              "      <td>-0.263</td>\n",
              "      <td>-0.263</td>\n",
              "      <td>-0.263</td>\n",
              "      <td>-0.263</td>\n",
              "      <td>-0.263</td>\n",
              "      <td>-0.263</td>\n",
              "      <td>-0.251</td>\n",
              "    </tr>\n",
              "    <tr>\n",
              "      <th>2005-09-01</th>\n",
              "      <td>-0.909</td>\n",
              "      <td>5.462</td>\n",
              "      <td>-0.263</td>\n",
              "      <td>-0.263</td>\n",
              "      <td>-0.263</td>\n",
              "      <td>-0.263</td>\n",
              "      <td>-0.263</td>\n",
              "      <td>-0.263</td>\n",
              "      <td>-0.263</td>\n",
              "      <td>-0.263</td>\n",
              "      <td>-0.263</td>\n",
              "      <td>-0.263</td>\n",
              "      <td>-0.263</td>\n",
              "      <td>-0.263</td>\n",
              "      <td>-0.263</td>\n",
              "      <td>-0.263</td>\n",
              "      <td>-0.251</td>\n",
              "    </tr>\n",
              "    <tr>\n",
              "      <th>2005-10-01</th>\n",
              "      <td>-0.907</td>\n",
              "      <td>5.462</td>\n",
              "      <td>-0.263</td>\n",
              "      <td>-0.263</td>\n",
              "      <td>-0.263</td>\n",
              "      <td>-0.263</td>\n",
              "      <td>-0.263</td>\n",
              "      <td>-0.263</td>\n",
              "      <td>-0.263</td>\n",
              "      <td>-0.263</td>\n",
              "      <td>-0.263</td>\n",
              "      <td>-0.263</td>\n",
              "      <td>-0.263</td>\n",
              "      <td>-0.263</td>\n",
              "      <td>-0.263</td>\n",
              "      <td>-0.263</td>\n",
              "      <td>-0.251</td>\n",
              "    </tr>\n",
              "    <tr>\n",
              "      <th>2005-11-01</th>\n",
              "      <td>-0.902</td>\n",
              "      <td>5.462</td>\n",
              "      <td>-0.263</td>\n",
              "      <td>-0.263</td>\n",
              "      <td>-0.263</td>\n",
              "      <td>-0.263</td>\n",
              "      <td>-0.263</td>\n",
              "      <td>-0.263</td>\n",
              "      <td>-0.263</td>\n",
              "      <td>-0.263</td>\n",
              "      <td>-0.263</td>\n",
              "      <td>-0.263</td>\n",
              "      <td>-0.263</td>\n",
              "      <td>-0.263</td>\n",
              "      <td>-0.263</td>\n",
              "      <td>-0.263</td>\n",
              "      <td>-0.251</td>\n",
              "    </tr>\n",
              "  </tbody>\n",
              "</table>\n",
              "</div>"
            ],
            "text/plain": [
              "              Low  Year_2005  Year_2006  ...  Year_2018  Year_2019  Year_2020\n",
              "Date                                     ...                                 \n",
              "2005-07-01 -0.920      5.462     -0.263  ...     -0.263     -0.263     -0.251\n",
              "2005-08-01 -0.906      5.462     -0.263  ...     -0.263     -0.263     -0.251\n",
              "2005-09-01 -0.909      5.462     -0.263  ...     -0.263     -0.263     -0.251\n",
              "2005-10-01 -0.907      5.462     -0.263  ...     -0.263     -0.263     -0.251\n",
              "2005-11-01 -0.902      5.462     -0.263  ...     -0.263     -0.263     -0.251\n",
              "\n",
              "[5 rows x 17 columns]"
            ]
          },
          "metadata": {},
          "execution_count": 303
        }
      ]
    },
    {
      "cell_type": "code",
      "metadata": {
        "id": "F4dTfEysC6ft"
      },
      "source": [
        "#applying log on dependent variable \n",
        "y = np.log10(stock_df_dup['Close'])"
      ],
      "execution_count": 304,
      "outputs": []
    },
    {
      "cell_type": "code",
      "metadata": {
        "id": "Mjmk-5lgFrTp"
      },
      "source": [
        "#Importing libraries\n",
        "from numpy import math\n",
        "from sklearn.model_selection import train_test_split\n",
        "from sklearn.metrics import r2_score\n",
        "from sklearn.metrics import mean_squared_error\n",
        "from sklearn.linear_model import LinearRegression, Lasso, Ridge, ElasticNet"
      ],
      "execution_count": 305,
      "outputs": []
    },
    {
      "cell_type": "code",
      "metadata": {
        "colab": {
          "base_uri": "https://localhost:8080/"
        },
        "id": "2SrPwkLJEXkh",
        "outputId": "23d7e569-ae35-4d0e-9172-43b8a3d842b4"
      },
      "source": [
        "#Split our data into train and test datasets \n",
        "\n",
        "X_train,X_test,y_train,y_test = train_test_split(X,y,test_size = 0.2,random_state = 0)\n",
        "print('X_train: ',X_train.shape)\n",
        "print('X_test: ',X_test.shape)\n",
        "print('y_train: ',y_train.shape)\n",
        "print('y_test: ',y_test.shape)"
      ],
      "execution_count": 306,
      "outputs": [
        {
          "output_type": "stream",
          "name": "stdout",
          "text": [
            "X_train:  (148, 17)\n",
            "X_test:  (37, 17)\n",
            "y_train:  (148,)\n",
            "y_test:  (37,)\n"
          ]
        }
      ]
    },
    {
      "cell_type": "code",
      "metadata": {
        "id": "9ZNm45tEjC2a"
      },
      "source": [
        "# making dataframes of training and testing dataset\n",
        "test_df = pd.DataFrame(10**y_test)\n",
        "test_df.rename(columns = {'Close':'Actual Closing Price'},inplace = True)\n",
        "train_df = pd.DataFrame(X_train,y_train)"
      ],
      "execution_count": 307,
      "outputs": []
    },
    {
      "cell_type": "code",
      "metadata": {
        "id": "r3h1JnV_btT2"
      },
      "source": [
        "#Applying Linear Regression \n",
        "lr = LinearRegression()\n",
        "reg = lr.fit(X_train,y_train)"
      ],
      "execution_count": 308,
      "outputs": []
    },
    {
      "cell_type": "code",
      "metadata": {
        "colab": {
          "base_uri": "https://localhost:8080/"
        },
        "id": "ZLG-J-nEcvP8",
        "outputId": "6fb56f97-120a-4552-b293-e93f96cc95aa"
      },
      "source": [
        "#Checking efficiency of training model\n",
        "reg.score(X_train,y_train)"
      ],
      "execution_count": 309,
      "outputs": [
        {
          "output_type": "execute_result",
          "data": {
            "text/plain": [
              "0.9403589632859228"
            ]
          },
          "metadata": {},
          "execution_count": 309
        }
      ]
    },
    {
      "cell_type": "code",
      "metadata": {
        "colab": {
          "base_uri": "https://localhost:8080/"
        },
        "id": "C6CqgWlddPPt",
        "outputId": "069a0e93-25b0-4915-aa1b-884bd7592427"
      },
      "source": [
        "#getting regression coefficients \n",
        "print('Intercept',reg.intercept_)\n",
        "print('Regressors',reg.coef_)"
      ],
      "execution_count": 310,
      "outputs": [
        {
          "output_type": "stream",
          "name": "stdout",
          "text": [
            "Intercept -58875444889.93408\n",
            "Regressors [3.05309444e-01 7.90575959e+12 1.09921214e+13 1.09921214e+13\n",
            " 1.09921214e+13 1.09921214e+13 1.09921214e+13 1.09921214e+13\n",
            " 1.09921214e+13 1.09921214e+13 1.09921214e+13 1.09921214e+13\n",
            " 1.09921214e+13 1.09921214e+13 1.09921214e+13 1.09921214e+13\n",
            " 1.05553484e+13]\n"
          ]
        }
      ]
    },
    {
      "cell_type": "code",
      "metadata": {
        "colab": {
          "base_uri": "https://localhost:8080/"
        },
        "id": "5o5Ep184d8Nt",
        "outputId": "ea14b49d-04ee-4ad8-9150-0354b76dbb23"
      },
      "source": [
        "#Predict y_test on the basis of train sets\n",
        "y_pred = reg.predict(X_test)\n",
        "print(\"Printed values of Y: \\n\",y_pred)"
      ],
      "execution_count": 311,
      "outputs": [
        {
          "output_type": "stream",
          "name": "stdout",
          "text": [
            "Printed values of Y: \n",
            " [1.41552734 2.13427734 1.83740234 2.10693359 1.79833984 1.53271484\n",
            " 2.40771484 1.24365234 1.09521484 2.31005859 2.53662109 1.97802734\n",
            " 2.16943359 1.71240234 2.67724609 2.47021484 1.82958984 1.40380859\n",
            " 2.25146484 1.75927734 1.33740234 2.02099609 2.14990234 1.77880859\n",
            " 2.34912109 1.79833984 2.45068359 1.09521484 2.00146484 1.69287109\n",
            " 2.71630859 2.46630859 1.87646484 2.21240234 1.55615234 1.75146484\n",
            " 2.49172211]\n"
          ]
        }
      ]
    },
    {
      "cell_type": "code",
      "metadata": {
        "id": "r46tv1VNl3QM"
      },
      "source": [
        "def evaluation_metrics(data):\n",
        "  MSE = mean_squared_error(y_test,data)\n",
        "  print(\"Mean Squared Error: \",MSE)\n",
        "  RMSE = np.sqrt(MSE)\n",
        "  print(\"Root Mean Squared Error: \",RMSE)\n",
        "  r2 = r2_score(y_test,data)\n",
        "  print(\"R2: \",r2)\n",
        "  adjusted_r2 = 1-(1-r2_score(y_test,data))*(X_test.shape[0]-1)/((X_test.shape[0]-X_test.shape[1]-1))\n",
        "  print(\"Adjusted R2: \",adjusted_r2)\n",
        "  return"
      ],
      "execution_count": 312,
      "outputs": []
    },
    {
      "cell_type": "code",
      "metadata": {
        "colab": {
          "base_uri": "https://localhost:8080/"
        },
        "id": "Bjbw12-LnfZW",
        "outputId": "8c1267ef-4dab-4080-f3eb-d467d152a21d"
      },
      "source": [
        "#getting our model accuracy\n",
        "evaluation_metrics(y_pred)"
      ],
      "execution_count": 313,
      "outputs": [
        {
          "output_type": "stream",
          "name": "stdout",
          "text": [
            "Mean Squared Error:  0.008367958757531737\n",
            "Root Mean Squared Error:  0.09147654758205372\n",
            "R2:  0.9550791607186839\n",
            "Adjusted R2:  0.9148868308354011\n"
          ]
        }
      ]
    },
    {
      "cell_type": "code",
      "metadata": {
        "colab": {
          "base_uri": "https://localhost:8080/",
          "height": 175
        },
        "id": "WNKvWkNpnOzg",
        "outputId": "ee91c3c1-8327-4306-ee8d-638b9f55ee35"
      },
      "source": [
        "test_df[\"LR Predicted Price\"] = 10**y_pred\n",
        "test_df.head(3)"
      ],
      "execution_count": 314,
      "outputs": [
        {
          "output_type": "execute_result",
          "data": {
            "text/html": [
              "<div>\n",
              "<style scoped>\n",
              "    .dataframe tbody tr th:only-of-type {\n",
              "        vertical-align: middle;\n",
              "    }\n",
              "\n",
              "    .dataframe tbody tr th {\n",
              "        vertical-align: top;\n",
              "    }\n",
              "\n",
              "    .dataframe thead th {\n",
              "        text-align: right;\n",
              "    }\n",
              "</style>\n",
              "<table border=\"1\" class=\"dataframe\">\n",
              "  <thead>\n",
              "    <tr style=\"text-align: right;\">\n",
              "      <th></th>\n",
              "      <th>Actual Closing Price</th>\n",
              "      <th>LR Predicted Price</th>\n",
              "    </tr>\n",
              "    <tr>\n",
              "      <th>Date</th>\n",
              "      <th></th>\n",
              "      <th></th>\n",
              "    </tr>\n",
              "  </thead>\n",
              "  <tbody>\n",
              "    <tr>\n",
              "      <th>2008-04-01</th>\n",
              "      <td>34.06</td>\n",
              "      <td>26.033187</td>\n",
              "    </tr>\n",
              "    <tr>\n",
              "      <th>2015-12-01</th>\n",
              "      <td>145.23</td>\n",
              "      <td>136.231439</td>\n",
              "    </tr>\n",
              "    <tr>\n",
              "      <th>2019-12-01</th>\n",
              "      <td>46.95</td>\n",
              "      <td>68.770526</td>\n",
              "    </tr>\n",
              "  </tbody>\n",
              "</table>\n",
              "</div>"
            ],
            "text/plain": [
              "            Actual Closing Price  LR Predicted Price\n",
              "Date                                                \n",
              "2008-04-01                 34.06           26.033187\n",
              "2015-12-01                145.23          136.231439\n",
              "2019-12-01                 46.95           68.770526"
            ]
          },
          "metadata": {},
          "execution_count": 314
        }
      ]
    },
    {
      "cell_type": "code",
      "metadata": {
        "colab": {
          "base_uri": "https://localhost:8080/",
          "height": 388
        },
        "id": "7q9rHqQFUU3l",
        "outputId": "d74a1054-bd49-41aa-ea01-8647d36d14ce"
      },
      "source": [
        "from sklearn.metrics import mean_absolute_percentage_error\n",
        "MAE = mean_absolute_percentage_error\n",
        "#Graph between Actual Close price and Predicted Price\n",
        "test_df.plot(figsize = (14,6))\n",
        "plt.grid(True)\n",
        "plt.xlabel('Date',fontsize = 14)\n",
        "plt.ylabel('Price (₹)',fontsize = 14)\n",
        "plt.title('Actual closing price vs Predicted Price by Linear Regression with MAE :{:.2f}%'.format(MAE(10**y_test,10**y_pred)),fontweight = 'bold',fontsize = 14)\n",
        "plt.legend()\n",
        "plt.show()"
      ],
      "execution_count": 315,
      "outputs": [
        {
          "output_type": "display_data",
          "data": {
            "image/png": "[encoded data removed]",
            "text/plain": [
              "<Figure size 1008x432 with 1 Axes>"
            ]
          },
          "metadata": {
            "needs_background": "light"
          }
        }
      ]
    },
    {
      "cell_type": "markdown",
      "metadata": {
        "id": "k1b6w0fHKn0R"
      },
      "source": [
        "## **LASSO REGRESSION**"
      ]
    },
    {
      "cell_type": "code",
      "metadata": {
        "colab": {
          "base_uri": "https://localhost:8080/"
        },
        "id": "jx1VCzK7Km0n",
        "outputId": "3218947d-c4de-46c8-8abe-7a366008e67c"
      },
      "source": [
        "lasso  = Lasso(alpha=0.0001 , max_iter= 5000)\n",
        "\n",
        "lasso.fit(X_train, y_train)"
      ],
      "execution_count": 352,
      "outputs": [
        {
          "output_type": "execute_result",
          "data": {
            "text/plain": [
              "Lasso(alpha=0.0001, max_iter=5000)"
            ]
          },
          "metadata": {},
          "execution_count": 352
        }
      ]
    },
    {
      "cell_type": "code",
      "metadata": {
        "colab": {
          "base_uri": "https://localhost:8080/"
        },
        "id": "m72j4CIOLd-L",
        "outputId": "0ce1dcd8-ca81-4a49-fddb-de4159384b6c"
      },
      "source": [
        "lasso.score(X_train, y_train)"
      ],
      "execution_count": 353,
      "outputs": [
        {
          "output_type": "execute_result",
          "data": {
            "text/plain": [
              "0.9457772741406169"
            ]
          },
          "metadata": {},
          "execution_count": 353
        }
      ]
    },
    {
      "cell_type": "code",
      "metadata": {
        "id": "Nv1hD6DkWbaC"
      },
      "source": [
        "y_pred_L = lasso.predict(X_test)"
      ],
      "execution_count": 318,
      "outputs": []
    },
    {
      "cell_type": "markdown",
      "metadata": {
        "id": "D6vcZPoOUXIL"
      },
      "source": [
        "### <b> Applying Cross Validation to train accurately because our dataset is too small, and to get the best α for Lasso we used Hyperparameter Tuning by <code>GridSearchCV()</code>.</b>  "
      ]
    },
    {
      "cell_type": "code",
      "metadata": {
        "colab": {
          "base_uri": "https://localhost:8080/"
        },
        "id": "h1sEUE9bLpYS",
        "outputId": "aa496abb-d377-4fcd-f590-464ecc192e57"
      },
      "source": [
        "# Cross Validation \n",
        "from sklearn.model_selection import GridSearchCV\n",
        "lasso = Lasso()\n",
        "parameters = {'alpha': [1e-15,1e-13,1e-10,1e-8,1e-5,1e-4,1e-3,1e-2,1e-1,1,5,0.0014]}\n",
        "lasso_regressor = GridSearchCV(lasso, parameters, scoring='neg_mean_squared_error', cv=5)\n",
        "lasso_regressor.fit(X_train, y_train)"
      ],
      "execution_count": 319,
      "outputs": [
        {
          "output_type": "execute_result",
          "data": {
            "text/plain": [
              "GridSearchCV(cv=5, estimator=Lasso(),\n",
              "             param_grid={'alpha': [1e-15, 1e-13, 1e-10, 1e-08, 1e-05, 0.0001,\n",
              "                                   0.001, 0.01, 0.1, 1, 5, 0.0014]},\n",
              "             scoring='neg_mean_squared_error')"
            ]
          },
          "metadata": {},
          "execution_count": 319
        }
      ]
    },
    {
      "cell_type": "code",
      "metadata": {
        "colab": {
          "base_uri": "https://localhost:8080/"
        },
        "id": "NcYmLcGTL0cB",
        "outputId": "dcb68f30-1aa8-41e8-9722-e2d3b2261606"
      },
      "source": [
        "print(\"Best fitted alpha value is :\" ,lasso_regressor.best_params_)\n",
        "print(\"\\nBy Using \",lasso_regressor.best_params_, \" Negative mean squared error : \", lasso_regressor.best_score_)"
      ],
      "execution_count": 320,
      "outputs": [
        {
          "output_type": "stream",
          "name": "stdout",
          "text": [
            "Best fitted alpha value is : {'alpha': 0.0014}\n",
            "\n",
            "By Using  {'alpha': 0.0014}  Negative mean squared error :  -0.01263071552015855\n"
          ]
        }
      ]
    },
    {
      "cell_type": "code",
      "metadata": {
        "id": "AZMEm5hTL2Sa"
      },
      "source": [
        "y_pred_lasso = lasso_regressor.predict(X_test)"
      ],
      "execution_count": 321,
      "outputs": []
    },
    {
      "cell_type": "code",
      "metadata": {
        "colab": {
          "base_uri": "https://localhost:8080/"
        },
        "id": "zbOtpR37MO_y",
        "outputId": "c6806d45-bde0-4154-de28-9b1806db2b54"
      },
      "source": [
        "#Getting evaluation metrics for Lasso\n",
        "evaluation_metrics(y_pred_lasso)"
      ],
      "execution_count": 322,
      "outputs": [
        {
          "output_type": "stream",
          "name": "stdout",
          "text": [
            "Mean Squared Error:  0.009376701436556797\n",
            "Root Mean Squared Error:  0.09683336943717696\n",
            "R2:  0.9496640327198869\n",
            "Adjusted R2:  0.9046265883113646\n"
          ]
        }
      ]
    },
    {
      "cell_type": "code",
      "metadata": {
        "colab": {
          "base_uri": "https://localhost:8080/",
          "height": 175
        },
        "id": "t3JE49-Y1Adh",
        "outputId": "54d11deb-b5b7-47bd-cd7c-c515f6ec4f80"
      },
      "source": [
        "# Introducing Data frame for Actual closing price and Lasso Predicted Closing Price \n",
        "test_df['Lasso Predicted Closing Price'] = 10**y_pred_lasso\n",
        "lasso_df = test_df.loc[:,['Actual Closing Price','Lasso Predicted Closing Price']]\n",
        "lasso_df.head(3)"
      ],
      "execution_count": 323,
      "outputs": [
        {
          "output_type": "execute_result",
          "data": {
            "text/html": [
              "<div>\n",
              "<style scoped>\n",
              "    .dataframe tbody tr th:only-of-type {\n",
              "        vertical-align: middle;\n",
              "    }\n",
              "\n",
              "    .dataframe tbody tr th {\n",
              "        vertical-align: top;\n",
              "    }\n",
              "\n",
              "    .dataframe thead th {\n",
              "        text-align: right;\n",
              "    }\n",
              "</style>\n",
              "<table border=\"1\" class=\"dataframe\">\n",
              "  <thead>\n",
              "    <tr style=\"text-align: right;\">\n",
              "      <th></th>\n",
              "      <th>Actual Closing Price</th>\n",
              "      <th>Lasso Predicted Closing Price</th>\n",
              "    </tr>\n",
              "    <tr>\n",
              "      <th>Date</th>\n",
              "      <th></th>\n",
              "      <th></th>\n",
              "    </tr>\n",
              "  </thead>\n",
              "  <tbody>\n",
              "    <tr>\n",
              "      <th>2008-04-01</th>\n",
              "      <td>34.06</td>\n",
              "      <td>26.365934</td>\n",
              "    </tr>\n",
              "    <tr>\n",
              "      <th>2015-12-01</th>\n",
              "      <td>145.23</td>\n",
              "      <td>144.313848</td>\n",
              "    </tr>\n",
              "    <tr>\n",
              "      <th>2019-12-01</th>\n",
              "      <td>46.95</td>\n",
              "      <td>59.849779</td>\n",
              "    </tr>\n",
              "  </tbody>\n",
              "</table>\n",
              "</div>"
            ],
            "text/plain": [
              "            Actual Closing Price  Lasso Predicted Closing Price\n",
              "Date                                                           \n",
              "2008-04-01                 34.06                      26.365934\n",
              "2015-12-01                145.23                     144.313848\n",
              "2019-12-01                 46.95                      59.849779"
            ]
          },
          "metadata": {},
          "execution_count": 323
        }
      ]
    },
    {
      "cell_type": "code",
      "metadata": {
        "colab": {
          "base_uri": "https://localhost:8080/",
          "height": 388
        },
        "id": "dH4SkGGhL6YK",
        "outputId": "ca179319-387e-414b-ff24-fb783235648d"
      },
      "source": [
        "#Graph between Actual Close price and Lasso Predicted Price\n",
        "lasso_df.plot(figsize = (14,6))\n",
        "plt.grid(True)\n",
        "plt.xlabel('Date',fontsize = 14)\n",
        "plt.ylabel('Price (₹)',fontsize = 14)\n",
        "plt.title('Actual closing price vs Lasso Predicted Price with MAE :{:.2f}%'.format(MAE(10**y_test,10**y_pred_lasso)),fontweight = 'bold',fontsize = 14)\n",
        "plt.legend()\n",
        "plt.show()"
      ],
      "execution_count": 324,
      "outputs": [
        {
          "output_type": "display_data",
          "data": {
            "image/png": "[encoded data removed]",
            "text/plain": [
              "<Figure size 1008x432 with 1 Axes>"
            ]
          },
          "metadata": {
            "needs_background": "light"
          }
        }
      ]
    },
    {
      "cell_type": "code",
      "metadata": {
        "id": "o1FE_6SAaX7h"
      },
      "source": [
        ""
      ],
      "execution_count": 324,
      "outputs": []
    },
    {
      "cell_type": "markdown",
      "metadata": {
        "id": "orl9aMDRlJk7"
      },
      "source": [
        "## **Ridge Regression**"
      ]
    },
    {
      "cell_type": "code",
      "metadata": {
        "colab": {
          "base_uri": "https://localhost:8080/"
        },
        "id": "iRlLE9R9AWKg",
        "outputId": "bdc8f542-b160-4d02-d8f4-ee09c4e625d9"
      },
      "source": [
        "#fitting ridge regression\n",
        "ridge = Ridge(alpha= 0.1, max_iter = 5000)\n",
        "\n",
        "ridge.fit(X_train,y_train)"
      ],
      "execution_count": 325,
      "outputs": [
        {
          "output_type": "execute_result",
          "data": {
            "text/plain": [
              "Ridge(alpha=0.1, max_iter=5000)"
            ]
          },
          "metadata": {},
          "execution_count": 325
        }
      ]
    },
    {
      "cell_type": "code",
      "metadata": {
        "colab": {
          "base_uri": "https://localhost:8080/"
        },
        "id": "Wz1lQs7PAt07",
        "outputId": "ed7321e2-07c5-4f5b-ee8f-8c56956cf077"
      },
      "source": [
        "ridge.score(X_train,y_train)"
      ],
      "execution_count": 326,
      "outputs": [
        {
          "output_type": "execute_result",
          "data": {
            "text/plain": [
              "0.9457766805321504"
            ]
          },
          "metadata": {},
          "execution_count": 326
        }
      ]
    },
    {
      "cell_type": "code",
      "metadata": {
        "id": "T4RzeU7TBrTA"
      },
      "source": [
        "y_pred_r = ridge.predict(X_test)"
      ],
      "execution_count": 327,
      "outputs": []
    },
    {
      "cell_type": "code",
      "metadata": {
        "colab": {
          "base_uri": "https://localhost:8080/"
        },
        "id": "b6DOmZm4B7sB",
        "outputId": "b4414121-1f00-4ef5-f613-0b81b6d90e85"
      },
      "source": [
        "#getting error matrix\n",
        "evaluation_metrics(y_pred_r)"
      ],
      "execution_count": 328,
      "outputs": [
        {
          "output_type": "stream",
          "name": "stdout",
          "text": [
            "Mean Squared Error:  0.009365359873489867\n",
            "Root Mean Squared Error:  0.0967747894520565\n",
            "R2:  0.9497249164487018\n",
            "Adjusted R2:  0.9047419469554351\n"
          ]
        }
      ]
    },
    {
      "cell_type": "code",
      "metadata": {
        "colab": {
          "base_uri": "https://localhost:8080/"
        },
        "id": "0j8I5YA8MXdj",
        "outputId": "80b4e009-fb9d-4234-e2f5-f0bb4c57af96"
      },
      "source": [
        "# Applying ridge regression to penalize our parameters\n",
        "ridge = Ridge()\n",
        "parameters = {'alpha': [1e-15,1e-10,1e-8,1e-5,1e-4,1e-3,1e-2,1,2,3,5,10,20,30,40,45,50,55,60,100]}\n",
        "ridge_regressor = GridSearchCV(ridge, parameters, scoring='neg_mean_squared_error', cv=5)\n",
        "ridge_regressor.fit(X_train,y_train)"
      ],
      "execution_count": 329,
      "outputs": [
        {
          "output_type": "execute_result",
          "data": {
            "text/plain": [
              "GridSearchCV(cv=5, estimator=Ridge(),\n",
              "             param_grid={'alpha': [1e-15, 1e-10, 1e-08, 1e-05, 0.0001, 0.001,\n",
              "                                   0.01, 1, 2, 3, 5, 10, 20, 30, 40, 45, 50, 55,\n",
              "                                   60, 100]},\n",
              "             scoring='neg_mean_squared_error')"
            ]
          },
          "metadata": {},
          "execution_count": 329
        }
      ]
    },
    {
      "cell_type": "code",
      "metadata": {
        "colab": {
          "base_uri": "https://localhost:8080/"
        },
        "id": "dnSsr7RHMc2H",
        "outputId": "49551e1e-d0a7-435a-85f1-217d10e756cb"
      },
      "source": [
        "print(\"Best fitted alpha value is :\" ,ridge_regressor.best_params_)\n",
        "print(\"\\nUsing \",ridge_regressor.best_params_, \" Negative mean squared error: \", ridge_regressor.best_score_)"
      ],
      "execution_count": 330,
      "outputs": [
        {
          "output_type": "stream",
          "name": "stdout",
          "text": [
            "Best fitted alpha value is : {'alpha': 3}\n",
            "\n",
            "Using  {'alpha': 3}  Negative mean squared error:  -0.012538304166010362\n"
          ]
        }
      ]
    },
    {
      "cell_type": "code",
      "metadata": {
        "id": "LAXqJJ53Mhem"
      },
      "source": [
        "y_pred_ridge = ridge_regressor.predict(X_test)"
      ],
      "execution_count": 331,
      "outputs": []
    },
    {
      "cell_type": "code",
      "metadata": {
        "colab": {
          "base_uri": "https://localhost:8080/"
        },
        "id": "hwzpTJkrMmxD",
        "outputId": "08e59304-d58d-4d60-9741-c34a4b618637"
      },
      "source": [
        "#Getting evaluation metrics for Ridge\n",
        "evaluation_metrics(y_pred_ridge)"
      ],
      "execution_count": 332,
      "outputs": [
        {
          "output_type": "stream",
          "name": "stdout",
          "text": [
            "Mean Squared Error:  0.008847513525776934\n",
            "Root Mean Squared Error:  0.09406122222136461\n",
            "R2:  0.9525048169276678\n",
            "Adjusted R2:  0.9100091268103179\n"
          ]
        }
      ]
    },
    {
      "cell_type": "code",
      "metadata": {
        "colab": {
          "base_uri": "https://localhost:8080/",
          "height": 175
        },
        "id": "gQdDlSjo0v9q",
        "outputId": "7a2f3e8f-4ae2-4f90-e7bf-567707bc1583"
      },
      "source": [
        "#introducing dataframe for Ridge redicted price\n",
        "test_df['Ridge Predicted Closing Price'] = 10**y_pred_ridge\n",
        "ridge_df = test_df.loc[:,['Actual Closing Price','Ridge Predicted Closing Price']]\n",
        "ridge_df.head(3)"
      ],
      "execution_count": 333,
      "outputs": [
        {
          "output_type": "execute_result",
          "data": {
            "text/html": [
              "<div>\n",
              "<style scoped>\n",
              "    .dataframe tbody tr th:only-of-type {\n",
              "        vertical-align: middle;\n",
              "    }\n",
              "\n",
              "    .dataframe tbody tr th {\n",
              "        vertical-align: top;\n",
              "    }\n",
              "\n",
              "    .dataframe thead th {\n",
              "        text-align: right;\n",
              "    }\n",
              "</style>\n",
              "<table border=\"1\" class=\"dataframe\">\n",
              "  <thead>\n",
              "    <tr style=\"text-align: right;\">\n",
              "      <th></th>\n",
              "      <th>Actual Closing Price</th>\n",
              "      <th>Ridge Predicted Closing Price</th>\n",
              "    </tr>\n",
              "    <tr>\n",
              "      <th>Date</th>\n",
              "      <th></th>\n",
              "      <th></th>\n",
              "    </tr>\n",
              "  </thead>\n",
              "  <tbody>\n",
              "    <tr>\n",
              "      <th>2008-04-01</th>\n",
              "      <td>34.06</td>\n",
              "      <td>26.142190</td>\n",
              "    </tr>\n",
              "    <tr>\n",
              "      <th>2015-12-01</th>\n",
              "      <td>145.23</td>\n",
              "      <td>146.673951</td>\n",
              "    </tr>\n",
              "    <tr>\n",
              "      <th>2019-12-01</th>\n",
              "      <td>46.95</td>\n",
              "      <td>64.154295</td>\n",
              "    </tr>\n",
              "  </tbody>\n",
              "</table>\n",
              "</div>"
            ],
            "text/plain": [
              "            Actual Closing Price  Ridge Predicted Closing Price\n",
              "Date                                                           \n",
              "2008-04-01                 34.06                      26.142190\n",
              "2015-12-01                145.23                     146.673951\n",
              "2019-12-01                 46.95                      64.154295"
            ]
          },
          "metadata": {},
          "execution_count": 333
        }
      ]
    },
    {
      "cell_type": "code",
      "metadata": {
        "colab": {
          "base_uri": "https://localhost:8080/",
          "height": 388
        },
        "id": "bZ6O4_xrKFqK",
        "outputId": "b92eef7b-f2d2-4c8d-cb44-8e6da28244c2"
      },
      "source": [
        "#Graph between Actual Close price and Ridge Predicted Price\n",
        "ridge_df.plot(figsize = (14,6))\n",
        "plt.grid(True)\n",
        "plt.xlabel('Date',fontsize = 14)\n",
        "plt.ylabel('Price (₹)',fontsize = 14)\n",
        "plt.title('Actual closing price vs Ridge Predicted Price with MAE :{:.2f}%'.format(MAE(10**y_test,10**y_pred_ridge)),fontweight = 'bold',fontsize = 14)\n",
        "plt.legend()\n",
        "plt.show()"
      ],
      "execution_count": 334,
      "outputs": [
        {
          "output_type": "display_data",
          "data": {
            "image/png": "[encoded data removed]",
            "text/plain": [
              "<Figure size 1008x432 with 1 Axes>"
            ]
          },
          "metadata": {
            "needs_background": "light"
          }
        }
      ]
    },
    {
      "cell_type": "markdown",
      "metadata": {
        "id": "J83wzzKfq92O"
      },
      "source": [
        "## **ElasticNet Regression Model**"
      ]
    },
    {
      "cell_type": "code",
      "metadata": {
        "id": "cvWidBB6MsdK"
      },
      "source": [
        "from sklearn.linear_model import ElasticNet\n",
        "elasticnet = ElasticNet(alpha=0.1, l1_ratio=0.5)"
      ],
      "execution_count": 335,
      "outputs": []
    },
    {
      "cell_type": "code",
      "metadata": {
        "colab": {
          "base_uri": "https://localhost:8080/"
        },
        "id": "ViAJ48swMwC4",
        "outputId": "a285ccdb-d465-4cc4-c352-28e6060055cb"
      },
      "source": [
        "elasticnet.fit(X_train,y_train)"
      ],
      "execution_count": 336,
      "outputs": [
        {
          "output_type": "execute_result",
          "data": {
            "text/plain": [
              "ElasticNet(alpha=0.1)"
            ]
          },
          "metadata": {},
          "execution_count": 336
        }
      ]
    },
    {
      "cell_type": "code",
      "metadata": {
        "colab": {
          "base_uri": "https://localhost:8080/"
        },
        "id": "455JgHsqMzO2",
        "outputId": "8b617922-3ecc-400d-f637-18a1390ccb94"
      },
      "source": [
        "elasticnet.score(X_train, y_train)"
      ],
      "execution_count": 337,
      "outputs": [
        {
          "output_type": "execute_result",
          "data": {
            "text/plain": [
              "0.8264020056976695"
            ]
          },
          "metadata": {},
          "execution_count": 337
        }
      ]
    },
    {
      "cell_type": "code",
      "metadata": {
        "colab": {
          "base_uri": "https://localhost:8080/"
        },
        "id": "kph_B4InkbsX",
        "outputId": "03879409-5b0c-4ca9-b430-5a5bf99a9c64"
      },
      "source": [
        "print('Intercept of Elastic Model: ',elasticnet.intercept_)\n",
        "print('Regressors of Elastic Model:\\n ',elasticnet.coef_)"
      ],
      "execution_count": 338,
      "outputs": [
        {
          "output_type": "stream",
          "name": "stdout",
          "text": [
            "Intercept of Elastic Model:  1.8229123183603404\n",
            "Regressors of Elastic Model:\n",
            "  [ 0.29700938 -0.02212586 -0.0330104  -0.         -0.00727482 -0.00181328\n",
            "  0.          0.          0.          0.          0.          0.\n",
            "  0.         -0.          0.          0.         -0.02971941]\n"
          ]
        }
      ]
    },
    {
      "cell_type": "code",
      "metadata": {
        "id": "n1YbDfkLM338"
      },
      "source": [
        "y_pred_en = elasticnet.predict(X_test)"
      ],
      "execution_count": 339,
      "outputs": []
    },
    {
      "cell_type": "code",
      "metadata": {
        "colab": {
          "base_uri": "https://localhost:8080/"
        },
        "id": "DnDGrK00M9T_",
        "outputId": "c475438c-63fc-4e63-f5e3-9d77aaff9fb3"
      },
      "source": [
        "#getting evaluation metrics for Ridge\n",
        "evaluation_metrics(y_pred_en)"
      ],
      "execution_count": 340,
      "outputs": [
        {
          "output_type": "stream",
          "name": "stdout",
          "text": [
            "Mean Squared Error:  0.030334217104865353\n",
            "Root Mean Squared Error:  0.17416721018855802\n",
            "R2:  0.8371599895774178\n",
            "Adjusted R2:  0.6914610328835284\n"
          ]
        }
      ]
    },
    {
      "cell_type": "code",
      "metadata": {
        "colab": {
          "base_uri": "https://localhost:8080/",
          "height": 338
        },
        "id": "j01RYd7AqWSf",
        "outputId": "d05b7b5a-b7be-40d7-9fa1-833744d44276"
      },
      "source": [
        "plt.figure(figsize=(8,5))\n",
        "plt.plot(10**y_pred_en,color = 'brown')\n",
        "plt.plot(np.array(10**y_test),color = 'blue')\n",
        "plt.legend([\"Predicted\",\"Actual\"])\n",
        "plt.ylabel('Close Price (₹)',fontsize = 14)\n",
        "plt.title('ElasticNet Predicted vs Actual with MAE = {:.2f}%'.format(MAE(10**y_test,10**y_pred_en)),fontweight = 'bold',fontsize = 16)\n",
        "plt.show()"
      ],
      "execution_count": 341,
      "outputs": [
        {
          "output_type": "display_data",
          "data": {
            "image/png": "[encoded data removed]",
            "text/plain": [
              "<Figure size 576x360 with 1 Axes>"
            ]
          },
          "metadata": {
            "needs_background": "light"
          }
        }
      ]
    },
    {
      "cell_type": "markdown",
      "metadata": {
        "id": "LVOLFZWLp0zb"
      },
      "source": [
        "### <b>Applying Cross Validation and Hyperparameter Tuning in ElasticNet Regression Model"
      ]
    },
    {
      "cell_type": "code",
      "metadata": {
        "colab": {
          "base_uri": "https://localhost:8080/"
        },
        "id": "gvwMh3SzNBKc",
        "outputId": "895dbb1f-7605-48ef-ec83-5fa4905d3663"
      },
      "source": [
        "elastic = ElasticNet()\n",
        "parameters = {'alpha': [1e-15,1e-13,1e-10,1e-8,1e-5,1e-4,1e-3,1e-2,1e-1,1,5,10,40,45,50],'l1_ratio':[0.3,0.4,0.5,0.6,0.7,0.8]}\n",
        "elastic_regressor = GridSearchCV(elastic, parameters, scoring='neg_mean_squared_error',cv=5)\n",
        "elastic_regressor.fit(X_train, y_train)"
      ],
      "execution_count": 342,
      "outputs": [
        {
          "output_type": "execute_result",
          "data": {
            "text/plain": [
              "GridSearchCV(cv=5, estimator=ElasticNet(),\n",
              "             param_grid={'alpha': [1e-15, 1e-13, 1e-10, 1e-08, 1e-05, 0.0001,\n",
              "                                   0.001, 0.01, 0.1, 1, 5, 10, 40, 45, 50],\n",
              "                         'l1_ratio': [0.3, 0.4, 0.5, 0.6, 0.7, 0.8]},\n",
              "             scoring='neg_mean_squared_error')"
            ]
          },
          "metadata": {},
          "execution_count": 342
        }
      ]
    },
    {
      "cell_type": "code",
      "metadata": {
        "colab": {
          "base_uri": "https://localhost:8080/"
        },
        "id": "wmrygeuNNDZx",
        "outputId": "6a66f4aa-98aa-4aaa-f55c-ab9cc1f11bfd"
      },
      "source": [
        "print(\"Best fitted alpha value is :\" ,elastic_regressor.best_params_)\n",
        "print(\"\\nBy Using \",elastic_regressor.best_params_, \" Negative mean squared error is: \", elastic_regressor.best_score_)"
      ],
      "execution_count": 343,
      "outputs": [
        {
          "output_type": "stream",
          "name": "stdout",
          "text": [
            "Best fitted alpha value is : {'alpha': 0.01, 'l1_ratio': 0.3}\n",
            "\n",
            "By Using  {'alpha': 0.01, 'l1_ratio': 0.3}  Negative mean squared error is:  -0.01233335084816529\n"
          ]
        }
      ]
    },
    {
      "cell_type": "code",
      "metadata": {
        "id": "rrcY7p4WNJoS"
      },
      "source": [
        "y_pred_elastic = elastic_regressor.predict(X_test)"
      ],
      "execution_count": 344,
      "outputs": []
    },
    {
      "cell_type": "code",
      "metadata": {
        "colab": {
          "base_uri": "https://localhost:8080/"
        },
        "id": "IsbVwnGqNMYy",
        "outputId": "ed45d184-8eb5-4d29-b19e-b79516af4873"
      },
      "source": [
        "#Getting Evaluation metrics for ElasticNet after applying Cross-Validation\n",
        "evaluation_metrics(y_pred_elastic)"
      ],
      "execution_count": 345,
      "outputs": [
        {
          "output_type": "stream",
          "name": "stdout",
          "text": [
            "Mean Squared Error:  0.009096377849834535\n",
            "Root Mean Squared Error:  0.09537493302663198\n",
            "R2:  0.9511688645612937\n",
            "Adjusted R2:  0.9074778486424512\n"
          ]
        }
      ]
    },
    {
      "cell_type": "code",
      "metadata": {
        "colab": {
          "base_uri": "https://localhost:8080/",
          "height": 175
        },
        "id": "iDuJI4IV1Vpd",
        "outputId": "340329b0-bf4d-4775-e9f5-9dfa8e8c468f"
      },
      "source": [
        "# Inroducing dataframe for Actual closing price and ElasticNet predicted Closing Price \n",
        "test_df['ENet Predicted Closing Price'] = 10**y_pred_elastic\n",
        "Enet_df = test_df.loc[:,['Actual Closing Price','ENet Predicted Closing Price']]\n",
        "Enet_df.head(3)"
      ],
      "execution_count": 346,
      "outputs": [
        {
          "output_type": "execute_result",
          "data": {
            "text/html": [
              "<div>\n",
              "<style scoped>\n",
              "    .dataframe tbody tr th:only-of-type {\n",
              "        vertical-align: middle;\n",
              "    }\n",
              "\n",
              "    .dataframe tbody tr th {\n",
              "        vertical-align: top;\n",
              "    }\n",
              "\n",
              "    .dataframe thead th {\n",
              "        text-align: right;\n",
              "    }\n",
              "</style>\n",
              "<table border=\"1\" class=\"dataframe\">\n",
              "  <thead>\n",
              "    <tr style=\"text-align: right;\">\n",
              "      <th></th>\n",
              "      <th>Actual Closing Price</th>\n",
              "      <th>ENet Predicted Closing Price</th>\n",
              "    </tr>\n",
              "    <tr>\n",
              "      <th>Date</th>\n",
              "      <th></th>\n",
              "      <th></th>\n",
              "    </tr>\n",
              "  </thead>\n",
              "  <tbody>\n",
              "    <tr>\n",
              "      <th>2008-04-01</th>\n",
              "      <td>34.06</td>\n",
              "      <td>26.763841</td>\n",
              "    </tr>\n",
              "    <tr>\n",
              "      <th>2015-12-01</th>\n",
              "      <td>145.23</td>\n",
              "      <td>142.542580</td>\n",
              "    </tr>\n",
              "    <tr>\n",
              "      <th>2019-12-01</th>\n",
              "      <td>46.95</td>\n",
              "      <td>59.677823</td>\n",
              "    </tr>\n",
              "  </tbody>\n",
              "</table>\n",
              "</div>"
            ],
            "text/plain": [
              "            Actual Closing Price  ENet Predicted Closing Price\n",
              "Date                                                          \n",
              "2008-04-01                 34.06                     26.763841\n",
              "2015-12-01                145.23                    142.542580\n",
              "2019-12-01                 46.95                     59.677823"
            ]
          },
          "metadata": {},
          "execution_count": 346
        }
      ]
    },
    {
      "cell_type": "code",
      "metadata": {
        "colab": {
          "base_uri": "https://localhost:8080/",
          "height": 388
        },
        "id": "OBfOgpW4NQ9U",
        "outputId": "50e917e0-d557-4d3f-93b1-4674bf518606"
      },
      "source": [
        "#Graph between Actual Close price and Elastic Predicted Price\n",
        "Enet_df.plot(figsize = (14,6))\n",
        "plt.grid(True)\n",
        "plt.xlabel('Date',fontsize = 14)\n",
        "plt.ylabel('Price (₹)',fontsize = 14)\n",
        "plt.title('Actual closing price vs ElasticNet Predicted Price with MAE :{:.2f}%'.format(MAE(10**y_test,10**y_pred_elastic)),fontweight = 'bold',fontsize = 14)\n",
        "plt.legend()\n",
        "plt.show()"
      ],
      "execution_count": 347,
      "outputs": [
        {
          "output_type": "display_data",
          "data": {
            "image/png": "[encoded data removed]",
            "text/plain": [
              "<Figure size 1008x432 with 1 Axes>"
            ]
          },
          "metadata": {
            "needs_background": "light"
          }
        }
      ]
    },
    {
      "cell_type": "code",
      "metadata": {
        "colab": {
          "base_uri": "https://localhost:8080/",
          "height": 388
        },
        "id": "Zlwk3KIR0JcF",
        "outputId": "271a19e5-757c-48e3-9c17-792368109f7a"
      },
      "source": [
        "#Graph between Actual Close price and Predicted Price by All Algorithms.\n",
        "test_df.plot(figsize = (14,6))\n",
        "plt.grid(True)\n",
        "plt.xlabel('Date',fontsize = 14)\n",
        "plt.ylabel('Price (₹)',fontsize = 14)\n",
        "plt.title('Actual closing price vs Predicted Price By All Algorthms',fontweight = 'bold',fontsize = 14)\n",
        "plt.legend()\n",
        "plt.show()"
      ],
      "execution_count": 348,
      "outputs": [
        {
          "output_type": "display_data",
          "data": {
            "image/png": "[encoded data removed]",
            "text/plain": [
              "<Figure size 1008x432 with 1 Axes>"
            ]
          },
          "metadata": {
            "needs_background": "light"
          }
        }
      ]
    },
    {
      "cell_type": "code",
      "metadata": {
        "colab": {
          "base_uri": "https://localhost:8080/",
          "height": 206
        },
        "id": "fEcUkiYqkpu8",
        "outputId": "8bc37999-9667-48d2-9132-a36965b5d2a3"
      },
      "source": [
        "#Comparison between algorithms \n",
        "accuracy_list = ['MSE','RMSE',\"R2\",\"Adjusted_R2\"]\n",
        "reg_models = [reg,ridge,lasso,elasticnet]\n",
        "\n",
        "def error_matrix(Y):\n",
        "  MSE = mean_squared_error(y_test,Y)\n",
        "  RMSE = np.sqrt(MSE)\n",
        "  r_2 = r2_score(y_test,Y)\n",
        "  adj_r2 = 1-(1-r2_score(y_test,Y))*(X_test.shape[0]-1)/((X_test.shape[0]-X_test.shape[1]-1))\n",
        "\n",
        "  return MSE,RMSE,r_2,adj_r2\n",
        "\n",
        "def training_accuracy(models):\n",
        "  train_accuracy = []\n",
        "  for model in reg_models:\n",
        "    model.fit(X_train,y_train)\n",
        "    train_accuracy.append(model.score(X_train,y_train))\n",
        "  return train_accuracy\n",
        "\n",
        "\n",
        "\n",
        "accuracy_df = pd.DataFrame(index = accuracy_list)\n",
        "accuracy_df['Linear Regression'] = error_matrix(y_pred)\n",
        "accuracy_df['Ridge'] = error_matrix(y_pred_ridge)\n",
        "accuracy_df['Lasso'] = error_matrix(y_pred_lasso)\n",
        "accuracy_df['ElasticNet'] = error_matrix(y_pred_elastic)\n",
        "accuracy_df.loc['Training Accuracy'] = training_accuracy(reg_models)\n",
        "accuracy_df"
      ],
      "execution_count": 354,
      "outputs": [
        {
          "output_type": "execute_result",
          "data": {
            "text/html": [
              "<div>\n",
              "<style scoped>\n",
              "    .dataframe tbody tr th:only-of-type {\n",
              "        vertical-align: middle;\n",
              "    }\n",
              "\n",
              "    .dataframe tbody tr th {\n",
              "        vertical-align: top;\n",
              "    }\n",
              "\n",
              "    .dataframe thead th {\n",
              "        text-align: right;\n",
              "    }\n",
              "</style>\n",
              "<table border=\"1\" class=\"dataframe\">\n",
              "  <thead>\n",
              "    <tr style=\"text-align: right;\">\n",
              "      <th></th>\n",
              "      <th>Linear Regression</th>\n",
              "      <th>Ridge</th>\n",
              "      <th>Lasso</th>\n",
              "      <th>ElasticNet</th>\n",
              "    </tr>\n",
              "  </thead>\n",
              "  <tbody>\n",
              "    <tr>\n",
              "      <th>MSE</th>\n",
              "      <td>0.008368</td>\n",
              "      <td>0.008848</td>\n",
              "      <td>0.009377</td>\n",
              "      <td>0.009096</td>\n",
              "    </tr>\n",
              "    <tr>\n",
              "      <th>RMSE</th>\n",
              "      <td>0.091477</td>\n",
              "      <td>0.094061</td>\n",
              "      <td>0.096833</td>\n",
              "      <td>0.095375</td>\n",
              "    </tr>\n",
              "    <tr>\n",
              "      <th>R2</th>\n",
              "      <td>0.955079</td>\n",
              "      <td>0.952505</td>\n",
              "      <td>0.949664</td>\n",
              "      <td>0.951169</td>\n",
              "    </tr>\n",
              "    <tr>\n",
              "      <th>Adjusted_R2</th>\n",
              "      <td>0.914887</td>\n",
              "      <td>0.910009</td>\n",
              "      <td>0.904627</td>\n",
              "      <td>0.907478</td>\n",
              "    </tr>\n",
              "    <tr>\n",
              "      <th>Training Accuracy</th>\n",
              "      <td>0.940359</td>\n",
              "      <td>0.945655</td>\n",
              "      <td>0.945777</td>\n",
              "      <td>0.826402</td>\n",
              "    </tr>\n",
              "  </tbody>\n",
              "</table>\n",
              "</div>"
            ],
            "text/plain": [
              "                   Linear Regression     Ridge     Lasso  ElasticNet\n",
              "MSE                         0.008368  0.008848  0.009377    0.009096\n",
              "RMSE                        0.091477  0.094061  0.096833    0.095375\n",
              "R2                          0.955079  0.952505  0.949664    0.951169\n",
              "Adjusted_R2                 0.914887  0.910009  0.904627    0.907478\n",
              "Training Accuracy           0.940359  0.945655  0.945777    0.826402"
            ]
          },
          "metadata": {},
          "execution_count": 354
        }
      ]
    },
    {
      "cell_type": "markdown",
      "metadata": {
        "id": "hTLLhqDzEG83"
      },
      "source": [
        "### <b> Conclusions</b>\n",
        "* Target Variable is strongly dependent on Independent Variables.\n",
        "* Dummy variables improved training accuracy, R2 and Adjusted R2 for all the models\n",
        "* Linear Regression and Lasso are performing better than other models with training accuracy **94.0359%** and **94.45777%** respectively.\n",
        "* Apart from Linear Regression and Lasso, Ridge and Elastic Net is also performing better but they have less training accuracy.\n",
        "* Ridge and ElasticNet is performing far much better after Applying Hyperparameter Tuning and Cross validation.\n",
        "* R2 and Adjusted R2 are around <b>95</b> and <b>91%</b> in each model."
      ]
    }
  ]
}